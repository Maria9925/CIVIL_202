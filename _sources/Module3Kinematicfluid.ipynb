{
 "cells": [
  {
   "cell_type": "markdown",
   "id": "85fd5bb0",
   "metadata": {
    "tags": [
     "remove-input"
    ]
   },
   "source": [
    "# Module 3: Kinematics and Conservation of Mass"
   ]
  },
  {
   "cell_type": "markdown",
   "id": "f5ea640e-f536-4633-8b8f-cc4d589c2f37",
   "metadata": {},
   "source": [
    "The exercises in this module range from lecture 10 to lecture 12."
   ]
  },
  {
   "cell_type": "code",
   "execution_count": 18,
   "id": "b4d7e2b6",
   "metadata": {
    "tags": [
     "remove-input"
    ]
   },
   "outputs": [],
   "source": [
    "!pip install handcalcs -q\n",
    "!pip install Pillow -q\n",
    "!pip install sympy -q"
   ]
  },
  {
   "cell_type": "code",
   "execution_count": 19,
   "id": "cf7d0302",
   "metadata": {
    "jupyter": {
     "source_hidden": true
    },
    "scrolled": true,
    "tags": [
     "remove-input"
    ]
   },
   "outputs": [],
   "source": [
    "import handcalcs.render\n",
    "from sympy import symbols, Eq, solve\n",
    "from math import sqrt,pi, cos, sin, radians,asin,atan,degrees, tan, log10\n",
    "from PIL import Image"
   ]
  },
  {
   "cell_type": "markdown",
   "id": "d6080ff8",
   "metadata": {},
   "source": [
    "Global variables:"
   ]
  },
  {
   "cell_type": "code",
   "execution_count": 4,
   "id": "26dd11d4",
   "metadata": {
    "scrolled": true,
    "tags": [
     "remove-input"
    ]
   },
   "outputs": [
    {
     "data": {
      "text/latex": [
       "\\[\n",
       "\\begin{aligned}\n",
       "g &= 9.810 \\; \\;\\textrm{(m/s2)}\n",
       " &\\rho_{water} &= 1000 \\; \\;\\textrm{(kg/m3)}\n",
       " &\\rho_{Hg} &= 13600 \\; \\;\\textrm{(kg/m3)}\n",
       "\\\\[10pt]\n",
       " p_{atm} &= 101325 \\; \\;\\textrm{(Pa)}\n",
       "\\end{aligned}\n",
       "\\]"
      ],
      "text/plain": [
       "<IPython.core.display.Latex object>"
      ]
     },
     "metadata": {},
     "output_type": "display_data"
    }
   ],
   "source": [
    "%%render param \n",
    "\n",
    "g=9.81 #m/s2\n",
    "rho_water=1000 #kg/m3\n",
    "rho_Hg=13600 #kg/m3\n",
    "p_atm=101325 #Pa"
   ]
  },
  {
   "cell_type": "markdown",
   "id": "ff0097e0",
   "metadata": {
    "tags": [
     "remove-input"
    ]
   },
   "source": [
    "## Problems for Lecture 10 – Fluid Kinematics\n"
   ]
  },
  {
   "cell_type": "code",
   "execution_count": 6,
   "id": "e4d32e5d",
   "metadata": {
    "tags": [
     "remove-input"
    ]
   },
   "outputs": [],
   "source": [
    "# Automatically add 'remove-input' tag to all cells\n",
    "\n",
    "#from notebook import notebookapp\n",
    "#from IPython.display import display, Javascript\n",
    "\n",
    "#def add_remove_input_tag():\n",
    "#    display(Javascript('''\n",
    "#        var cells = Jupyter.notebook.get_cells();\n",
    "#        cells.forEach(function(cell) {\n",
    "#            cell.metadata.tags = cell.metadata.tags || [];\n",
    "#            if (cell.metadata.tags.indexOf('remove-input') === -1) {\n",
    "#                cell.metadata.tags.push('remove-input');\n",
    "#            }\n",
    "#        });\n",
    "#        Jupyter.notebook.save_notebook();\n",
    "#    '''))\n",
    "\n",
    "#add_remove_input_tag()\n"
   ]
  },
  {
   "cell_type": "markdown",
   "id": "1cbbb909-111e-42bb-a14d-59a8d4e90015",
   "metadata": {
    "tags": []
   },
   "source": [
    "---\n",
    "#### Question 1 (*)"
   ]
  },
  {
   "cell_type": "markdown",
   "id": "99fbd958",
   "metadata": {
    "hidden": true,
    "tags": [
     "remove-input"
    ]
   },
   "source": [
    "The acceleration in the x direction for a two-dimensional velocity field is given by: \n",
    "$𝑎_𝑥 = \\frac {\\partial 𝑢}{\\partial 𝑡} + 𝑢\\frac {\\partial 𝑢}{\\partial 𝑥} + 𝑣\\frac {\\partial 𝑢}{\\partial 𝑦}$\n",
    "\n",
    "Explain the physical meaning of the following terms in this equation, and the type of flow for which they would be equal to zero\n",
    "\n",
    "a) $\\frac {\\partial 𝑢}{\\partial 𝑡}$\n",
    "\n",
    "b) $𝑣\\frac {\\partial 𝑢}{\\partial 𝑦}$"
   ]
  },
  {
   "cell_type": "markdown",
   "id": "b6ab7f3f-6881-4b59-a2df-7a2daab52b66",
   "metadata": {},
   "source": [
    "a)"
   ]
  },
  {
   "cell_type": "markdown",
   "id": "06a92a4c-b037-4b09-b862-b3c299758284",
   "metadata": {},
   "source": [
    "**Solution**"
   ]
  },
  {
   "cell_type": "markdown",
   "id": "4280f644-b984-4789-8e5b-bd390c88302f",
   "metadata": {
    "tags": [
     "hide-output"
    ]
   },
   "source": [
    "```{toggle}\n",
    "This is the local acceleration in the x direction, representing the time rate of change of the velocity at a given location within the flow. It would be zero in a steady flow\n",
    "```"
   ]
  },
  {
   "cell_type": "markdown",
   "id": "31deeeb0-0b15-4e3e-b656-46ea4abf5e72",
   "metadata": {},
   "source": [
    "b) "
   ]
  },
  {
   "cell_type": "markdown",
   "id": "ebd6a148-7637-495f-b109-328fc593af2d",
   "metadata": {},
   "source": [
    "**Solution**"
   ]
  },
  {
   "cell_type": "markdown",
   "id": "2b33bf00-c841-463c-bd3f-694ad63339b0",
   "metadata": {},
   "source": [
    "```{toggle}\n",
    "This is the convective acceleration in the x direction, calculated due to velocity gradients in the y direction, i.e. how fast we’re moving in the y direction and the rate of change of the u velocity in this direction. It would be zero in a uniform flow, as there would be no velocity gradient in any direction\n",
    "```"
   ]
  },
  {
   "cell_type": "markdown",
   "id": "1d74782a",
   "metadata": {
    "tags": []
   },
   "source": [
    "---\n",
    "#### Question 2 (*)[R]"
   ]
  },
  {
   "cell_type": "markdown",
   "id": "5ac0cc2d",
   "metadata": {
    "hidden": true,
    "tags": [
     "remove-input"
    ]
   },
   "source": [
    "The velocity field for a given flow is equal to $(u,v)=(4x,-8xy)$\n",
    "\n",
    "a) Calculate the local acceleration in the 𝑥 and 𝑦 directions {$\\frac {\\partial 𝑢}{\\partial 𝑡}$,  $\\frac {\\partial v}{\\partial 𝑡}$}\n",
    "\n",
    "b) Calculate the convective acceleration in the 𝑥 and 𝑦 directions {$16x$ , -$32xy +64x^2y$}\n",
    "\n",
    "c) Calculate the magnitude of the fluid acceleration at the point (𝑥, 𝑦) = (4,3) {$2688.8 𝑚/𝑠^2$}"
   ]
  },
  {
   "cell_type": "markdown",
   "id": "fd8d0800",
   "metadata": {},
   "source": [
    "a)"
   ]
  },
  {
   "cell_type": "markdown",
   "id": "6bcfe399",
   "metadata": {},
   "source": [
    "**Hint**"
   ]
  },
  {
   "cell_type": "markdown",
   "id": "f2262a43",
   "metadata": {
    "tags": [
     "remove-input"
    ]
   },
   "source": [
    " ```{toggle}\n",
    " \n",
    " $$\\frac {\\partial 𝑢}{\\partial 𝑡} = \\frac {\\partial (4x)}{\\partial 𝑡}=0 $$\n",
    " $$\\frac {\\partial v}{\\partial 𝑡} = \\frac {\\partial (-8xy)}{\\partial 𝑡}=0$$\n",
    " \n",
    " ```"
   ]
  },
  {
   "cell_type": "markdown",
   "id": "40359780",
   "metadata": {},
   "source": [
    "**Solution**"
   ]
  },
  {
   "cell_type": "markdown",
   "id": "0f0ec71d",
   "metadata": {},
   "source": [
    " ```{toggle}\n",
    "The local acceleration is zero in both 𝑥 and 𝑦 directions.\n",
    " ```"
   ]
  },
  {
   "cell_type": "markdown",
   "id": "3687e0da",
   "metadata": {},
   "source": [
    "b)"
   ]
  },
  {
   "cell_type": "markdown",
   "id": "0fccdedc",
   "metadata": {},
   "source": [
    "**Hint**"
   ]
  },
  {
   "cell_type": "markdown",
   "id": "05f9fd4d",
   "metadata": {
    "tags": [
     "remove-input"
    ]
   },
   "source": [
    " ```{toggle}\n",
    "The acceleration in x:\n",
    "\n",
    "$$\\frac {\\partial 𝑢}{\\partial x} = \\frac {\\partial (4x)}{\\partial x}=0 $$\n",
    "$$\\frac {\\partial 𝑢}{\\partial y} = \\frac {\\partial (4x)}{\\partial y}=0 $$  \n",
    "\n",
    "\n",
    "The acceleration in y:\n",
    "\n",
    "$$\\frac {\\partial v}{\\partial x} = \\frac {\\partial (-8xy)}{\\partial x}=-8y $$\n",
    "$$\\frac {\\partial v}{\\partial y} = \\frac {\\partial (-8xy)}{\\partial y}=-8x $$  \n",
    " ```\n",
    " "
   ]
  },
  {
   "cell_type": "markdown",
   "id": "2263f972",
   "metadata": {},
   "source": [
    "**Solution**"
   ]
  },
  {
   "cell_type": "markdown",
   "id": "abc81ff4",
   "metadata": {},
   "source": [
    " ```{toggle}\n",
    "Replacing these partial differences in the acceleration equation we have the following:  \n",
    "\n",
    "$$𝑎_𝑥= 4x(4) + (-8xy)(0)$$\n",
    "$$𝑎_𝑥= 16x$$  \n",
    "\n",
    "$$𝑎_y= 4x(-8y) + (-8xy)(-8x)$$\n",
    "$$𝑎_y= -32xy+64x^2y$$ \n",
    " ```"
   ]
  },
  {
   "cell_type": "markdown",
   "id": "ed011664",
   "metadata": {},
   "source": [
    "c)"
   ]
  },
  {
   "cell_type": "markdown",
   "id": "e0f54441-c39b-4e4f-9c4f-429571df675c",
   "metadata": {},
   "source": [
    "**Given:**"
   ]
  },
  {
   "cell_type": "code",
   "execution_count": 7,
   "id": "8b8b9f84-e814-43f4-9761-b4497454f974",
   "metadata": {
    "tags": [
     "remove-input",
     "hide-output"
    ]
   },
   "outputs": [
    {
     "data": {
      "text/latex": [
       "\\[\n",
       "\\begin{aligned}\n",
       "x &= 4 \\; \\;\\textrm{(m)}\n",
       " &y &= 3 \\; \\;\\textrm{(m)}\n",
       "\\end{aligned}\n",
       "\\]"
      ],
      "text/plain": [
       "<IPython.core.display.Latex object>"
      ]
     },
     "metadata": {},
     "output_type": "display_data"
    }
   ],
   "source": [
    "%%render param \n",
    "x=4 #m\n",
    "y=3 #m"
   ]
  },
  {
   "cell_type": "markdown",
   "id": "df8e6d29",
   "metadata": {},
   "source": [
    "**Hint**"
   ]
  },
  {
   "cell_type": "markdown",
   "id": "17a8d0a1",
   "metadata": {},
   "source": [
    "```{toggle}\n",
    "The magnitud of the fluid acceleration is:  \n",
    "\n",
    "$$ \\left|a \\right|=\\sqrt{ax^2+ay^2}$$\n",
    "\n",
    "```"
   ]
  },
  {
   "cell_type": "markdown",
   "id": "e478cadf",
   "metadata": {},
   "source": [
    "**Solution**"
   ]
  },
  {
   "cell_type": "code",
   "execution_count": 8,
   "id": "3ace7daa-7b4e-41f2-bbfd-dbf7b3afa94c",
   "metadata": {
    "hidden": true,
    "tags": [
     "remove-input",
     "hide-output"
    ]
   },
   "outputs": [
    {
     "data": {
      "text/latex": [
       "\\[\n",
       "\\begin{aligned}\n",
       "a_{x} &= 16 \\cdot x \\\\&= 16 \\cdot 4 \\\\&= 64 \\; \\;\\textrm{(m/s2)}\\\\[10pt]\n",
       "\\\\[10pt]\n",
       "a_{y} &= \\left( - 32 \\right) \\cdot x \\cdot y + 64 \\cdot \\left( x \\right) ^{ 2 } \\cdot y \\\\&= \\left( - 32 \\right) \\cdot 4 \\cdot 3 + 64 \\cdot \\left( 4 \\right) ^{ 2 } \\cdot 3 \\\\&= 2688 \\; \\;\\textrm{(m/s2)}\\\\[10pt]\n",
       "\\\\[10pt]\n",
       "a &= \\sqrt { \\left( a_{x} \\right) ^{ 2 } + \\left( a_{y} \\right) ^{ 2 } } \\\\&= \\sqrt { \\left( 64 \\right) ^{ 2 } + \\left( 2688 \\right) ^{ 2 } } \\\\&= 2688.8 \\; \\;\\textrm{(m/s2)}\\\\[10pt]\n",
       "\\end{aligned}\n",
       "\\]"
      ],
      "text/plain": [
       "<IPython.core.display.Latex object>"
      ]
     },
     "metadata": {},
     "output_type": "display_data"
    }
   ],
   "source": [
    "%%render long 1\n",
    "a_x= 16*x #m/s2\n",
    "a_y= -32*x*y+64*x**2*y #m/s2\n",
    "a= sqrt(a_x**2+a_y**2) #m/s2\n"
   ]
  },
  {
   "cell_type": "markdown",
   "id": "59ff710a-b11f-40e7-8c6e-daf4df7edd97",
   "metadata": {
    "tags": []
   },
   "source": [
    "---\n",
    "#### Question 3 (*)"
   ]
  },
  {
   "cell_type": "markdown",
   "id": "1634e2a5",
   "metadata": {
    "hidden": true,
    "tags": [
     "remove-input"
    ]
   },
   "source": [
    "Water accelerates as it passes through a nozzle, such that the velocity of fluid particles passing through the centre of the nozzle (in the x direction only) is given by $𝑢 = (200𝑥^3 + 10𝑡^2)$, where 𝑢 is in 𝑚/𝑠, 𝑥 is in 𝑚 and 𝑡 is in 𝑠. Determine the velocity and acceleration of a particle located at 𝑥 = 0.1 𝑚 when 𝑡 = 0.2 𝑠. { $0.6 𝑚/𝑠$, $7.6 𝑚/𝑠^2$}"
   ]
  },
  {
   "cell_type": "markdown",
   "id": "0233e963",
   "metadata": {},
   "source": [
    "**Given:**"
   ]
  },
  {
   "cell_type": "code",
   "execution_count": 49,
   "id": "e37740e8",
   "metadata": {
    "tags": [
     "remove-input"
    ]
   },
   "outputs": [
    {
     "data": {
      "text/latex": [
       "\\[\n",
       "\\begin{aligned}\n",
       "x &= 0.100 \\; \\;\\textrm{(m)}\n",
       " &t &= 0.200 \\; \\;\\textrm{(s)}\n",
       "\\end{aligned}\n",
       "\\]"
      ],
      "text/plain": [
       "<IPython.core.display.Latex object>"
      ]
     },
     "metadata": {},
     "output_type": "display_data"
    }
   ],
   "source": [
    "%%render param \n",
    "x=0.1 #m\n",
    "t=0.2 #s"
   ]
  },
  {
   "cell_type": "markdown",
   "id": "2cd7919f-eb9f-4b1b-ab39-7de8500547c2",
   "metadata": {
    "solution": "shown",
    "solution2": "hidden",
    "solution2_first": true,
    "solution_first": true,
    "tags": [
     "remove-input"
    ]
   },
   "source": [
    "**Hint**"
   ]
  },
  {
   "cell_type": "markdown",
   "id": "c27ce28a-02cb-4cb4-a4f2-5672e74b9cd5",
   "metadata": {
    "hidden": true,
    "tags": [
     "remove-input"
    ]
   },
   "source": [
    "```{toggle}\n",
    "The velocity can be calculated using the equation and replacing the values of 𝑥 and 𝑡\n",
    "\n",
    "The acceleration is calculated with the following equation \n",
    "\n",
    "$$𝑎_𝑥 = \\frac {\\partial 𝑢}{\\partial 𝑡} + 𝑢\\frac {\\partial 𝑢}{\\partial 𝑥} + 𝑣\\frac {\\partial 𝑢}{\\partial 𝑦}$$\n",
    "\n",
    "Where: \n",
    "\n",
    "  $\\frac {\\partial 𝑢}{\\partial 𝑡} = 20t$ \n",
    "\n",
    "  $\\frac {\\partial 𝑢}{\\partial 𝑥}= 600𝑥^2$\n",
    "\n",
    "  $\\frac {\\partial 𝑢}{\\partial 𝑦} = 0$\n",
    "\n",
    "Replacing these partial differences in the acceleration equation we have the following:\n",
    "\n",
    "  $$𝑎_𝑥= 20 \\cdot t + 𝑢 \\cdot 600𝑥^2 + 𝑣 \\cdot 0$$\n",
    "\n",
    "Then replacing the velocity equation 𝑢 in the acceleration equation we have:\n",
    " \n",
    "  $$𝑎_𝑥= 20 \\cdot t + (200\\cdot 𝑥^3 + 10 \\cdot 𝑡^2) 600 \\cdot 𝑥^2 + 0$$\n",
    "```"
   ]
  },
  {
   "cell_type": "markdown",
   "id": "83d3f9f4-62cd-4f92-880e-368bca1c9796",
   "metadata": {},
   "source": [
    "**Solution**"
   ]
  },
  {
   "cell_type": "code",
   "execution_count": 58,
   "id": "d443e1f1",
   "metadata": {
    "hidden": true,
    "tags": [
     "remove-input",
     "hide-output"
    ]
   },
   "outputs": [
    {
     "data": {
      "text/latex": [
       "\\[\n",
       "\\begin{aligned}\n",
       "u &= 200 \\cdot \\left( x \\right) ^{ 3 } + 10 \\cdot \\left( t \\right) ^{ 2 } \\\\&= 200 \\cdot \\left( 2 \\right) ^{ 3 } + 10 \\cdot \\left( 0.20 \\right) ^{ 2 } \\\\&= 1600.40 \\; \\;\\textrm{(m/s)}\\\\[10pt]\n",
       "\\\\[10pt]\n",
       "a_{x} &= 20 \\cdot t + u \\cdot 600 \\cdot \\left( x \\right) ^{ 2 } \\\\&= 20 \\cdot 0.20 + 1600.40 \\cdot 600 \\cdot \\left( 2 \\right) ^{ 2 } \\\\&= 3840964.00 \\; \\;\\textrm{(m/s2)}\\\\[10pt]\n",
       "\\end{aligned}\n",
       "\\]"
      ],
      "text/plain": [
       "<IPython.core.display.Latex object>"
      ]
     },
     "metadata": {},
     "output_type": "display_data"
    }
   ],
   "source": [
    "%%render long 2\n",
    "u= 200*x**3+10*t**2 #m/s\n",
    "a_x= 20*t+u*600*x**2 #m/s2\n"
   ]
  },
  {
   "cell_type": "markdown",
   "id": "afe228e4-92d6-48a8-8ee5-fcc085e009fe",
   "metadata": {
    "tags": []
   },
   "source": [
    "---\n",
    "#### Question 4 (*)[R]"
   ]
  },
  {
   "cell_type": "markdown",
   "id": "65d55882",
   "metadata": {
    "hidden": true,
    "tags": [
     "remove-input"
    ]
   },
   "source": [
    "A flow field has velocity components of $𝑢 = (3𝑥 + 2𝑡^2)$ and $𝑣 = (2𝑦^3 + 10𝑡)$, where 𝑥 and 𝑦 are in 𝑚, 𝑡 is in 𝑠 and both velocity components are in 𝑚/𝑠.\n",
    "Determine the magnitudes of the local and convective accelerations of a particle at the point 𝑥 = 3 𝑚, 𝑦 = 1 𝑚 at the time 𝑡 = 2 𝑠. {$12.81 𝑚/𝑠^2$,$ 141. 51 𝑚/𝑠^2$}"
   ]
  },
  {
   "cell_type": "markdown",
   "id": "b9da23fa-6013-45cf-ab8d-4b1cb9c94ae6",
   "metadata": {},
   "source": [
    "**Given:**"
   ]
  },
  {
   "cell_type": "code",
   "execution_count": 10,
   "id": "4657b340-0b1f-4c8a-aee8-83d720d2aafe",
   "metadata": {
    "tags": [
     "remove-input"
    ]
   },
   "outputs": [
    {
     "data": {
      "text/latex": [
       "\\[\n",
       "\\begin{aligned}\n",
       "x &= 3 \\; \\;\\textrm{(m)}\n",
       " &y &= 1 \\; \\;\\textrm{(m)}\n",
       " &t &= 2 \\; \\;\\textrm{(s)}\n",
       "\\\\[10pt]\n",
       "\\end{aligned}\n",
       "\\]"
      ],
      "text/plain": [
       "<IPython.core.display.Latex object>"
      ]
     },
     "metadata": {},
     "output_type": "display_data"
    }
   ],
   "source": [
    "%%render param \n",
    "x=3 #m\n",
    "y=1 #m\n",
    "t=2 #s"
   ]
  },
  {
   "cell_type": "markdown",
   "id": "1caf6d91-9dc9-4ca4-a7f7-ec343eaad635",
   "metadata": {
    "solution": "shown",
    "solution2": "hidden",
    "solution2_first": true,
    "solution_first": true,
    "tags": [
     "remove-input"
    ]
   },
   "source": [
    "**Hint**"
   ]
  },
  {
   "cell_type": "markdown",
   "id": "9ef089a9",
   "metadata": {
    "hidden": true,
    "tags": [
     "remove-input"
    ]
   },
   "source": [
    "```{toggle}\n",
    "For the local acceleration we have the following equations:\n",
    "\n",
    "$$𝑎_𝑥 = \\frac {\\partial (3𝑥 + 2𝑡^2)}{\\partial 𝑡}= 4t$$\n",
    "$$𝑎_y = \\frac {\\partial (2𝑦^3 + 10𝑡)}{\\partial 𝑡}= 10$$  \n",
    "\n",
    "\n",
    "For the convective acceleration we have the following equations:  \n",
    "\n",
    "$$\\frac {\\partial u}{\\partial x}= \\frac {\\partial (3𝑥 + 2𝑡^2)}{\\partial x}=3$$\n",
    "$$\\frac {\\partial u}{\\partial y}= 0$$\n",
    "$$\\frac {\\partial v}{\\partial x}= \\frac {\\partial (2𝑦^3 + 10𝑡)}{\\partial x}=0$$\n",
    "$$\\frac {\\partial y}{\\partial y}= 0$$\n",
    "\n",
    "The magnitud of the fluid acceleration is:  \n",
    "\n",
    "$$ \\left|a \\right|=\\sqrt{a_x^2+a_y^2}$$\n",
    "```\n"
   ]
  },
  {
   "cell_type": "markdown",
   "id": "f06cc57f-5bff-4100-98ab-e715c638578c",
   "metadata": {},
   "source": [
    "**Solution**"
   ]
  },
  {
   "cell_type": "code",
   "execution_count": 12,
   "id": "669b8c45",
   "metadata": {
    "hidden": true,
    "scrolled": true,
    "tags": [
     "remove-input",
     "hide-output"
    ]
   },
   "outputs": [
    {
     "data": {
      "text/latex": [
       "\\[\n",
       "\\begin{aligned}\n",
       "a_{x_{local}} &= 4 \\cdot t \\\\&= 4 \\cdot 2 \\\\&= 8 \\; \\;\\textrm{(m/s2)}\\\\[10pt]\n",
       "\\\\[10pt]\n",
       "a_{y_{local}} &= 10 \\; \\;\\textrm{(m/s2)}\n",
       "\\\\[10pt]\n",
       "a_{local} &= \\sqrt { \\left( a_{x_{local}} \\right) ^{ 2 } + \\left( a_{y_{local}} \\right) ^{ 2 } } \\\\&= \\sqrt { \\left( 8 \\right) ^{ 2 } + \\left( 10 \\right) ^{ 2 } } \\\\&= 12.81 \\; \\;\\textrm{(m/s)}\\\\[10pt]\n",
       "\\\\[10pt]\n",
       "a_{x_{convective}} &= \\left( 3 \\cdot x + 2 \\cdot \\left( t \\right) ^{ 2 } \\right) \\cdot 3 \\\\&= \\left( 3 \\cdot 3 + 2 \\cdot \\left( 2 \\right) ^{ 2 } \\right) \\cdot 3 \\\\&= 51 \\; \\;\\textrm{(m/s2)}\\\\[10pt]\n",
       "\\\\[10pt]\n",
       "a_{y_{convective}} &= \\left( 2 \\cdot \\left( y \\right) ^{ 3 } + 10 \\cdot t \\right) \\cdot 6 \\cdot \\left( y \\right) ^{ 2 } \\\\&= \\left( 2 \\cdot \\left( 1 \\right) ^{ 3 } + 10 \\cdot 2 \\right) \\cdot 6 \\cdot \\left( 1 \\right) ^{ 2 } \\\\&= 132 \\; \\;\\textrm{(m/s2)}\\\\[10pt]\n",
       "\\\\[10pt]\n",
       "a_{convective} &= \\sqrt { \\left( a_{x_{convective}} \\right) ^{ 2 } + \\left( a_{y_{convective}} \\right) ^{ 2 } } \\\\&= \\sqrt { \\left( 51 \\right) ^{ 2 } + \\left( 132 \\right) ^{ 2 } } \\\\&= 141.51 \\; \\;\\textrm{(m/s)}\\\\[10pt]\n",
       "\\end{aligned}\n",
       "\\]"
      ],
      "text/plain": [
       "<IPython.core.display.Latex object>"
      ]
     },
     "metadata": {},
     "output_type": "display_data"
    }
   ],
   "source": [
    "%%render long 2\n",
    "a_x_local= 4*t #m/s2\n",
    "a_y_local= 10 #m/s2\n",
    "a_local= sqrt(a_x_local**2+a_y_local**2) #m/s2\n",
    "\n",
    "a_x_convective= (3*x+2*t**2)*3 #m/s2\n",
    "a_y_convective= (2*y**3+10*t)*6*y**2 #m/s2\n",
    "a_convective= sqrt(a_x_convective**2+a_y_convective**2) #m/s2"
   ]
  },
  {
   "cell_type": "markdown",
   "id": "0ffb0060",
   "metadata": {
    "tags": []
   },
   "source": [
    "---\n",
    "#### Question 5 (*)"
   ]
  },
  {
   "cell_type": "markdown",
   "id": "d2748c03",
   "metadata": {
    "hidden": true,
    "tags": [
     "remove-input"
    ]
   },
   "source": [
    "A steady fluid flow has velocity components $𝑢 = (5𝑦^2 − 𝑥)$ and $𝑣 = (4𝑥^2)$, where 𝑥 and 𝑦 are in 𝑚 and both velocity components are in 𝑚/𝑠. Determine the velocity and acceleration of a particle passing through the point (𝑥, 𝑦) = (2𝑚, 1𝑚) {$16.3 m/s$ (magnitude), $164.2 m/s^2$ (magnitude)}"
   ]
  },
  {
   "cell_type": "markdown",
   "id": "2677f218",
   "metadata": {},
   "source": [
    "**Given:**"
   ]
  },
  {
   "cell_type": "code",
   "execution_count": 59,
   "id": "53053388",
   "metadata": {
    "tags": [
     "remove-input"
    ]
   },
   "outputs": [
    {
     "data": {
      "text/latex": [
       "\\[\n",
       "\\begin{aligned}\n",
       "x &= 2 \\; \\;\\textrm{(m)}\n",
       " &y &= 1 \\; \\;\\textrm{(m)}\n",
       "\\end{aligned}\n",
       "\\]"
      ],
      "text/plain": [
       "<IPython.core.display.Latex object>"
      ]
     },
     "metadata": {},
     "output_type": "display_data"
    }
   ],
   "source": [
    "%%render param \n",
    "x=2 #m\n",
    "y=1 #m"
   ]
  },
  {
   "cell_type": "markdown",
   "id": "9f5bda70",
   "metadata": {
    "solution": "shown",
    "solution2": "hidden",
    "solution2_first": true,
    "solution_first": true,
    "tags": [
     "remove-input"
    ]
   },
   "source": [
    "**Hint**"
   ]
  },
  {
   "cell_type": "markdown",
   "id": "d7a79a12",
   "metadata": {
    "hidden": true,
    "tags": [
     "remove-input"
    ]
   },
   "source": [
    "```{toggle}\n",
    "The velocity component can be calculated using the equation and replacing the values of 𝑥 and y\n",
    "\n",
    "The acceleration is calculated with the following equations \n",
    "\n",
    "$$𝑎_𝑥 = \\frac {\\partial 𝑢}{\\partial 𝑡} + 𝑢\\frac {\\partial 𝑢}{\\partial 𝑥} + 𝑣\\frac {\\partial 𝑢}{\\partial 𝑦}$$\n",
    "\n",
    "$$𝑎_𝑦 = \\frac {\\partial 𝑣}{\\partial 𝑡} + 𝑢\\frac {\\partial 𝑣}{\\partial 𝑥} + 𝑣\\frac {\\partial 𝑣}{\\partial 𝑦}$$\n",
    "\n",
    "\n",
    "For $a_x$ the partial differences are: \n",
    "\n",
    "  $\\frac {\\partial 𝑢}{\\partial 𝑡} = 0$ \n",
    "\n",
    "  $\\frac {\\partial 𝑢}{\\partial 𝑥}= -1$\n",
    "\n",
    "  $\\frac {\\partial 𝑢}{\\partial 𝑦} = 10y$\n",
    "\n",
    "Replacing these partial differences in the acceleration equation we have the following:\n",
    "\n",
    "  $$\n",
    "  𝑎_𝑥= 0 + 𝑢 (-1) + 𝑣 10y\n",
    "  $$\n",
    "\n",
    "Then replacing the velocity equation 𝑢  and 𝑣 in the acceleration equation we have:\n",
    " \n",
    "  $$\n",
    "  𝑎_𝑥= 0 + (5𝑦^2 − 𝑥)(-1) + (4𝑥^2)10y\n",
    "  $$\n",
    "  \n",
    "The same process is developed for $𝑎_𝑦$\n",
    "\n",
    "For $a_y$ the partial differences are: \n",
    "\n",
    "  $\\frac {\\partial 𝑣}{\\partial 𝑡} = 0$ \n",
    "\n",
    "  $\\frac {\\partial 𝑣}{\\partial 𝑥}= 8x$\n",
    "\n",
    "  $\\frac {\\partial 𝑣}{\\partial 𝑦} = 0$\n",
    "\n",
    "Replacing the velocities we have:\n",
    "\n",
    "$$𝑎_y= 0 + (5𝑦^2 − 𝑥)8x + 0$$\n",
    "  \n",
    "```"
   ]
  },
  {
   "cell_type": "markdown",
   "id": "721ea1b0",
   "metadata": {},
   "source": [
    "**Solution**"
   ]
  },
  {
   "cell_type": "code",
   "execution_count": 60,
   "id": "fbe0dbd6",
   "metadata": {
    "hidden": true,
    "scrolled": true,
    "tags": [
     "remove-input",
     "hide-output"
    ]
   },
   "outputs": [
    {
     "data": {
      "text/latex": [
       "\\[\n",
       "\\begin{aligned}\n",
       "u &= 5 \\cdot \\left( y \\right) ^{ 2 } - x \\\\&= 5 \\cdot \\left( 1 \\right) ^{ 2 } - 2 \\\\&= 3 \\; \\;\\textrm{(m/s)}\\\\[10pt]\n",
       "\\\\[10pt]\n",
       "v &= 4 \\cdot \\left( x \\right) ^{ 2 } \\\\&= 4 \\cdot \\left( 2 \\right) ^{ 2 } \\\\&= 16 \\; \\;\\textrm{(m/s)}\\\\[10pt]\n",
       "\\\\[10pt]\n",
       "V &= \\sqrt { \\left( u \\right) ^{ 2 } + \\left( v \\right) ^{ 2 } } \\\\&= \\sqrt { \\left( 3 \\right) ^{ 2 } + \\left( 16 \\right) ^{ 2 } } \\\\&= 16.28 \\; \\;\\textrm{(m/s)}\\\\[10pt]\n",
       "\\\\[10pt]\n",
       "a_{x} &= \\left( 5 \\cdot \\left( y \\right) ^{ 2 } - x \\right) \\cdot \\left( - 1 \\right) + 4 \\cdot \\left( x \\right) ^{ 2 } \\cdot 10 \\cdot y \\\\&= \\left( 5 \\cdot \\left( 1 \\right) ^{ 2 } - 2 \\right) \\cdot \\left( - 1 \\right) + 4 \\cdot \\left( 2 \\right) ^{ 2 } \\cdot 10 \\cdot 1 \\\\&= 157 \\; \\;\\textrm{(m/s2)}\\\\[10pt]\n",
       "\\\\[10pt]\n",
       "a_{y} &= \\left( 5 \\cdot \\left( y \\right) ^{ 2 } - x \\right) \\cdot 8 \\cdot x \\\\&= \\left( 5 \\cdot \\left( 1 \\right) ^{ 2 } - 2 \\right) \\cdot 8 \\cdot 2 \\\\&= 48 \\; \\;\\textrm{(m/s2)}\\\\[10pt]\n",
       "\\\\[10pt]\n",
       "a &= \\sqrt { \\left( a_{x} \\right) ^{ 2 } + \\left( a_{y} \\right) ^{ 2 } } \\\\&= \\sqrt { \\left( 157 \\right) ^{ 2 } + \\left( 48 \\right) ^{ 2 } } \\\\&= 164.17 \\; \\;\\textrm{(m/s)}\\\\[10pt]\n",
       "\\end{aligned}\n",
       "\\]"
      ],
      "text/plain": [
       "<IPython.core.display.Latex object>"
      ]
     },
     "metadata": {},
     "output_type": "display_data"
    }
   ],
   "source": [
    "%%render long 2\n",
    "u= 5*y**2-x #m/s\n",
    "v= 4*x**2 #m/s\n",
    "V= sqrt(u**2+v**2) #m/s\n",
    "\n",
    "\n",
    "a_x= (5*y**2-x)*-1+4*x**2*10*y #m/s2\n",
    "a_y= (5*y**2-x)*8*x #m/s2\n",
    "a= sqrt(a_x**2+a_y**2) #m/s"
   ]
  },
  {
   "cell_type": "markdown",
   "id": "40aa262b-2636-4538-83c0-23b57766cbc7",
   "metadata": {
    "tags": []
   },
   "source": [
    "---\n",
    "#### Question 6 (**)[R]"
   ]
  },
  {
   "cell_type": "markdown",
   "id": "7e3fbf9e",
   "metadata": {
    "hidden": true,
    "tags": [
     "remove-input"
    ]
   },
   "source": [
    "State whether the following velocity fields are steady or unsteady, and determine the acceleration in the 𝑥, 𝑦, and 𝑧 directions:\n",
    "\n",
    "a) $𝑽 = (𝑢, 𝑣, 𝑤) = (8𝑥𝑦𝑧, −2𝑦^2𝑧, −2𝑦𝑧^2 + 4𝑥)$ {$32xy^2z^2+32x^2y$, $12y^3z^2$, $16xyz+12y^2z^3$}\n",
    "\n",
    "b) $𝑽 = (𝑢, 𝑣, 𝑤) = (9x, -13y+3z^3, 2z^2-t)$ {$81x$, $169y-39z^3+18z^4-9z^2t$, $-1+8z^3-4zt$} \n",
    "\n",
    "c) $𝑽 = (𝑢, 𝑣, 𝑤) = (\\frac{2x}{y^2}, \\frac{2}{y}, 3z)$ {$\\frac{-4x}{y^4}$, $\\frac{-4}{y^3}$, $9z$}"
   ]
  },
  {
   "cell_type": "markdown",
   "id": "f71ba4f7-94c3-43c2-8df7-b68f56e0464a",
   "metadata": {},
   "source": [
    "a)"
   ]
  },
  {
   "cell_type": "markdown",
   "id": "6c14f262-5e6d-443f-a624-cd76ae575104",
   "metadata": {
    "solution": "shown",
    "solution2": "hidden",
    "solution2_first": true,
    "solution_first": true,
    "tags": [
     "remove-input"
    ]
   },
   "source": [
    "**Hint**"
   ]
  },
  {
   "cell_type": "markdown",
   "id": "c74b97a8",
   "metadata": {
    "hidden": true,
    "tags": [
     "remove-input"
    ]
   },
   "source": [
    "```{toggle}\n",
    "To know if it is steady or unsteady:\n",
    "\n",
    "$$\\frac {\\partial 𝑢}{\\partial 𝑡} = 0$$\n",
    "$$\\frac {\\partial v}{\\partial 𝑡} = 0$$\n",
    "$$\\frac {\\partial w}{\\partial 𝑡} = 0$$  \n",
    "\n",
    "The aceleration in x:\n",
    "\n",
    "$$𝑎_𝑥 = \\frac {\\partial 𝑢}{\\partial 𝑡}+ u\\frac {\\partial 𝑢}{\\partial x} + v\\frac {\\partial 𝑢}{\\partial y} + w\\frac {\\partial u}{\\partial z}$$\n",
    "$$\\frac {\\partial 𝑢}{\\partial x}=8yz$$\n",
    "$$\\frac {\\partial 𝑢}{\\partial y}=8zx$$\n",
    "$$\\frac {\\partial 𝑢}{\\partial z}=8xy$$  \n",
    "\n",
    "The aceleration in y:\n",
    "\n",
    "$$𝑎_y = \\frac {\\partial v}{\\partial 𝑡} +  u\\frac {\\partial v}{\\partial x} + v\\frac {\\partial v}{\\partial y} + w\\frac {\\partial v}{\\partial z}$$\n",
    "$$\\frac {\\partial v}{\\partial x}=0$$\n",
    "$$\\frac {\\partial v}{\\partial y}=-4yz$$\n",
    "$$\\frac {\\partial v}{\\partial z}=-2y^2$$  \n",
    "\n",
    "The aceleration in z:\n",
    "\n",
    "$$𝑎_z =\\frac {\\partial w}{\\partial 𝑡}+ u\\frac {\\partial w}{\\partial x} + v\\frac {\\partial w}{\\partial y} + w\\frac {\\partial w}{\\partial z}$$\n",
    "$$\\frac {\\partial w}{\\partial x}=4$$\n",
    "$$\\frac {\\partial w}{\\partial y}=-2z^2$$\n",
    "$$\\frac {\\partial w}{\\partial z}=-4yz$$  \n",
    "\n",
    "```"
   ]
  },
  {
   "cell_type": "markdown",
   "id": "21dd2566",
   "metadata": {
    "solution": "shown",
    "solution2": "hidden",
    "solution2_first": true,
    "solution_first": true,
    "tags": [
     "remove-input"
    ]
   },
   "source": [
    "**Solution**"
   ]
  },
  {
   "cell_type": "markdown",
   "id": "339cd306",
   "metadata": {
    "solution": "shown",
    "solution2": "hidden",
    "solution2_first": true,
    "solution_first": true,
    "tags": [
     "remove-input"
    ]
   },
   "source": [
    "```{toggle}\n",
    "Steady  \n",
    "\n",
    "$$a_x= 8xyz(8yz)+-2y^2z(8zx)+(-2yz^2+4x)(8xy)=32xy^2z^2+32x^2y$$\n",
    "$$a_y= 8xyz(0)+-2y^2z(−4𝑦𝑧)+(-2yz^2+4x)(−2𝑦^2)=12y^3z^2-8xy^2$$\n",
    "$$a_w= 8xyz(4)+-2y^2z(-2z^2)+(-2yz^2+4x)(-4yz)=16xyz+12y^2z^3$$\n",
    "```"
   ]
  },
  {
   "cell_type": "markdown",
   "id": "a29daad8",
   "metadata": {},
   "source": [
    "b)\n"
   ]
  },
  {
   "cell_type": "markdown",
   "id": "70b394f2",
   "metadata": {
    "solution": "shown",
    "solution2": "hidden",
    "solution2_first": true,
    "solution_first": true,
    "tags": [
     "remove-input"
    ]
   },
   "source": [
    "**Hint**"
   ]
  },
  {
   "cell_type": "markdown",
   "id": "b1348984",
   "metadata": {
    "hidden": true,
    "tags": [
     "remove-input"
    ]
   },
   "source": [
    "```{toggle}\n",
    "To know if it is steady or unsteady:\n",
    "\n",
    "$$\\frac {\\partial 𝑢}{\\partial 𝑡} = 0$$\n",
    "$$\\frac {\\partial v}{\\partial 𝑡} = 0$$\n",
    "$$\\frac {\\partial w}{\\partial 𝑡} = -1$$  \n",
    "\n",
    "The aceleration in x:\n",
    "\n",
    "$$𝑎_𝑥 = \\frac {\\partial 𝑢}{\\partial 𝑡}+ u\\frac {\\partial 𝑢}{\\partial x} + v\\frac {\\partial 𝑢}{\\partial y} + w\\frac {\\partial u}{\\partial z}$$\n",
    "$$\\frac {\\partial 𝑢}{\\partial x}=9$$\n",
    "$$\\frac {\\partial 𝑢}{\\partial y}=0$$\n",
    "$$\\frac {\\partial 𝑢}{\\partial z}=0$$  \n",
    "\n",
    "The aceleration in y:\n",
    "\n",
    "$$𝑎_y = \\frac {\\partial v}{\\partial 𝑡} +  u\\frac {\\partial v}{\\partial x} + v\\frac {\\partial v}{\\partial y} + w\\frac {\\partial v}{\\partial z}$$\n",
    "$$\\frac {\\partial v}{\\partial x}=0$$\n",
    "$$\\frac {\\partial v}{\\partial y}=-13$$\n",
    "$$\\frac {\\partial v}{\\partial z}=9z^2$$  \n",
    "\n",
    "The aceleration in z:\n",
    "\n",
    "$$𝑎_z =\\frac {\\partial w}{\\partial 𝑡}+ u\\frac {\\partial w}{\\partial x} + v\\frac {\\partial w}{\\partial y} + w\\frac {\\partial w}{\\partial z}$$\n",
    "$$\\frac {\\partial w}{\\partial x}=0$$\n",
    "$$\\frac {\\partial w}{\\partial y}=0$$\n",
    "$$\\frac {\\partial w}{\\partial z}=4z$$  \n",
    "\n",
    "```"
   ]
  },
  {
   "cell_type": "markdown",
   "id": "104f7543",
   "metadata": {
    "solution": "shown",
    "solution2": "hidden",
    "solution2_first": true,
    "solution_first": true,
    "tags": [
     "remove-input"
    ]
   },
   "source": [
    "**Solution**"
   ]
  },
  {
   "cell_type": "markdown",
   "id": "71f459d0",
   "metadata": {
    "solution": "shown",
    "solution2": "hidden",
    "solution2_first": true,
    "solution_first": true,
    "tags": [
     "remove-input"
    ]
   },
   "source": [
    "```{toggle}\n",
    "Unsteady  \n",
    "\n",
    "$$a_x= 9x(9)+(-13y+z^3)(0)+(2z^2-t)(0)=81x$$\n",
    "$$a_y= 9x(0)+(-13y+z^3)(-13)+(2z^2-t)(9z^2)=169y-39z^3+18z^4-9z^2t$$\n",
    "$$a_w= -1+9x(0)+(-13y+z^3)(0)+(2z^2-t)(4z)=-1+8z^3-4zt$$\n",
    "```"
   ]
  },
  {
   "cell_type": "markdown",
   "id": "afb9b504",
   "metadata": {},
   "source": [
    "\n",
    "c)"
   ]
  },
  {
   "cell_type": "markdown",
   "id": "d6a09b4d",
   "metadata": {
    "solution": "shown",
    "solution2": "hidden",
    "solution2_first": true,
    "solution_first": true,
    "tags": [
     "remove-input"
    ]
   },
   "source": [
    "**Hint**"
   ]
  },
  {
   "cell_type": "markdown",
   "id": "74f17fe5",
   "metadata": {
    "hidden": true,
    "tags": [
     "remove-input"
    ]
   },
   "source": [
    "```{toggle}\n",
    "To know if it is steady or unsteady:\n",
    "\n",
    "$$\\frac {\\partial 𝑢}{\\partial 𝑡} = 0$$\n",
    "$$\\frac {\\partial v}{\\partial 𝑡} = 0$$\n",
    "$$\\frac {\\partial w}{\\partial 𝑡} = 0$$  \n",
    "\n",
    "The aceleration in x:\n",
    "\n",
    "$$𝑎_𝑥 = \\frac {\\partial 𝑢}{\\partial 𝑡}+ u\\frac {\\partial 𝑢}{\\partial x} + v\\frac {\\partial 𝑢}{\\partial y} + w\\frac {\\partial u}{\\partial z}$$\n",
    "$$\\frac {\\partial 𝑢}{\\partial x}=\\frac{2}{y^2}$$\n",
    "$$\\frac {\\partial 𝑢}{\\partial y}=\\frac{-4x}{y^3}$$\n",
    "$$\\frac {\\partial 𝑢}{\\partial z}=0$$  \n",
    "\n",
    "The aceleration in y:\n",
    "\n",
    "$$𝑎_y = \\frac {\\partial v}{\\partial 𝑡} +  u\\frac {\\partial v}{\\partial x} + v\\frac {\\partial v}{\\partial y} + w\\frac {\\partial v}{\\partial z}$$\n",
    "$$\\frac {\\partial v}{\\partial x}=0$$\n",
    "$$\\frac {\\partial v}{\\partial y}=\\frac{-2}{y^2}$$\n",
    "$$\\frac {\\partial v}{\\partial z}=0$$  \n",
    "\n",
    "The aceleration in z:\n",
    "\n",
    "$$𝑎_z =\\frac {\\partial w}{\\partial 𝑡}+ u\\frac {\\partial w}{\\partial x} + v\\frac {\\partial w}{\\partial y} + w\\frac {\\partial w}{\\partial z}$$\n",
    "$$\\frac {\\partial w}{\\partial x}=0$$\n",
    "$$\\frac {\\partial w}{\\partial y}=0$$\n",
    "$$\\frac {\\partial w}{\\partial z}=3$$  \n",
    "\n",
    "```"
   ]
  },
  {
   "cell_type": "markdown",
   "id": "879d911e",
   "metadata": {
    "solution": "shown",
    "solution2": "hidden",
    "solution2_first": true,
    "solution_first": true,
    "tags": [
     "remove-input"
    ]
   },
   "source": [
    "**Solution**"
   ]
  },
  {
   "cell_type": "markdown",
   "id": "7ff2466b",
   "metadata": {
    "solution": "shown",
    "solution2": "hidden",
    "solution2_first": true,
    "solution_first": true,
    "tags": [
     "remove-input"
    ]
   },
   "source": [
    "```{toggle}\n",
    "Steady  \n",
    "\n",
    "$$a_x= \\frac{2x}{y^2}(\\frac{2}{y^2})+\\frac{2}{y}(\\frac{-4x}{y^3})+3z(0)=\\frac{-4x}{y^4}$$\n",
    "$$a_y= \\frac{2x}{y^2}(0)+\\frac{2}{y}(\\frac{-2}{y^2})+3z(0)=\\frac{-4}{y^3}$$\n",
    "$$a_w= \\frac{2x}{y^2}(0)+\\frac{2}{y}(0)+3z(3)=9z$$\n",
    "```"
   ]
  },
  {
   "cell_type": "markdown",
   "id": "39d644c3",
   "metadata": {
    "tags": []
   },
   "source": [
    "---\n",
    "#### Question 7 (*)"
   ]
  },
  {
   "cell_type": "markdown",
   "id": "ad5fd2e7",
   "metadata": {
    "hidden": true,
    "tags": [
     "remove-input"
    ]
   },
   "source": [
    " Air flows through a horizontal duct with a velocity of $𝑢 = (6𝑡^2 + 5)$, where 𝑡 is in seconds and 𝑢 is in 𝑚/𝑠. Determine the acceleration of the flow when 𝑡 = 2 𝑠, and classify the flow in terms of its uniformity and steadiness. {$24m/s^2$}"
   ]
  },
  {
   "cell_type": "markdown",
   "id": "8592da4c",
   "metadata": {},
   "source": [
    "**Given:**"
   ]
  },
  {
   "cell_type": "code",
   "execution_count": 64,
   "id": "7f777a62-9ea9-4811-b71a-91070bc121a6",
   "metadata": {
    "scrolled": true,
    "tags": [
     "remove-input"
    ]
   },
   "outputs": [
    {
     "data": {
      "text/latex": [
       "\\[\n",
       "\\begin{aligned}\n",
       "t &= 2 \\; \\;\\textrm{(m)}\n",
       "\\end{aligned}\n",
       "\\]"
      ],
      "text/plain": [
       "<IPython.core.display.Latex object>"
      ]
     },
     "metadata": {},
     "output_type": "display_data"
    }
   ],
   "source": [
    "%%render param \n",
    "t=2 #m"
   ]
  },
  {
   "cell_type": "markdown",
   "id": "8858dae6",
   "metadata": {
    "solution": "shown",
    "solution2": "hidden",
    "solution2_first": true,
    "solution_first": true,
    "tags": [
     "remove-input"
    ]
   },
   "source": [
    "**Hint**"
   ]
  },
  {
   "cell_type": "markdown",
   "id": "fc15583b",
   "metadata": {
    "hidden": true,
    "tags": [
     "remove-input"
    ]
   },
   "source": [
    "```{toggle}\n",
    "The acceleration is calculated with the following equations \n",
    "\n",
    "$$𝑎_𝑥 = \\frac {\\partial 𝑢}{\\partial 𝑡} + 𝑢\\frac {\\partial 𝑢}{\\partial 𝑥} + 𝑣\\frac {\\partial 𝑢}{\\partial 𝑦}$$\n",
    "\n",
    "For $a_x$ the partial differences are: \n",
    "\n",
    "  $\\frac {\\partial 𝑢}{\\partial 𝑡} = 12t$ \n",
    "\n",
    "  $\\frac {\\partial 𝑢}{\\partial 𝑥}= 0$\n",
    "\n",
    "  $\\frac {\\partial 𝑢}{\\partial 𝑦} = 0$\n",
    "\n",
    "Replacing these partial differences in the acceleration equation we have the following:\n",
    "\n",
    "  $$𝑎_𝑥= (6𝑡^2 + 5)12t + 0 + 0$$\n",
    "  \n",
    "Considering this equation for acceleration, the flow is unsteady because there is local component of the accerlation and is uniform because there no convective acceleration\n",
    "```"
   ]
  },
  {
   "cell_type": "markdown",
   "id": "b08aefc3-5ed2-45dc-b23d-737324ed4a63",
   "metadata": {},
   "source": [
    "**Solution**"
   ]
  },
  {
   "cell_type": "code",
   "execution_count": 67,
   "id": "bdec45d4",
   "metadata": {
    "hidden": true,
    "scrolled": true,
    "tags": [
     "remove-input",
     "hide-output"
    ]
   },
   "outputs": [
    {
     "data": {
      "text/latex": [
       "\\[\n",
       "\\begin{aligned}\n",
       "a &= 12 \\cdot t \\\\&= 12 \\cdot 2 \\\\&= 24 \\; \\;\\textrm{(m/s2)}\\\\[10pt]\n",
       "\\end{aligned}\n",
       "\\]"
      ],
      "text/plain": [
       "<IPython.core.display.Latex object>"
      ]
     },
     "metadata": {},
     "output_type": "display_data"
    }
   ],
   "source": [
    "%%render long 2\n",
    "a= 12*t #m/s2\n"
   ]
  },
  {
   "cell_type": "markdown",
   "id": "acb28268-bd55-4539-ac33-507775f38101",
   "metadata": {
    "tags": []
   },
   "source": [
    "---\n",
    "#### Question 8(**)"
   ]
  },
  {
   "cell_type": "markdown",
   "id": "d083a64e",
   "metadata": {
    "hidden": true,
    "tags": [
     "remove-input"
    ]
   },
   "source": [
    "A flow field has the components $(𝑢, 𝑣) = (2𝑥^2, 8𝑦)$ in 𝑚/𝑠, where 𝑥 and 𝑦 are in 𝑚. Determine the equation of the streamline passing through the point (2𝑚, 3𝑚) {$ln(y)+4x^{-1}-3.1=0$}"
   ]
  },
  {
   "cell_type": "markdown",
   "id": "ed9439f3-7639-45d4-9b30-aeeab5e89873",
   "metadata": {
    "solution": "shown",
    "solution2": "hidden",
    "solution2_first": true,
    "solution_first": true,
    "tags": [
     "remove-input"
    ]
   },
   "source": [
    "**Hint**"
   ]
  },
  {
   "cell_type": "markdown",
   "id": "2e534a7d-f5c0-4689-8828-0dada4aeadf2",
   "metadata": {},
   "source": [
    "```{toggle}\n",
    "\n",
    "To determine the equation of the streamline the following equation should be used:\n",
    "\n",
    "$$ \\frac{dy}{dx}=\\frac{v}{u}$$\n",
    "\n",
    "\n",
    "\n",
    "```"
   ]
  },
  {
   "cell_type": "markdown",
   "id": "d95730e6-f8fe-4d66-81c7-ea5408467e4d",
   "metadata": {
    "solution": "shown",
    "solution2": "hidden",
    "solution2_first": true,
    "solution_first": true,
    "tags": [
     "remove-input"
    ]
   },
   "source": [
    "**Solution**"
   ]
  },
  {
   "cell_type": "markdown",
   "id": "75de6689-a02f-46b3-961f-bbc5d12cf858",
   "metadata": {},
   "source": [
    "```{toggle}\n",
    "the equation of the streamline can be calculated as:\n",
    "\n",
    "$$\\frac {\\partial y}{\\partial x} = \\frac{v}{u}=\\frac{8y}{2x^2}=\\frac{4y}{x^2}$$  \n",
    "$$\\frac{dy}{y}=\\frac{4y}{x^2}$$  \n",
    "$$\\int \\frac{1}{y}dy=\\int \\frac{4}{x^2}dx$$\n",
    "$$ln(y)=-4x^{-1}+C$$  \n",
    "\n",
    "Solving for $C$ and replacing $y$ and $x$ we can calculate $C$:\n",
    "\n",
    "$$C=ln(y)+4x^{-1}=ln(3)+4*2^{-1}=3.1$$  \n",
    "\n",
    "Therefore, the equation of the streamline passing through the point is:  \n",
    "\n",
    "$$ln(y)+4x^{-1}-3.1=0$$\n",
    "```"
   ]
  },
  {
   "cell_type": "markdown",
   "id": "7a3a5f79",
   "metadata": {
    "tags": []
   },
   "source": [
    "---\n",
    "#### Question 9 (**)"
   ]
  },
  {
   "cell_type": "markdown",
   "id": "3422bc4d",
   "metadata": {
    "hidden": true,
    "tags": [
     "remove-input"
    ]
   },
   "source": [
    "A fluid has velocity components of $𝑢 = (5𝑦^2)$ and 𝑣 = (4𝑥 − 1), where 𝑥 and 𝑦are in 𝑚 and the velocity components are in 𝑚/𝑠. Determine the equation of the streamline passing through the point (𝑥, 𝑦) = (1𝑚, 1𝑚). {$\\frac {5y^3}{3}- 2x^2+x-\\frac {2}{3}=0$}"
   ]
  },
  {
   "cell_type": "markdown",
   "id": "d733a54d",
   "metadata": {
    "solution": "shown",
    "solution2": "hidden",
    "solution2_first": true,
    "solution_first": true,
    "tags": [
     "remove-input"
    ]
   },
   "source": [
    "**Hint**"
   ]
  },
  {
   "cell_type": "markdown",
   "id": "f0c9c98e",
   "metadata": {},
   "source": [
    "```{toggle}\n",
    "\n",
    "To determine the equation of the streamline the following equation should be used:\n",
    "\n",
    "$$ \\frac{dy}{dx}=\\frac{v}{u}$$\n",
    "\n",
    "\n",
    "\n",
    "```"
   ]
  },
  {
   "cell_type": "markdown",
   "id": "68cb9c60-0e3c-424f-893d-7de66061c151",
   "metadata": {},
   "source": [
    "**Solution**"
   ]
  },
  {
   "cell_type": "markdown",
   "id": "2ba15154-6264-4539-8b3e-5c2aa81ab464",
   "metadata": {},
   "source": [
    "```{toggle}\n",
    "Organizing the equation we have:\n",
    "\n",
    "$$5y^2dy= (4x-1)dx$$\n",
    "\n",
    "$$\\int 5y^2dy = \\int(4x-1)dx $$\n",
    "\n",
    "$$\\frac {5y^3}{3}=\\frac {4x^2}{2}-x+C$$\n",
    "\n",
    "Replacing the (x,y) values in the equation to calculate C and then replace that value in the equation\n",
    "\n",
    "$$\n",
    "C= \\frac{5}{3}-2+1 =\\frac {2}{3}\n",
    "$$\n",
    "\n",
    "$$\n",
    "\\frac {5y^3}{3}- 2x^2+x-\\frac {2}{3}=0\n",
    "$$\n",
    "```"
   ]
  },
  {
   "cell_type": "markdown",
   "id": "213875d1-4429-472c-90fd-c4d35af756b8",
   "metadata": {
    "tags": []
   },
   "source": [
    "---\n",
    "#### Question 10 (**)[R]"
   ]
  },
  {
   "cell_type": "markdown",
   "id": "48773928",
   "metadata": {
    "hidden": true,
    "tags": [
     "remove-input"
    ]
   },
   "source": [
    "The velocity of a flow field is defined by $(𝑢, 𝑣) = (-\\frac{y}{4},\\frac{x}{9})$ 𝑚/𝑠, where 𝑥 and 𝑦 are in 𝑚.\n",
    "\n",
    "a) Determine the magnitude of the velocity and acceleration of a particle that passes through the point (𝑥, 𝑦) = (3𝑚, 2𝑚). {$ 0.6 m/s$, $0.10 m/s^2$}\n",
    "\n",
    "b) Find the equation of the streamline passing through this point. {$\\frac{9y^2}{2}+2x^2-36=0$}"
   ]
  },
  {
   "cell_type": "markdown",
   "id": "7940259b",
   "metadata": {},
   "source": [
    "a)"
   ]
  },
  {
   "cell_type": "markdown",
   "id": "eddea73f-b32c-4e5b-85ec-7c6f491295e8",
   "metadata": {
    "solution": "shown",
    "solution2": "hidden",
    "solution2_first": true,
    "solution_first": true,
    "tags": [
     "remove-input"
    ]
   },
   "source": [
    "**Given:**"
   ]
  },
  {
   "cell_type": "code",
   "execution_count": 14,
   "id": "e0642976",
   "metadata": {
    "scrolled": true,
    "tags": [
     "remove-input"
    ]
   },
   "outputs": [
    {
     "data": {
      "text/latex": [
       "\\[\n",
       "\\begin{aligned}\n",
       "x &= 3 \\; \\;\\textrm{(m)}\n",
       " &y &= 2 \\; \\;\\textrm{(m)}\n",
       "\\end{aligned}\n",
       "\\]"
      ],
      "text/plain": [
       "<IPython.core.display.Latex object>"
      ]
     },
     "metadata": {},
     "output_type": "display_data"
    }
   ],
   "source": [
    "%%render param \n",
    "x=3 #m\n",
    "y=2 #m"
   ]
  },
  {
   "cell_type": "markdown",
   "id": "4b6bc0cb",
   "metadata": {
    "solution": "shown",
    "solution2": "hidden",
    "solution2_first": true,
    "solution_first": true,
    "tags": [
     "remove-input"
    ]
   },
   "source": [
    "**Hint**"
   ]
  },
  {
   "cell_type": "markdown",
   "id": "4ff6245a-cbd3-4287-89da-29f14e57e39c",
   "metadata": {},
   "source": [
    "```{toggle}\n",
    "For the velocity we replace $x$ and $y$ in the given velocity equations:  \n",
    "\n",
    "$$(𝑢, 𝑣) = (-\\frac{y}{4},\\frac{x}{9})$$  \n",
    "\n",
    "For the acceleration, we have the following equations:  \n",
    "\n",
    "$$𝑎_𝑥 = u\\frac {\\partial 𝑢}{\\partial x} + v\\frac {\\partial 𝑢}{\\partial y}$$\n",
    "$$𝑎_y = u\\frac {\\partial v}{\\partial x} + v\\frac {\\partial v}{\\partial y}$$\n",
    "$$\\frac {\\partial 𝑢}{\\partial x}=0$$\n",
    "$$\\frac {\\partial 𝑢}{\\partial y}=-1/4$$\n",
    "$$\\frac {\\partial v}{\\partial y}=1/9$$\n",
    "$$\\frac {\\partial v}{\\partial y}=0$$\n",
    "\n",
    "And the magnitud for the velocity and the acceleration can be calculated as:\n",
    "\n",
    "$$ \\left|V \\right|=\\sqrt{V_x^2+V_y^2}$$\n",
    "$$ \\left|a \\right|=\\sqrt{a_x^2+a_y^2}$$  \n",
    "\n",
    "```"
   ]
  },
  {
   "cell_type": "markdown",
   "id": "54fbbdf5-64e5-495e-8043-6011568d1837",
   "metadata": {},
   "source": [
    "**Solution**"
   ]
  },
  {
   "cell_type": "code",
   "execution_count": 16,
   "id": "81cba171-dfa3-4ddd-984d-c5dd28e7e4aa",
   "metadata": {
    "scrolled": true,
    "tags": [
     "remove-input",
     "hide-output"
    ]
   },
   "outputs": [
    {
     "data": {
      "text/latex": [
       "\\[\n",
       "\\begin{aligned}\n",
       "V_{x} &= \\frac{ \\left( - y \\right) }{ 4 } \\\\&= \\frac{ \\left( - 2 \\right) }{ 4 } \\\\&= -0.50 \\; \\;\\textrm{(m/s)}\\\\[10pt]\n",
       "\\\\[10pt]\n",
       "V_{y} &= \\frac{ x }{ 9 } \\\\&= \\frac{ 3 }{ 9 } \\\\&= 0.33 \\; \\;\\textrm{(m/s)}\\\\[10pt]\n",
       "\\\\[10pt]\n",
       "V &= \\sqrt { \\left( V_{x} \\right) ^{ 2 } + \\left( V_{y} \\right) ^{ 2 } } \\\\&= \\sqrt { \\left( -0.50 \\right) ^{ 2 } + \\left( 0.33 \\right) ^{ 2 } } \\\\&= 0.60 \\; \\;\\textrm{(m/s)}\\\\[10pt]\n",
       "\\\\[10pt]\n",
       "a_{x} &= \\left( \\frac{ \\left( - y \\right) }{ 4 } \\right) \\cdot 0 + \\left( \\frac{ x }{ 9 } \\right) \\cdot \\left( \\frac{ \\left( - 1 \\right) }{ 4 } \\right) \\\\&= \\left( \\frac{ \\left( - 2 \\right) }{ 4 } \\right) \\cdot 0 + \\left( \\frac{ 3 }{ 9 } \\right) \\cdot \\left( \\frac{ \\left( - 1 \\right) }{ 4 } \\right) \\\\&= -0.08 \\; \\;\\textrm{(m/s)}\\\\[10pt]\n",
       "\\\\[10pt]\n",
       "a_{y} &= \\left( \\frac{ \\left( - y \\right) }{ 4 } \\right) \\cdot \\left( \\frac{ 1 }{ 9 } \\right) + \\left( \\frac{ x }{ 9 } \\right) \\cdot 0 \\\\&= \\left( \\frac{ \\left( - 2 \\right) }{ 4 } \\right) \\cdot \\left( \\frac{ 1 }{ 9 } \\right) + \\left( \\frac{ 3 }{ 9 } \\right) \\cdot 0 \\\\&= -0.06 \\; \\;\\textrm{(m/s)}\\\\[10pt]\n",
       "\\\\[10pt]\n",
       "a &= \\sqrt { \\left( a_{x} \\right) ^{ 2 } + \\left( a_{y} \\right) ^{ 2 } } \\\\&= \\sqrt { \\left( -0.08 \\right) ^{ 2 } + \\left( -0.06 \\right) ^{ 2 } } \\\\&= 0.10 \\; \\;\\textrm{(m/s)}\\\\[10pt]\n",
       "\\end{aligned}\n",
       "\\]"
      ],
      "text/plain": [
       "<IPython.core.display.Latex object>"
      ]
     },
     "metadata": {},
     "output_type": "display_data"
    }
   ],
   "source": [
    "%%render long 2\n",
    "V_x= -y/4 #m/s\n",
    "V_y= x/9 #m/s\n",
    "V= sqrt(V_x**2+V_y**2) #m/s\n",
    "\n",
    "a_x= (-y/4)*0+(x/9)*(-1/4) #m/s\n",
    "a_y= (-y/4)*(1/9)+(x/9)*(0) #m/s\n",
    "a= sqrt(a_x**2+a_y**2) #m/s"
   ]
  },
  {
   "cell_type": "markdown",
   "id": "f25a47e0",
   "metadata": {},
   "source": [
    "b)"
   ]
  },
  {
   "cell_type": "markdown",
   "id": "47bf23c3-3e5b-4593-9911-22d93b5cae0f",
   "metadata": {
    "solution": "shown",
    "solution2": "hidden",
    "solution2_first": true,
    "solution_first": true,
    "tags": [
     "remove-input"
    ]
   },
   "source": [
    "**Hint**"
   ]
  },
  {
   "cell_type": "markdown",
   "id": "d817ab5a-e3a5-4700-9a9d-2e24776e919c",
   "metadata": {},
   "source": [
    "```{toggle}\n",
    "To determine the equation of the streamline the following equation should be used:\n",
    "\n",
    "$$ \\frac{dy}{dx}=\\frac{v}{u}$$\n",
    "\n",
    "```              "
   ]
  },
  {
   "cell_type": "markdown",
   "id": "93225ff0",
   "metadata": {},
   "source": [
    "**Solution**"
   ]
  },
  {
   "cell_type": "markdown",
   "id": "7b41bc4f",
   "metadata": {},
   "source": [
    "```{toggle}\n",
    "The equation of the streamline can be calculated as:\n",
    "\n",
    "$$\\frac {\\partial y}{\\partial x} = \\frac{v}{u}=\\frac{x}{9}=\\frac{-y}{4}$$  \n",
    "$$\\frac{dy}{y}=\\frac{-4x}{9y}$$  \n",
    "$$\\int 9ydy=\\int -4xdx$$\n",
    "$$\\frac{9y^2}{2}=\\frac{-4x^2}{2}+C$$  \n",
    "\n",
    "Solving for $C$ and replacing $y$ and $x$ we can calculate $C$:\n",
    "\n",
    "$$C=\\frac{9y^2}{2}-\\frac{-4x^2}{2}=\\frac{9(2)^2}{2}-\\frac{-4(3)^2}{2}=36$$  \n",
    "\n",
    "Therefore, the equation of the streamline passing through the point is:  \n",
    "\n",
    "$$\\frac{9y^2}{2}+2x^2-36=0$$ \n",
    "\n",
    "```"
   ]
  },
  {
   "cell_type": "markdown",
   "id": "767d83ff",
   "metadata": {
    "tags": []
   },
   "source": [
    "---\n",
    "#### Question 11 (**)"
   ]
  },
  {
   "cell_type": "markdown",
   "id": "7fc94cb4",
   "metadata": {
    "hidden": true,
    "tags": [
     "remove-input"
    ]
   },
   "source": [
    "If a velocity field is defined by $(𝑢, 𝑣) = (2𝑥^2, −𝑦)$, where 𝑥 and 𝑦 are in 𝑚 and 𝑢 and 𝑣 are in 𝑚/𝑠, determine the equation of the streamline that passes through the point (𝑥, 𝑦) = (2𝑚, 6𝑚). Sketch the streamline for 𝑥 > 0. {$ln (y)-\\frac {1}{2x}-1.54=0$}"
   ]
  },
  {
   "cell_type": "markdown",
   "id": "42076047",
   "metadata": {
    "solution": "shown",
    "solution2": "hidden",
    "solution2_first": true,
    "solution_first": true,
    "tags": [
     "remove-input"
    ]
   },
   "source": [
    "**Hint**"
   ]
  },
  {
   "cell_type": "markdown",
   "id": "a22d8df6",
   "metadata": {},
   "source": [
    "```{toggle}\n",
    "\n",
    "To determine the equation of the streamline the following equation should be used:\n",
    "\n",
    "$$ \\frac{dy}{dx}=\\frac{v}{u}$$\n",
    "\n",
    "\n",
    "\n",
    "```"
   ]
  },
  {
   "cell_type": "markdown",
   "id": "3ab130b5",
   "metadata": {},
   "source": [
    "**Solution**"
   ]
  },
  {
   "cell_type": "markdown",
   "id": "6642243e-86c3-401a-bde8-db85bd1c7ed6",
   "metadata": {},
   "source": [
    "```{toggle}\n",
    "Organizing the equation we have:\n",
    "\n",
    "$$-ydy= 2x^2dx$$\n",
    "\n",
    "$$\\int \\frac {dy}{y}= \\int \\frac{dx}{-2x^2} $$\n",
    "\n",
    "$$ln (y)=\\frac {1}{2x}+C$$\n",
    "\n",
    "Replacing the (x,y) values in the equation to calculate C and then replacet that value in the equation\n",
    "\n",
    "$$C= ln (6)-\\frac {1}{4}=1.54$$\n",
    "\n",
    "$$ln (y)-\\frac {1}{2x}-1.54=0$$\n",
    "```"
   ]
  },
  {
   "cell_type": "code",
   "execution_count": 70,
   "id": "6570c7f2-54b2-48bc-8a91-74ff8dfd6424",
   "metadata": {
    "tags": [
     "remove-input",
     "hide-output"
    ]
   },
   "outputs": [
    {
     "data": {
      "text/plain": [
       "<matplotlib.legend.Legend at 0x18b7fe62640>"
      ]
     },
     "execution_count": 70,
     "metadata": {},
     "output_type": "execute_result"
    },
    {
     "data": {
      "image/png": "[encoded data removed]",
      "text/plain": [
       "<Figure size 432x288 with 1 Axes>"
      ]
     },
     "metadata": {
      "needs_background": "light"
     },
     "output_type": "display_data"
    }
   ],
   "source": [
    "import numpy as np\n",
    "import matplotlib.pyplot as plt\n",
    "x = np.arange(0.1,20,0.1)\n",
    "y = np.exp(1/(2*x)+1.54)\n",
    "plt.figure\n",
    "plt.plot(x,y,x,np.ones(len(x))*4.67,'k--')\n",
    "plt.ylim([0,20])\n",
    "plt.xlim([0,20])\n",
    "plt.xlabel('x')\n",
    "plt.ylabel('y')\n",
    "plt.legend(['Function','Asymptote at approx. 4.67'])"
   ]
  },
  {
   "cell_type": "markdown",
   "id": "6828eeb3-90a9-4487-9ae9-69d82b40655f",
   "metadata": {},
   "source": [
    "## Problems for Lecture 12 – Conservation of Mass"
   ]
  },
  {
   "cell_type": "markdown",
   "id": "18eb8d1d-39f9-4731-88f7-40ad79fc62f1",
   "metadata": {
    "tags": []
   },
   "source": [
    "---\n",
    "#### Question 1 (*)[R]"
   ]
  },
  {
   "cell_type": "markdown",
   "id": "8127e569-2df0-4063-9ada-3f6a9764ff7f",
   "metadata": {},
   "source": [
    "Water flows through a rectangular pipe with a width of 0.08 𝑚 and a height of 0.04 𝑚. If the average velocity of the flow is 4 𝑚/𝑠, determine the mass flow through the pipe. You may assume that the density of water is 1000 𝑘𝑔/𝑚<sup>3</sup>. {12.8 kg/s}"
   ]
  },
  {
   "cell_type": "markdown",
   "id": "6dc8aa8d-763d-4ef7-b48f-335ed7cc45ef",
   "metadata": {},
   "source": [
    "**Given:**"
   ]
  },
  {
   "cell_type": "code",
   "execution_count": 18,
   "id": "49fe571f-c9a7-441b-b1a8-ef226659d972",
   "metadata": {
    "tags": [
     "remove-input"
    ]
   },
   "outputs": [
    {
     "data": {
      "text/latex": [
       "\\[\n",
       "\\begin{aligned}\n",
       "b &= 0.080 \\; \\;\\textrm{(m)}\n",
       " &y &= 0.040 \\; \\;\\textrm{(m)}\n",
       " &V &= 4 \\; \\;\\textrm{(m/s)}\n",
       "\\\\[10pt]\n",
       " \\rho &= 1000 \\; \\;\\textrm{(kg/m3)}\n",
       "\\end{aligned}\n",
       "\\]"
      ],
      "text/plain": [
       "<IPython.core.display.Latex object>"
      ]
     },
     "metadata": {},
     "output_type": "display_data"
    }
   ],
   "source": [
    "%%render param \n",
    "\n",
    "b=0.08 #m\n",
    "y=0.04 #m\n",
    "V=4 #m/s\n",
    "rho=1000 #kg/m3"
   ]
  },
  {
   "cell_type": "markdown",
   "id": "dcc5e2b8-a644-4099-af97-720f76999f5d",
   "metadata": {},
   "source": [
    "**Hint**"
   ]
  },
  {
   "cell_type": "markdown",
   "id": "c623531c-df9e-4b1a-8438-fd23455d2008",
   "metadata": {},
   "source": [
    "```{toggle}\n",
    "The mass flux can be calculated with the following equation:  \n",
    "\n",
    "$$\\dot{m}=\\rho V A$$\n",
    "\n",
    "```"
   ]
  },
  {
   "cell_type": "markdown",
   "id": "8a95ed24-223e-45b8-b165-884f97f91205",
   "metadata": {},
   "source": [
    "**Solution**"
   ]
  },
  {
   "cell_type": "code",
   "execution_count": 32,
   "id": "ca19b6ef",
   "metadata": {
    "tags": [
     "remove-input",
     "hide-output"
    ]
   },
   "outputs": [
    {
     "data": {
      "text/latex": [
       "\\[\n",
       "\\begin{aligned}\n",
       "A &= b \\cdot y \\\\&= 0.080 \\cdot 0.040 \\\\&= 0.003 \\; \\;\\textrm{(m2)}\\\\[10pt]\n",
       "\\\\[10pt]\n",
       "\\mathrm{mass}_{flux} &= \\rho \\cdot V \\cdot A \\\\&= 1000 \\cdot 1 \\cdot 0.003 \\\\&= 3.200 \\; \\;\\textrm{(kg/s)}\\\\[10pt]\n",
       "\\end{aligned}\n",
       "\\]"
      ],
      "text/plain": [
       "<IPython.core.display.Latex object>"
      ]
     },
     "metadata": {},
     "output_type": "display_data"
    }
   ],
   "source": [
    "%%render long 3\n",
    "A= b*y #m2\n",
    "mass_flux= rho*V*A #kg/s"
   ]
  },
  {
   "cell_type": "markdown",
   "id": "3112b044",
   "metadata": {
    "tags": []
   },
   "source": [
    "---\n",
    "#### Question 2 (*)[R]"
   ]
  },
  {
   "cell_type": "markdown",
   "id": "8aa5844c",
   "metadata": {},
   "source": [
    "Water flows through a pipe of diameter 0.5 m with a discharge of 0.2 𝑚<sup>3</sup>/𝑠. Calculate the velocity of the flow and describe why the mass flux must be constant throughout the pipe {V=1.02 m/s}"
   ]
  },
  {
   "cell_type": "markdown",
   "id": "b91b2529",
   "metadata": {},
   "source": [
    "**Given:**"
   ]
  },
  {
   "cell_type": "code",
   "execution_count": 71,
   "id": "0085a22c",
   "metadata": {
    "scrolled": true,
    "tags": [
     "remove-input"
    ]
   },
   "outputs": [
    {
     "data": {
      "text/latex": [
       "\\[\n",
       "\\begin{aligned}\n",
       "d &= 0.500 \\; \\;\\textrm{(m)}\n",
       " &Q &= 0.200 \\; \\;\\textrm{(m3/s)}\n",
       "\\end{aligned}\n",
       "\\]"
      ],
      "text/plain": [
       "<IPython.core.display.Latex object>"
      ]
     },
     "metadata": {},
     "output_type": "display_data"
    }
   ],
   "source": [
    "%%render param \n",
    "\n",
    "D=0.5 #mm_flux\n",
    "Q= 0.2#m3/s"
   ]
  },
  {
   "cell_type": "markdown",
   "id": "4b5e858f",
   "metadata": {},
   "source": [
    "**Hint**"
   ]
  },
  {
   "cell_type": "markdown",
   "id": "77ae6159",
   "metadata": {},
   "source": [
    "```{toggle}\n",
    "The mass flux must be constant throughout the pipe because fluid mass can’t be created or destroyed. Assuming no leaks, and that the pipe is flowing full (and that water is incompressible), then the mass inflow and mass outflow from a control volume in the pipe must be equal. Hence, the mass flux throughout the pipe must be constant. \n",
    "\n",
    "For that reason the following equation can be used:\n",
    "\n",
    "$$V= \\frac {Q}{A}$$\n",
    "\n",
    "and the area of a pipe is \n",
    "\n",
    "$$\n",
    "A= \\pi \\frac{D^2}{4}\n",
    "$$\n",
    "```"
   ]
  },
  {
   "cell_type": "markdown",
   "id": "25d068f5",
   "metadata": {},
   "source": [
    "**Solution**"
   ]
  },
  {
   "cell_type": "code",
   "execution_count": 75,
   "id": "be969b76",
   "metadata": {
    "scrolled": true,
    "tags": [
     "remove-input",
     "hide-output"
    ]
   },
   "outputs": [
    {
     "data": {
      "text/latex": [
       "\\[\n",
       "\\begin{aligned}\n",
       "V &= \\frac{ Q \\cdot 4 }{ \\pi \\cdot \\left( d \\right) ^{ 2 } } \\\\&= \\frac{ 0.20 \\cdot 4 }{ 3.14 \\cdot \\left( 0.50 \\right) ^{ 2 } } \\\\&= 1.02 \\; \\;\\textrm{(m/s)}\\\\[10pt]\n",
       "\\end{aligned}\n",
       "\\]"
      ],
      "text/plain": [
       "<IPython.core.display.Latex object>"
      ]
     },
     "metadata": {},
     "output_type": "display_data"
    }
   ],
   "source": [
    "%%render long 2\n",
    "V= (Q*4)/(pi*D**2) #m/s"
   ]
  },
  {
   "cell_type": "markdown",
   "id": "a97276a3",
   "metadata": {
    "tags": []
   },
   "source": [
    "---\n",
    "#### Question 3 (*)[R]"
   ]
  },
  {
   "cell_type": "markdown",
   "id": "c59f80e8",
   "metadata": {},
   "source": [
    "Water flows through a hose (diameter of 25 𝑚𝑚) with a velocity of 1 𝑚/𝑠. The water passes through a nozzle and exits as a free jet. Close to the nozzle, the jet velocity is equal to 5 𝑚/𝑠. Calculate the diameter of the nozzle. \n",
    "Hint: You may assume that the jet diameter is equal to the nozzle diameter for this question. {11.18 mm}"
   ]
  },
  {
   "cell_type": "markdown",
   "id": "364092f9",
   "metadata": {},
   "source": [
    "**Given:**"
   ]
  },
  {
   "cell_type": "code",
   "execution_count": 25,
   "id": "d96f9843",
   "metadata": {
    "scrolled": true,
    "tags": [
     "remove-input"
    ]
   },
   "outputs": [
    {
     "data": {
      "text/latex": [
       "\\[\n",
       "\\begin{aligned}\n",
       "d &= 0.025 \\; \\;\\textrm{(m)}\n",
       " &V_{in} &= 1 \\; \\;\\textrm{(m/s)}\n",
       " &V_{out} &= 5 \\; \\;\\textrm{(m/s)}\n",
       "\\\\[10pt]\n",
       "\\end{aligned}\n",
       "\\]"
      ],
      "text/plain": [
       "<IPython.core.display.Latex object>"
      ]
     },
     "metadata": {},
     "output_type": "display_data"
    }
   ],
   "source": [
    "%%render param \n",
    "\n",
    "d=25/1000 #m\n",
    "V_in=1 #m/s\n",
    "V_out=5 #m/s"
   ]
  },
  {
   "cell_type": "markdown",
   "id": "cb0981c6",
   "metadata": {},
   "source": [
    "**Hint**"
   ]
  },
  {
   "cell_type": "markdown",
   "id": "90a628f0",
   "metadata": {},
   "source": [
    "```{toggle}\n",
    "Because of the conservation of mass, we have:\n",
    "\n",
    "$$V_{in}A_{in}=V_{out}A_{out}$$  \n",
    "\n",
    "Replacing the areas, the diameter of the nozzle can be solved from the equation as follows:\n",
    "\n",
    "$$d_{out}= \\sqrt{\\frac{V_{in} \\pi \\frac{d_{in}^2}{4}}{V_{out}}\\frac{4}{\\pi}}$$  \n",
    "\n",
    "```"
   ]
  },
  {
   "cell_type": "markdown",
   "id": "ec1dd74c",
   "metadata": {},
   "source": [
    "**Solution**"
   ]
  },
  {
   "cell_type": "code",
   "execution_count": 31,
   "id": "c3f5587c",
   "metadata": {
    "scrolled": true,
    "tags": [
     "remove-input",
     "hide-output"
    ]
   },
   "outputs": [
    {
     "data": {
      "text/latex": [
       "\\[\n",
       "\\begin{aligned}\n",
       "A_{in} &= \\pi \\cdot \\frac{ \\left( d \\right) ^{ 2 } }{ 4 } \\\\&= 3.1416 \\cdot \\frac{ \\left( 0.0250 \\right) ^{ 2 } }{ 4 } \\\\&= 0.0005 \\; \\;\\textrm{(m2)}\\\\[10pt]\n",
       "\\\\[10pt]\n",
       "d_{out} &= \\sqrt { \\frac{ V_{in} \\cdot A_{in} }{ V_{out} } \\cdot \\left( \\frac{ 4 }{ \\pi } \\right) } \\\\&= \\sqrt { \\frac{ 1 \\cdot 0.0005 }{ 5 } \\cdot \\left( \\frac{ 4 }{ 3.1416 } \\right) } \\\\&= 0.0112 \\; \\;\\textrm{(m)}\\\\[10pt]\n",
       "\\\\[10pt]\n",
       "d_{out_{}} &= d_{out} \\cdot 1000 \\\\&= 0.0112 \\cdot 1000 \\\\&= 11.1803 \\; \\;\\textrm{(mm)}\\\\[10pt]\n",
       "\\end{aligned}\n",
       "\\]"
      ],
      "text/plain": [
       "<IPython.core.display.Latex object>"
      ]
     },
     "metadata": {},
     "output_type": "display_data"
    }
   ],
   "source": [
    "%%render long 4\n",
    "A_in= pi*d**2/4 #m2\n",
    "d_out= sqrt((V_in*A_in)/V_out*(4/pi)) #m\n",
    "d_out_= d_out*1000 #mm"
   ]
  },
  {
   "cell_type": "markdown",
   "id": "2c210e8a-ab07-4c2e-9d10-a9395cb443ab",
   "metadata": {
    "tags": []
   },
   "source": [
    "---\n",
    "#### Question 4 (*)[R]"
   ]
  },
  {
   "cell_type": "markdown",
   "id": "e3e32ee4-618e-411f-add3-1d8a717494cf",
   "metadata": {},
   "source": [
    "Water flows through a pipe with a diameter of 0.1 𝑚 with a velocity of 2 𝑚/𝑠, where the pipe is flowing full and water may be assumed to be incompressible. You may assume that the velocity is uniform over the pipe cross-section.\n",
    "\n",
    "a) At some point in the pipe, a constriction is installed that narrows the pipe diameter to 0.06 𝑚. Use the continuity equation to determine the discharge and  velocity in the narrow section. {$0.02 m^3/s$}\n",
    "\n",
    "b) At another point, the 0.1 𝑚 pipe (with water flowing at the same velocity) reaches a junction and branches into two pipes with diameters of 0.03 𝑚. Use the Continuity Equation to determine the discharge and velocity in the smaller pipes {$0.01 m^3/s$}\n",
    "\n",
    "c) Describe how your solution method would change if the flow velocity was not uniform over the cross-section of interest \n"
   ]
  },
  {
   "cell_type": "markdown",
   "id": "536bdc01-1945-40cb-99dc-34d5cb8f8512",
   "metadata": {},
   "source": [
    "**Given:**"
   ]
  },
  {
   "cell_type": "code",
   "execution_count": 78,
   "id": "3dc39b56-21ac-4a54-96a4-68746116da9d",
   "metadata": {
    "scrolled": true,
    "tags": [
     "remove-input"
    ]
   },
   "outputs": [
    {
     "data": {
      "text/latex": [
       "\\[\n",
       "\\begin{aligned}\n",
       "d_{in} &= 0.100 \\; \\;\\textrm{(m)}\n",
       " &V_{in} &= 2 \\; \\;\\textrm{(m/s)}\n",
       "\\end{aligned}\n",
       "\\]"
      ],
      "text/plain": [
       "<IPython.core.display.Latex object>"
      ]
     },
     "metadata": {},
     "output_type": "display_data"
    }
   ],
   "source": [
    "%%render param \n",
    "\n",
    "D_in=0.1 #m\n",
    "V_in= 2#m/s"
   ]
  },
  {
   "cell_type": "markdown",
   "id": "1c5ded47-8e51-45c7-bb75-28fa27ced533",
   "metadata": {},
   "source": [
    "a)"
   ]
  },
  {
   "cell_type": "markdown",
   "id": "088e48b5-cccd-428b-9089-7d7218eea8d6",
   "metadata": {},
   "source": [
    "**Hint**"
   ]
  },
  {
   "cell_type": "markdown",
   "id": "f4d09123-cd31-417f-8788-c954fa40d8f5",
   "metadata": {},
   "source": [
    "```{toggle}\n",
    "The equation for the conservation of mass can be used:\n",
    "\n",
    "$$ Q_{in}=Q_{out}$$\n",
    "\n",
    "and knowing that flow is $Q= V \\cdot A$\n",
    "\n",
    "The following equation can be used to calculate the velocisy and flow in the constriction \n",
    "\n",
    "$$V_{in} \\cdot A_{in}=V_{out} \\cdot A_{out}$$\n"
   ]
  },
  {
   "cell_type": "markdown",
   "id": "da3ab3c6-6cfb-445a-ab66-ab96a303e6a9",
   "metadata": {},
   "source": [
    "**Solution**"
   ]
  },
  {
   "cell_type": "code",
   "execution_count": 84,
   "id": "8c9670f1-4ed9-4dfd-83b0-084fdd989930",
   "metadata": {
    "tags": [
     "hide-output",
     "remove-input"
    ]
   },
   "outputs": [
    {
     "data": {
      "text/latex": [
       "\\[\n",
       "\\begin{aligned}\n",
       "d_{out} &= 0.06 \\; \\;\\textrm{(m)}\n",
       "\\\\[10pt]\n",
       "Q_{in} &= \\pi \\cdot \\left( d_{in} \\right) ^{ 2 } \\cdot \\frac{ V_{in} }{ 4 } \\\\&= 3.14 \\cdot \\left( 0.10 \\right) ^{ 2 } \\cdot \\frac{ 2 }{ 4 } \\\\&= 0.02 \\; \\;\\textrm{(m3/s)}\\\\[10pt]\n",
       "\\\\[10pt]\n",
       "V_{out} &= \\frac{ Q_{in} \\cdot 4 }{ \\pi \\cdot \\left( d_{out} \\right) ^{ 2 } } \\\\&= \\frac{ 0.02 \\cdot 4 }{ 3.14 \\cdot \\left( 0.06 \\right) ^{ 2 } } \\\\&= 5.56 \\; \\;\\textrm{(m/s)}\\\\[10pt]\n",
       "\\\\[10pt]\n",
       "Q_{out} &= V_{out} \\cdot \\pi \\cdot \\frac{ \\left( d_{out} \\right) ^{ 2 } }{ 4 } \\\\&= 5.56 \\cdot 3.14 \\cdot \\frac{ \\left( 0.06 \\right) ^{ 2 } }{ 4 } \\\\&= 0.02  \\\\[10pt]\n",
       "\\end{aligned}\n",
       "\\]"
      ],
      "text/plain": [
       "<IPython.core.display.Latex object>"
      ]
     },
     "metadata": {},
     "output_type": "display_data"
    }
   ],
   "source": [
    "%%render long 2 \n",
    "D_out=0.06#m\n",
    "Q_in= pi*D_in**2*V_in/4 #m3/s\n",
    "\n",
    "V_out= (Q_in*4)/(pi*D_out**2)#m/s\n",
    "\n",
    "Q_out = V_out*pi*D_out**2/4  #m3/s"
   ]
  },
  {
   "cell_type": "markdown",
   "id": "6872dcd6-e39a-42f4-9c04-bbb4b8ab494f",
   "metadata": {},
   "source": [
    "b) "
   ]
  },
  {
   "cell_type": "markdown",
   "id": "2a8e6b84-76d8-48d7-89ce-5203c08cab84",
   "metadata": {},
   "source": [
    "**Hint**"
   ]
  },
  {
   "cell_type": "markdown",
   "id": "b870a3c0-5dc1-4a55-a5f1-378b10cdbaf4",
   "metadata": {},
   "source": [
    "```{toggle}\n",
    "The continuos equation in this exercise is \n",
    "\n",
    "$$Q_1=Q_2+Q_3$$\n",
    "\n",
    "Where:\n",
    "\n",
    "$Q_1$ is the discharge in the larger pipe,\n",
    "$Q_2$ and $Q_3$ are the discharge in the two smaller pipes\n",
    "\n",
    "And the flow can also be expressed as \n",
    "\n",
    "$$Q= V*A$$\n",
    "\n",
    "$$Q_1=V_2*A_2+V_3*A_3$$\n",
    "\n",
    "Considering the two smaller pipes have the same diameter and flow, the velocity is going to be the same\n",
    "\n",
    "$$Q_1=2*V_2*A_2$$\n",
    "\n",
    "and $Q_2=Q_3$\n",
    "```"
   ]
  },
  {
   "cell_type": "markdown",
   "id": "47fc95d5-6cfe-411e-9029-3771d01321ad",
   "metadata": {},
   "source": [
    "**Solution**"
   ]
  },
  {
   "cell_type": "code",
   "execution_count": 94,
   "id": "8700d69a-d04d-478d-a5ae-5ef92e059849",
   "metadata": {
    "tags": [
     "remove-input",
     "hide-output"
    ]
   },
   "outputs": [
    {
     "data": {
      "text/latex": [
       "\\[\n",
       "\\begin{aligned}\n",
       "d_{s} &= 0.03 \\; \\;\\textrm{(m)}\n",
       "\\\\[10pt]\n",
       "V_{2} &= Q_{in} \\cdot \\frac{ 4 }{ 2 \\cdot \\pi \\cdot \\left( d_{s} \\right) ^{ 2 } } \\\\&= 0.02 \\cdot \\frac{ 4 }{ 2 \\cdot 3.14 \\cdot \\left( 0.03 \\right) ^{ 2 } } \\\\&= 11.11 \\; \\;\\textrm{(m/s)}\\\\[10pt]\n",
       "\\\\[10pt]\n",
       "Q_{2} &= V_{2} \\cdot \\left( d_{s} \\right) ^{ 2 } \\cdot \\frac{ \\pi }{ 4 } \\\\&= 11.11 \\cdot \\left( 0.03 \\right) ^{ 2 } \\cdot \\frac{ 3.14 }{ 4 } \\\\&= 0.01 \\; \\;\\textrm{(m3/s)}\\\\[10pt]\n",
       "\\end{aligned}\n",
       "\\]"
      ],
      "text/plain": [
       "<IPython.core.display.Latex object>"
      ]
     },
     "metadata": {},
     "output_type": "display_data"
    }
   ],
   "source": [
    "%%render long 2\n",
    "D_s=0.03 #m\n",
    "V_2= Q_in*4/(2*pi*D_s**2)#m/s\n",
    "Q_2= V_2*D_s**2*pi/4 #m3/s"
   ]
  },
  {
   "cell_type": "markdown",
   "id": "95f54968-48b1-4a60-be90-0451ce1bcce0",
   "metadata": {},
   "source": [
    "c) "
   ]
  },
  {
   "cell_type": "markdown",
   "id": "baf65589-e1f2-4dd4-9398-0a24112a3c87",
   "metadata": {},
   "source": [
    "**Solution**"
   ]
  },
  {
   "cell_type": "markdown",
   "id": "9b645cc9-1afa-4ad9-b2b0-2f38fc66693f",
   "metadata": {},
   "source": [
    "```{toggle}\n",
    "We would need to integrate over the cross-sections using the equation \n",
    "\n",
    "𝑄 = ∫ 𝑣𝑑𝐴, or in polar coordinates for a circular cross-section \n",
    "𝑄 = ∫ 𝑣 × 2𝜋𝑟𝑑r\n",
    "```"
   ]
  },
  {
   "cell_type": "markdown",
   "id": "74e1c828-b2c9-4c54-8a26-8fb83905081d",
   "metadata": {
    "tags": []
   },
   "source": [
    "---\n",
    "#### Question 5 (**)[R]"
   ]
  },
  {
   "cell_type": "markdown",
   "id": "d92b7b5e-1eb2-4e67-bc48-4b0bbad704e9",
   "metadata": {},
   "source": [
    "The velocity profile for a liquid flowing in a channel is determined to be $𝑢 = 8𝑧^{1/3}$, where 𝑧 is the vertical coordinate in 𝑚 and 𝑢 is the horizontal velocity in 𝑚/𝑠. Assuming that the channel is 0.8 𝑚 deep and 1.2 𝑚 wide, calculate:\n",
    "\n",
    "a) The discharge in the channel. {5.35 $m^3/s$}\n",
    "\n",
    "b) The average velocity in the channel. {5.57 m/s}\n",
    "\n",
    "c) Sketch the vertical velocity profile."
   ]
  },
  {
   "cell_type": "markdown",
   "id": "c19adf3d-dd25-4829-a6ac-08d6eb205cdd",
   "metadata": {},
   "source": [
    "**Given:**"
   ]
  },
  {
   "cell_type": "code",
   "execution_count": 5,
   "id": "906d4d6f-22f7-4c43-9f8d-0ed87e27d8cc",
   "metadata": {
    "tags": [
     "remove-input"
    ]
   },
   "outputs": [
    {
     "data": {
      "text/latex": [
       "\\[\n",
       "\\begin{aligned}\n",
       "y &= 0.8 \\; \\;\\textrm{(m)}\n",
       " &b &= 1.2 \\; \\;\\textrm{(m)}\n",
       "\\end{aligned}\n",
       "\\]"
      ],
      "text/plain": [
       "<IPython.core.display.Latex object>"
      ]
     },
     "metadata": {},
     "output_type": "display_data"
    }
   ],
   "source": [
    "%%render param 1\n",
    "y=0.8 #m\n",
    "b=1.2 #m"
   ]
  },
  {
   "cell_type": "markdown",
   "id": "11d590de-2ed0-44e1-b4da-a9afe1415ea2",
   "metadata": {},
   "source": [
    "a)"
   ]
  },
  {
   "cell_type": "markdown",
   "id": "dddcdf26",
   "metadata": {},
   "source": [
    "**Hint**"
   ]
  },
  {
   "cell_type": "markdown",
   "id": "6a842b46-4ea7-43b2-8c37-e9c1c3e22987",
   "metadata": {},
   "source": [
    "\n",
    "```{toggle}\n",
    "The discharge in the channel can be calculated as:\n",
    "\n",
    "$$Q=V A$$\n",
    "$$Q=\\int_{A}^{}V dA$$\n",
    "$$Q=\\int_{A}^{}u(z) dA$$\n",
    "$$Q=\\int_{0}^{0.8}8𝑧^{1/3}(b) dz$$  \n",
    "\n",
    "```\n"
   ]
  },
  {
   "cell_type": "markdown",
   "id": "603ea9ea-41b8-4629-aaea-74a21b33a3db",
   "metadata": {},
   "source": [
    "**Solution**"
   ]
  },
  {
   "cell_type": "code",
   "execution_count": 6,
   "id": "42d520c9-5367-4dcd-b350-809ad7dde4ac",
   "metadata": {
    "scrolled": true,
    "tags": [
     "remove-input",
     "hide-output"
    ]
   },
   "outputs": [
    {
     "data": {
      "text/latex": [
       "\\[\n",
       "\\begin{aligned}\n",
       "Q &= \\left( \\frac{ 24 }{ 4 } \\cdot \\left( 0.8 \\right) ^{ \\left( \\frac{ 4 }{ 3 } \\right) } \\cdot b \\right) - \\left( \\frac{ 24 }{ 4 } \\cdot \\left( 0 \\right) ^{ \\left( \\frac{ 4 }{ 3 } \\right) } \\cdot b \\right) \\\\&= \\left( \\frac{ 24 }{ 4 } \\cdot \\left( 0.8 \\right) ^{ \\left( \\frac{ 4 }{ 3 } \\right) } \\cdot 1.20 \\right) - \\left( \\frac{ 24 }{ 4 } \\cdot \\left( 0 \\right) ^{ \\left( \\frac{ 4 }{ 3 } \\right) } \\cdot 1.20 \\right) \\\\&= 5.35 \\; \\;\\textrm{(m3/s)}\\\\[10pt]\n",
       "\\end{aligned}\n",
       "\\]"
      ],
      "text/plain": [
       "<IPython.core.display.Latex object>"
      ]
     },
     "metadata": {},
     "output_type": "display_data"
    }
   ],
   "source": [
    "%%render long 2\n",
    "Q= (24/4*(0.8)**(4/3)*b)-((24/4*(0)**(4/3)*b)) #m3/s"
   ]
  },
  {
   "cell_type": "markdown",
   "id": "ffd77848",
   "metadata": {},
   "source": [
    "b) "
   ]
  },
  {
   "cell_type": "markdown",
   "id": "3dd3bc8b",
   "metadata": {},
   "source": [
    "**Hint**"
   ]
  },
  {
   "cell_type": "markdown",
   "id": "a7f57fca",
   "metadata": {},
   "source": [
    "```{toggle}\n",
    "The average velocity in the channel can be calculated as:\n",
    "\n",
    "$$V=Q/A$$\n",
    "\n",
    "```\n"
   ]
  },
  {
   "cell_type": "markdown",
   "id": "b8cc2b32",
   "metadata": {},
   "source": [
    "**Solution**"
   ]
  },
  {
   "cell_type": "code",
   "execution_count": 41,
   "id": "ddf87a33",
   "metadata": {
    "tags": [
     "remove-input",
     "hide-output"
    ]
   },
   "outputs": [
    {
     "data": {
      "text/latex": [
       "\\[\n",
       "\\begin{aligned}\n",
       "V &= \\frac{ Q }{ b \\cdot y } \\\\&= \\frac{ 5.35 }{ 1.20 \\cdot 0.80 } \\\\&= 5.57 \\; \\;\\textrm{(m/s)}\\\\[10pt]\n",
       "\\end{aligned}\n",
       "\\]"
      ],
      "text/plain": [
       "<IPython.core.display.Latex object>"
      ]
     },
     "metadata": {},
     "output_type": "display_data"
    }
   ],
   "source": [
    "%%render long 2\n",
    "V= Q/(b*y) #m/s"
   ]
  },
  {
   "cell_type": "markdown",
   "id": "b3c20d41",
   "metadata": {},
   "source": [
    "c) "
   ]
  },
  {
   "cell_type": "markdown",
   "id": "bcab8c84",
   "metadata": {},
   "source": [
    "**Hint**"
   ]
  },
  {
   "cell_type": "markdown",
   "id": "31b2b2a7",
   "metadata": {},
   "source": [
    "\n",
    "```{toggle}\n",
    "You’ll need to integrate the vertical velocity profile. If you’re unsure about the\n",
    "sketch, try calculating the velocity at different vertical locations.\n",
    "\n",
    "```\n"
   ]
  },
  {
   "cell_type": "markdown",
   "id": "aa8be4ce",
   "metadata": {},
   "source": [
    "**Solution**"
   ]
  },
  {
   "cell_type": "code",
   "execution_count": 8,
   "id": "419543b5",
   "metadata": {
    "tags": [
     "remove-input",
     "hide-output"
    ]
   },
   "outputs": [
    {
     "data": {
      "image/png": "[encoded data removed]",
      "text/plain": [
       "<PIL.PngImagePlugin.PngImageFile image mode=RGBA size=638x527 at 0x204F36869D0>"
      ]
     },
     "execution_count": 8,
     "metadata": {},
     "output_type": "execute_result"
    }
   ],
   "source": [
    "from PIL import Image\n",
    "img = Image.open(r\"figures/L12E5s.png\")\n",
    "img"
   ]
  },
  {
   "cell_type": "markdown",
   "id": "d9097513",
   "metadata": {
    "tags": []
   },
   "source": [
    "---\n",
    "#### Question 6 (**)[R]"
   ]
  },
  {
   "cell_type": "markdown",
   "id": "b75e6da3",
   "metadata": {},
   "source": [
    "A small pipe with a diameter of D<sub>1</sub> = 8𝑐𝑚 attached to a pump injects water at a velocity of V<sub>1</sub> = 30𝑚/𝑠 into a larger pipe (D<sub>2</sub> = 25𝑐𝑚), entraining a secondary flow of V<sub>2</sub> = 3𝑚/𝑠 in the annular region around the small pipe. Some distance downstream, the two flows are fully mixed and the flow within the large pipe is approximately uniform. Calculate the average velocity in the fully mixed region of the large pipe. {V<sub>3</sub>= 5.76 m/s}\n",
    "\n",
    "Hint: Draw a diagram (this is really important for this problem!) and remember that the discharge cannot change if mass is conserved, assuming that the water is incompressible."
   ]
  },
  {
   "cell_type": "markdown",
   "id": "8b61920a",
   "metadata": {},
   "source": [
    "**Given:**"
   ]
  },
  {
   "cell_type": "code",
   "execution_count": 15,
   "id": "404f06c1",
   "metadata": {
    "scrolled": true,
    "tags": [
     "remove-input"
    ]
   },
   "outputs": [
    {
     "data": {
      "text/latex": [
       "\\[\n",
       "\\begin{aligned}\n",
       "D_{1} &= 0.008 \\; \\;\\textrm{(m)}\n",
       " &V_{1} &= 30 \\; \\;\\textrm{(m/s)}\n",
       " &D_{2} &= 0.025 \\; \\;\\textrm{(m)}\n",
       "\\\\[10pt]\n",
       " V_{2} &= 3 \\; \\;\\textrm{(m/s)}\n",
       "\\end{aligned}\n",
       "\\]"
      ],
      "text/plain": [
       "<IPython.core.display.Latex object>"
      ]
     },
     "metadata": {},
     "output_type": "display_data"
    }
   ],
   "source": [
    "%%render param \n",
    "\n",
    "D_1=8/1000 #m\n",
    "V_1= 30#m/s\n",
    "D_2=25/1000 #m\n",
    "V_2= 3#m/s"
   ]
  },
  {
   "cell_type": "markdown",
   "id": "6226ae13",
   "metadata": {},
   "source": [
    "**Hint**"
   ]
  },
  {
   "cell_type": "code",
   "execution_count": 106,
   "id": "7a46d943-f4ca-47cf-b88c-c6c8d61fcac0",
   "metadata": {
    "tags": [
     "remove-input",
     "hide-output"
    ]
   },
   "outputs": [
    {
     "data": {
      "image/png": "[encoded data removed]",
      "text/plain": [
       "<PIL.PngImagePlugin.PngImageFile image mode=RGBA size=482x237 at 0x18B2B11A6D0>"
      ]
     },
     "execution_count": 106,
     "metadata": {},
     "output_type": "execute_result"
    }
   ],
   "source": [
    "from PIL import Image\n",
    "img = Image.open(r\"figures/12.6.png\")\n",
    "img"
   ]
  },
  {
   "cell_type": "markdown",
   "id": "11c240ec",
   "metadata": {},
   "source": [
    "```{toggle}\n",
    "The continuity equation in this exercise is \n",
    "\n",
    "$$Q_3=Q_1+Q_2$$\n",
    "\n",
    "Where:\n",
    "\n",
    "$Q_3$ is the discharge when the flow is fully mixed\n",
    "\n",
    "$Q_2$ is the discarge that was in the pipe \n",
    "\n",
    "$Q_1$ is the discharge of the pump\n",
    "\n",
    "And the flow can also be expressed as \n",
    "\n",
    "$$Q= V*A$$\n",
    "\n",
    "$$Q_3=V_1*A_1+V_2*A_2$$\n",
    "\n",
    "Where:\n",
    "\n",
    "$A_2= \\frac {\\pi (D_2^2-D_1^2)}{4}$\n",
    "\n",
    "Replacing all the equation in the conservation of mass, we have:\n",
    "\n",
    "$$Q_3=V_1*\\frac {\\pi (D_1^2)}{4}+V_2*\\frac {\\pi (D_2^2-D_1^2)}{4}$$\n",
    "```\n"
   ]
  },
  {
   "cell_type": "markdown",
   "id": "c9cf5275",
   "metadata": {},
   "source": [
    "**Solution**"
   ]
  },
  {
   "cell_type": "code",
   "execution_count": 17,
   "id": "42e908d7",
   "metadata": {
    "tags": [
     "remove-input",
     "hide-output"
    ]
   },
   "outputs": [
    {
     "data": {
      "text/latex": [
       "\\[\n",
       "\\begin{aligned}\n",
       "Q_{3} &= \\pi \\cdot \\left( D_{1} \\right) ^{ 2 } \\cdot \\frac{ V_{1} }{ 4 } + \\pi \\cdot \\left( \\left( D_{2} \\right) ^{ 2 } - \\left( D_{1} \\right) ^{ 2 } \\right) \\cdot \\frac{ V_{2} }{ 4 } \\\\&= 3.142 \\cdot \\left( 0.008 \\right) ^{ 2 } \\cdot \\frac{ 30 }{ 4 } + 3.142 \\cdot \\left( \\left( 0.025 \\right) ^{ 2 } - \\left( 0.008 \\right) ^{ 2 } \\right) \\cdot \\frac{ 3 }{ 4 } \\\\&= 0.003 \\; \\;\\textrm{(m3/s)}\\\\[10pt]\n",
       "\\\\[10pt]\n",
       "V_{3} &= Q_{3} \\cdot \\frac{ 4 }{ \\pi \\cdot \\left( D_{2} \\right) ^{ 2 } } \\\\&= 0.003 \\cdot \\frac{ 4 }{ 3.142 \\cdot \\left( 0.025 \\right) ^{ 2 } } \\\\&= 5.765 \\; \\;\\textrm{(m/s)}\\\\[10pt]\n",
       "\\end{aligned}\n",
       "\\]"
      ],
      "text/plain": [
       "<IPython.core.display.Latex object>"
      ]
     },
     "metadata": {},
     "output_type": "display_data"
    }
   ],
   "source": [
    "%%render long 3\n",
    "\n",
    "Q_3= pi*D_1**2*V_1/4+pi*(D_2**2-D_1**2)*V_2/4 #m3/s\n",
    "\n",
    "V_3= Q_3*4/(pi*D_2**2)#m/s"
   ]
  },
  {
   "cell_type": "markdown",
   "id": "9236ef21",
   "metadata": {
    "tags": []
   },
   "source": [
    "---\n",
    "#### Question 7 (**)"
   ]
  },
  {
   "cell_type": "markdown",
   "id": "b43b9c8e",
   "metadata": {},
   "source": [
    "Water flows between two flat plates, which are separated by a gap of 0.5 𝑚. The width of the plates is 2 𝑚. Calculate the discharge between the plates for the following velocity profiles (note that 𝑧 is the vertical coordinate 𝑧 = 0 at the bottom plate and flow is assumed to be uniform in the 𝑥 and 𝑦 directions):\n",
    "Hint: for (b) and (c) you will need to integrate the velocity profile in the vertical\n",
    "direction. \n",
    "\n",
    "a) 𝑢(𝑧) = 2 (i.e. a constant velocity of 2 𝑚/𝑠). {2 $m^3/s$}\n",
    "\n",
    "b) 𝑢(𝑧) = 4𝑧 (i.e. a linear velocity distribution between the bottom and the top plate). {1 $m^3/s$}\n",
    "\n",
    "c) 𝑢(𝑧) = $8𝑧^2$ (i.e. a parabolic velocity distribution). {0.67 $m^3/s$}"
   ]
  },
  {
   "cell_type": "markdown",
   "id": "99ced859",
   "metadata": {},
   "source": [
    "**Given:**"
   ]
  },
  {
   "cell_type": "code",
   "execution_count": 44,
   "id": "ecae570e",
   "metadata": {
    "tags": [
     "remove-input"
    ]
   },
   "outputs": [
    {
     "data": {
      "text/latex": [
       "\\[\n",
       "\\begin{aligned}\n",
       "z &= 0.5 \\; \\;\\textrm{(m)}\n",
       " &b &= 2 \\; \\;\\textrm{(m)}\n",
       "\\end{aligned}\n",
       "\\]"
      ],
      "text/plain": [
       "<IPython.core.display.Latex object>"
      ]
     },
     "metadata": {},
     "output_type": "display_data"
    }
   ],
   "source": [
    "%%render param 1\n",
    "z=0.5 #m\n",
    "b=2 #m"
   ]
  },
  {
   "cell_type": "markdown",
   "id": "bfa1ed8e",
   "metadata": {},
   "source": [
    "a) "
   ]
  },
  {
   "cell_type": "markdown",
   "id": "908351ac",
   "metadata": {},
   "source": [
    "**Hint**"
   ]
  },
  {
   "cell_type": "markdown",
   "id": "c0f1cf1d",
   "metadata": {},
   "source": [
    "```{toggle}\n",
    "The discharge between the plates can be calculated as:\n",
    "\n",
    "$$Q=\\int_{0}^{0.5}vdA$$\n",
    "$$Q=\\int_{0}^{0.5}u(z)bdz=z\\cdot 2\\cdot 2$$  \n",
    "\n",
    "```"
   ]
  },
  {
   "cell_type": "markdown",
   "id": "f74d09be",
   "metadata": {},
   "source": [
    "**Solution**"
   ]
  },
  {
   "cell_type": "code",
   "execution_count": 9,
   "id": "06d19982",
   "metadata": {
    "tags": [
     "remove-input",
     "hide-output"
    ]
   },
   "outputs": [
    {
     "data": {
      "text/latex": [
       "\\[\n",
       "\\begin{aligned}\n",
       "Q &= \\left( 0.5 \\cdot 2 \\cdot 2 \\right) - \\left( 0 \\cdot 2 \\cdot 2 \\right) &= 2.0 \\; \\;\\textrm{(m3/s)}\n",
       "\\end{aligned}\n",
       "\\]"
      ],
      "text/plain": [
       "<IPython.core.display.Latex object>"
      ]
     },
     "metadata": {},
     "output_type": "display_data"
    }
   ],
   "source": [
    "%%render long 1\n",
    "Q= (0.5*2*2)-(0*2*2) #m3/s"
   ]
  },
  {
   "cell_type": "markdown",
   "id": "55bd9c05",
   "metadata": {},
   "source": [
    "b)"
   ]
  },
  {
   "cell_type": "markdown",
   "id": "149e8a56",
   "metadata": {},
   "source": [
    "**Hint**"
   ]
  },
  {
   "cell_type": "markdown",
   "id": "a2b55bb0",
   "metadata": {},
   "source": [
    "```{toggle}\n",
    "The discharge between the plates can be calculated as:\n",
    "\n",
    "$$Q=\\int_{0}^{0.5}vdA$$\n",
    "$$Q=\\int_{0}^{0.5}u(z)bdz=8z^2/2$$\n",
    "\n",
    "```"
   ]
  },
  {
   "cell_type": "markdown",
   "id": "7461fbea",
   "metadata": {},
   "source": [
    "**Solution**"
   ]
  },
  {
   "cell_type": "code",
   "execution_count": 10,
   "id": "7b45e815",
   "metadata": {
    "scrolled": true,
    "tags": [
     "remove-input",
     "hide-output"
    ]
   },
   "outputs": [
    {
     "data": {
      "text/latex": [
       "\\[\n",
       "\\begin{aligned}\n",
       "Q &= \\left( 8 \\cdot \\frac{ \\left( 0.5 \\right) ^{ 2 } }{ 2 } \\right) - \\left( 8 \\cdot \\frac{ \\left( 0 \\right) ^{ 2 } }{ 2 } \\right) &= 1.0 \\; \\;\\textrm{(m3/s)}\n",
       "\\end{aligned}\n",
       "\\]"
      ],
      "text/plain": [
       "<IPython.core.display.Latex object>"
      ]
     },
     "metadata": {},
     "output_type": "display_data"
    }
   ],
   "source": [
    "%%render long 1\n",
    "Q= (8*(0.5)**2/2)-(8*(0)**2/2) #m3/s"
   ]
  },
  {
   "cell_type": "markdown",
   "id": "a3f40cf0",
   "metadata": {},
   "source": [
    "c) "
   ]
  },
  {
   "cell_type": "markdown",
   "id": "d5153717",
   "metadata": {},
   "source": [
    "**Hint**"
   ]
  },
  {
   "cell_type": "markdown",
   "id": "a3e81e5e",
   "metadata": {},
   "source": [
    "```{toggle}\n",
    "The discharge between the plates can be calculated as:\n",
    "\n",
    "$$Q=\\int_{0}^{0.5}vdA$$\n",
    "$$Q=\\int_{0}^{0.5}u(z)bdz=16z^3/3$$\n",
    " \n",
    "```"
   ]
  },
  {
   "cell_type": "markdown",
   "id": "90c36c84",
   "metadata": {},
   "source": [
    "**Solution**"
   ]
  },
  {
   "cell_type": "code",
   "execution_count": 48,
   "id": "6edff587",
   "metadata": {
    "tags": [
     "remove-input",
     "hide-output"
    ]
   },
   "outputs": [
    {
     "data": {
      "text/latex": [
       "\\[\n",
       "\\begin{aligned}\n",
       "Q &= \\left( 16 \\cdot \\frac{ \\left( 0.5 \\right) ^{ 3 } }{ 3 } \\right) - \\left( 16 \\cdot \\frac{ \\left( 0 \\right) ^{ 3 } }{ 3 } \\right) &= 0.67 \\; \\;\\textrm{(m3/s)}\n",
       "\\end{aligned}\n",
       "\\]"
      ],
      "text/plain": [
       "<IPython.core.display.Latex object>"
      ]
     },
     "metadata": {},
     "output_type": "display_data"
    }
   ],
   "source": [
    "%%render long 2\n",
    "Q= (16*(0.5)**3/3)-(16*(0)**3/3) #m3/s"
   ]
  },
  {
   "cell_type": "markdown",
   "id": "9ecdbe08-61cc-4a1a-a185-8e39fba6582f",
   "metadata": {
    "tags": []
   },
   "source": [
    "---\n",
    "#### Question 8 (**)"
   ]
  },
  {
   "cell_type": "markdown",
   "id": "8989ff96-1b57-45c8-a8ed-a22d131e2f33",
   "metadata": {},
   "source": [
    "A viscous fluid flows through a channel with a square cross-section (width and height of 0.5 𝑚) with a vertical velocity profile of 𝑢(𝑧) = 8𝑧<sup>2</sup> , where 𝑢 is the horizontal velocity and 𝑧 is the vertical coordinate. Determine the discharge in the channel. {0.167 $m^3/s$}"
   ]
  },
  {
   "cell_type": "markdown",
   "id": "856f14f7-7ce0-47ba-bf51-abe720aa0421",
   "metadata": {},
   "source": [
    "**Given:**"
   ]
  },
  {
   "cell_type": "code",
   "execution_count": 11,
   "id": "4014d7ae-ca4c-4017-b9ec-e54117c5bdfe",
   "metadata": {
    "tags": [
     "remove-input"
    ]
   },
   "outputs": [
    {
     "data": {
      "text/latex": [
       "\\[\n",
       "\\begin{aligned}\n",
       "h &= 0.5 \\; \\;\\textrm{(m)}\n",
       " &b &= 0.5 \\; \\;\\textrm{(m)}\n",
       "\\end{aligned}\n",
       "\\]"
      ],
      "text/plain": [
       "<IPython.core.display.Latex object>"
      ]
     },
     "metadata": {},
     "output_type": "display_data"
    }
   ],
   "source": [
    "%%render param 1\n",
    "\n",
    "h= 0.5#m \n",
    "b=0.5 #m "
   ]
  },
  {
   "cell_type": "markdown",
   "id": "c411802b-9e08-4ede-b870-00ad8790be50",
   "metadata": {},
   "source": [
    "**Hint**"
   ]
  },
  {
   "cell_type": "markdown",
   "id": "f7824842-e718-481d-8499-e3e141aaa93c",
   "metadata": {},
   "source": [
    "```{toggle}\n",
    "To find the discharge 𝑄 in the channel, we integrate the velocity profile 𝑢(𝑧) over the cross-sectional area of the channel. \n",
    "\n",
    "$$Q= \\int u(z)dA$$\n",
    "\n",
    "Where:\n",
    "\n",
    "$u(z)= 8z^2$\n",
    "\n",
    "$dA= bdz$\n",
    "\n",
    "The integration is carried out from the bottom of the channel to a height of 0.5 m\n",
    "\n",
    "$$Q= \\int_0^h 8z^2 bdz$$\n",
    "```"
   ]
  },
  {
   "cell_type": "markdown",
   "id": "f9e67c63-d3d7-4e12-92b8-9922c000a8fd",
   "metadata": {},
   "source": [
    "**Solution**"
   ]
  },
  {
   "cell_type": "code",
   "execution_count": 161,
   "id": "e38b8cfc-2cd4-4fcf-a4ad-159b42195af7",
   "metadata": {
    "tags": [
     "remove-input"
    ]
   },
   "outputs": [],
   "source": [
    "from sympy.abc import z\n",
    "from sympy import integrate, init_printing\n",
    "init_printing(use_latex=\"mathjax\")\n",
    "Q= 8*z**2*b\n",
    "Q=integrate (Q,(z,0,h))\n",
    "Q_1= round(float(Q),3)\n"
   ]
  },
  {
   "cell_type": "markdown",
   "id": "3f6073c4-598c-41fd-b9be-0c2e8d1f6179",
   "metadata": {},
   "source": [
    "```{toggle}\n",
    "The integration of \n",
    "\n",
    "$$Q = 8z^2b$$  \n",
    "\n",
    "from (0) to (0.5m) is:\n",
    "\n",
    "$$Q= \\int_{{0}}^{{h}} 8z^2b dz={0.167} \\space m^3/s$$\n",
    "```"
   ]
  },
  {
   "cell_type": "code",
   "execution_count": 164,
   "id": "c907a827-5f06-45cf-9ea6-56a60dc2ecf4",
   "metadata": {
    "tags": [
     "remove-input",
     "hide-output"
    ]
   },
   "outputs": [],
   "source": [
    "from IPython.display import display, Markdown\n",
    "\n",
    "# Suponiendo que 'resultado_integral' es la variable calculada en la celda anterior\n",
    "#display(Markdown(f\"\"\"\n",
    "#La integral de $$Q = 8z^2b$$ con respecto a (z) desde (0) hasta (h) es:\n",
    "\n",
    "#$$Q= \\int_{{0}}^{{h}} 8z^2b \\\\ dz={Q_1}$$\n",
    "#\"\"\"))"
   ]
  },
  {
   "cell_type": "code",
   "execution_count": null,
   "id": "94e02392-e173-4637-8a3c-1b436fc2c5c3",
   "metadata": {},
   "outputs": [],
   "source": []
  }
 ],
 "metadata": {
  "celltoolbar": "Tags",
  "hide_input": false,
  "kernelspec": {
   "display_name": "Python 3 (ipykernel)",
   "language": "python",
   "name": "python3"
  },
  "language_info": {
   "codemirror_mode": {
    "name": "ipython",
    "version": 3
   },
   "file_extension": ".py",
   "mimetype": "text/x-python",
   "name": "python",
   "nbconvert_exporter": "python",
   "pygments_lexer": "ipython3",
   "version": "3.12.4"
  },
  "toc": {
   "base_numbering": 1,
   "nav_menu": {},
   "number_sections": true,
   "sideBar": true,
   "skip_h1_title": false,
   "title_cell": "Table of Contents",
   "title_sidebar": "Contents",
   "toc_cell": false,
   "toc_position": {
    "height": "calc(100% - 180px)",
    "left": "10px",
    "top": "150px",
    "width": "239.965px"
   },
   "toc_section_display": true,
   "toc_window_display": false
  }
 },
 "nbformat": 4,
 "nbformat_minor": 5
}
