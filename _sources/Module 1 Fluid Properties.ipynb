{
 "cells": [
  {
   "cell_type": "markdown",
   "id": "85fd5bb0",
   "metadata": {
    "tags": [
     "remove-input"
    ]
   },
   "source": [
    "# Module 1: Fluid properties"
   ]
  },
  {
   "cell_type": "code",
   "execution_count": 1,
   "id": "b4d7e2b6",
   "metadata": {
    "tags": [
     "remove-input"
    ]
   },
   "outputs": [],
   "source": [
    "!pip install handcalcs -q\n",
    "!pip install Pillow -q\n",
    "!pip install sympy -q"
   ]
  },
  {
   "cell_type": "code",
   "execution_count": 2,
   "id": "cf7d0302",
   "metadata": {
    "jupyter": {
     "source_hidden": true
    },
    "scrolled": true,
    "tags": [
     "remove-input"
    ]
   },
   "outputs": [],
   "source": [
    "import handcalcs.render\n",
    "from sympy import symbols, Eq, solve\n",
    "from math import sqrt,pi, cos, sin, radians,asin,atan,degrees, tan, log10\n",
    "from PIL import Image"
   ]
  },
  {
   "cell_type": "markdown",
   "id": "d6080ff8",
   "metadata": {},
   "source": [
    "Global variables:"
   ]
  },
  {
   "cell_type": "code",
   "execution_count": 3,
   "id": "26dd11d4",
   "metadata": {
    "scrolled": true,
    "tags": [
     "remove-input"
    ]
   },
   "outputs": [
    {
     "data": {
      "text/latex": [
       "\\[\n",
       "\\begin{aligned}\n",
       "g &= 9.810 \\; \\;\\textrm{(m/s2)}\n",
       " &\\rho_{water} &= 1000 \\; \\;\\textrm{(kg/m3)}\n",
       " &\\rho_{Hg} &= 13600 \\; \\;\\textrm{(kg/m3)}\n",
       "\\\\[10pt]\n",
       " p_{atm} &= 101325 \\; \\;\\textrm{(Pa)}\n",
       "\\end{aligned}\n",
       "\\]"
      ],
      "text/plain": [
       "<IPython.core.display.Latex object>"
      ]
     },
     "metadata": {},
     "output_type": "display_data"
    }
   ],
   "source": [
    "%%render param \n",
    "\n",
    "g=9.81 #m/s2\n",
    "rho_water=1000 #kg/m3\n",
    "rho_Hg=13600 #kg/m3\n",
    "p_atm=101325 #Pa"
   ]
  },
  {
   "cell_type": "markdown",
   "id": "ff0097e0",
   "metadata": {
    "tags": [
     "remove-input"
    ]
   },
   "source": [
    "## Problems for Lecture 2: Basic\tfluid\tproperties,\tIdeal\tgas\tlaw,\tand\tCompressibility\tof\tliquids\n"
   ]
  },
  {
   "cell_type": "markdown",
   "id": "54c6df8a",
   "metadata": {},
   "source": [
    "### Basic fluid properties"
   ]
  },
  {
   "cell_type": "code",
   "execution_count": 4,
   "id": "e4d32e5d",
   "metadata": {
    "tags": [
     "remove-input"
    ]
   },
   "outputs": [],
   "source": [
    "# Automatically add 'remove-input' tag to all cells\n",
    "\n",
    "#from notebook import notebookapp\n",
    "#from IPython.display import display, Javascript\n",
    "\n",
    "#def add_remove_input_tag():\n",
    "#    display(Javascript('''\n",
    "#        var cells = Jupyter.notebook.get_cells();\n",
    "#        cells.forEach(function(cell) {\n",
    "#            cell.metadata.tags = cell.metadata.tags || [];\n",
    "#            if (cell.metadata.tags.indexOf('remove-input') === -1) {\n",
    "#                cell.metadata.tags.push('remove-input');\n",
    "#            }\n",
    "#        });\n",
    "#        Jupyter.notebook.save_notebook();\n",
    "#    '''))\n",
    "\n",
    "#add_remove_input_tag()\n"
   ]
  },
  {
   "cell_type": "markdown",
   "id": "eb8ff78b",
   "metadata": {},
   "source": [
    "---\n",
    "#### Question 1 (*)"
   ]
  },
  {
   "cell_type": "markdown",
   "id": "a8de7115",
   "metadata": {
    "tags": [
     "remove-input"
    ]
   },
   "source": [
    "\n",
    "If the specific volume of a gas is 0.70 m<sup>3 </sup>/kg, what is its specific weight? {14.01 N/m<sup>3</sup>}</font>\n",
    "\n"
   ]
  },
  {
   "cell_type": "markdown",
   "id": "6f7e0d55",
   "metadata": {
    "tags": [
     "remove-input"
    ]
   },
   "source": [
    "**Given:**\n"
   ]
  },
  {
   "cell_type": "code",
   "execution_count": 5,
   "id": "cfd37e45",
   "metadata": {
    "jupyter": {
     "source_hidden": true
    },
    "scrolled": true,
    "tags": [
     "remove-input"
    ]
   },
   "outputs": [
    {
     "data": {
      "text/latex": [
       "\\[\n",
       "\\begin{aligned}\n",
       "v &= 0.700 \\; \\;\\textrm{(m3/kg)}\n",
       "\\end{aligned}\n",
       "\\]"
      ],
      "text/plain": [
       "<IPython.core.display.Latex object>"
      ]
     },
     "metadata": {},
     "output_type": "display_data"
    }
   ],
   "source": [
    "%%render param\n",
    "v=0.7 #m3/kg"
   ]
  },
  {
   "cell_type": "markdown",
   "id": "41713dfe",
   "metadata": {
    "solution": "shown",
    "solution2": "hidden",
    "solution2_first": true,
    "solution_first": true,
    "tags": [
     "remove-input"
    ]
   },
   "source": [
    "**Hint**"
   ]
  },
  {
   "cell_type": "markdown",
   "id": "0f634e08",
   "metadata": {
    "solution": "shown",
    "tags": [
     "remove-input"
    ]
   },
   "source": [
    "```{toggle}\n",
    "The specific weigth can be calculated as $\\gamma=\\rho \\cdot g$  \n",
    "\n",
    "$\\rho$ can be calculated as $\\rho=1/\\nu$ and we know $g$= 9.81 m/s<sup>2 </sup>\n",
    "```\n"
   ]
  },
  {
   "cell_type": "markdown",
   "id": "fe153b15",
   "metadata": {
    "solution": "shown",
    "solution2": "hidden",
    "solution2_first": true,
    "solution_first": true,
    "tags": [
     "remove-input"
    ]
   },
   "source": [
    "**Solution**"
   ]
  },
  {
   "cell_type": "code",
   "execution_count": 6,
   "id": "c3f4b30d",
   "metadata": {
    "jupyter": {
     "source_hidden": true
    },
    "scrolled": true,
    "solution": "shown",
    "tags": [
     "remove-input",
     "hide-output"
    ]
   },
   "outputs": [
    {
     "data": {
      "text/latex": [
       "\\[\n",
       "\\begin{aligned}\n",
       "\\rho &= \\frac{ 1 }{ v } \\\\&= \\frac{ 1 }{ 0.70 } \\\\&= 1.43 \\; \\;\\textrm{(kg/m3)}\\\\[10pt]\n",
       "\\\\[10pt]\n",
       "\\gamma &= \\rho \\cdot g \\\\&= 1.43 \\cdot 9.81 \\\\&= 14.01 \\; \\;\\textrm{(N/m3)}\\\\[10pt]\n",
       "\\end{aligned}\n",
       "\\]"
      ],
      "text/plain": [
       "<IPython.core.display.Latex object>"
      ]
     },
     "metadata": {},
     "output_type": "display_data"
    }
   ],
   "source": [
    "%%render long 2\n",
    "rho= 1/v #kg/m3\n",
    "\n",
    "gamma= rho*g #N/m3\n"
   ]
  },
  {
   "cell_type": "markdown",
   "id": "8a1bfeec",
   "metadata": {},
   "source": [
    "---\n",
    "#### Question 2 (*)[R]"
   ]
  },
  {
   "cell_type": "markdown",
   "id": "cae127a9",
   "metadata": {
    "tags": [
     "remove-input"
    ]
   },
   "source": [
    "---\n",
    "\n",
    "\n",
    "A reservoir of glycerin has a mass of 1200 kg and a volume of 0.952 m<sup>3. </sup> Find the \n",
    "glycerin’s weight, mass density, specific weight and specific gravity. {11.77 kN; 1261 kg/m<sup>3</sup>; 12.36 kN/m<sup>3</sup>; 1.261}"
   ]
  },
  {
   "cell_type": "markdown",
   "id": "1bd1a81d",
   "metadata": {
    "solution": "shown",
    "tags": [
     "remove-input"
    ]
   },
   "source": [
    "**Given:**"
   ]
  },
  {
   "cell_type": "code",
   "execution_count": 7,
   "id": "4982ce22",
   "metadata": {
    "jupyter": {
     "source_hidden": true
    },
    "scrolled": true,
    "tags": [
     "remove-input"
    ]
   },
   "outputs": [
    {
     "data": {
      "text/latex": [
       "\\[\n",
       "\\begin{aligned}\n",
       "m &= 1200 \\; \\;\\textrm{(kg)}\n",
       " &\\mathrm{Vol} &= 0.952 \\; \\;\\textrm{(m3)}\n",
       "\\end{aligned}\n",
       "\\]"
      ],
      "text/plain": [
       "<IPython.core.display.Latex object>"
      ]
     },
     "metadata": {},
     "output_type": "display_data"
    }
   ],
   "source": [
    "%%render \n",
    "#parameter\n",
    "m=1200 #kg\n",
    "Vol=0.952 #m3\n",
    "\n"
   ]
  },
  {
   "cell_type": "markdown",
   "id": "0ac9a925",
   "metadata": {},
   "source": [
    "**Hint**"
   ]
  },
  {
   "cell_type": "markdown",
   "id": "cf8ab5e3",
   "metadata": {
    "tags": [
     "remove-input",
     "hide-cell"
    ]
   },
   "source": [
    "```{toggle}\n",
    "The weight is: $W=  m*g$\n",
    "\n",
    "The specific weigth is: $\\gamma=\\rho \\cdot g$  \n",
    "\n",
    "The mass density is: $\\rho=\\frac{m}{Vol}$ \n",
    "\n",
    "The specific gravity is: $s= \\frac {\\rho_{fluid}}{\\rho_{water}}$\n",
    "```\n"
   ]
  },
  {
   "cell_type": "markdown",
   "id": "38d5a07c",
   "metadata": {},
   "source": [
    "**Solution**"
   ]
  },
  {
   "cell_type": "code",
   "execution_count": 8,
   "id": "53099f7c",
   "metadata": {
    "jupyter": {
     "source_hidden": true
    },
    "scrolled": true,
    "tags": [
     "remove-input",
     "hide-output"
    ]
   },
   "outputs": [
    {
     "data": {
      "text/latex": [
       "\\[\n",
       "\\begin{aligned}\n",
       "W &= m \\cdot g \\\\&= 1200 \\cdot 9.81 \\\\&= 11772.00 \\; \\;\\textrm{(N)}\\\\[10pt]\n",
       "\\\\[10pt]\n",
       "\\rho_{glycerin} &= \\frac{ m }{ \\mathrm{Vol} } \\\\&= \\frac{ 1200 }{ 0.95 } \\\\&= 1260.50 \\; \\;\\textrm{(kg/m3)}\\\\[10pt]\n",
       "\\\\[10pt]\n",
       "\\gamma_{glycerin} &= \\rho_{glycerin} \\cdot g \\\\&= 1260.50 \\cdot 9.81 \\\\&= 12365.55 \\; \\;\\textrm{(N/m3)}\\\\[10pt]\n",
       "\\\\[10pt]\n",
       "s_{glycerin} &= \\frac{ \\rho_{glycerin} }{ \\rho_{water} } \\\\&= \\frac{ 1260.50 }{ 1000 } \\\\&= 1.26  \\\\[10pt]\n",
       "\\end{aligned}\n",
       "\\]"
      ],
      "text/plain": [
       "<IPython.core.display.Latex object>"
      ]
     },
     "metadata": {},
     "output_type": "display_data"
    }
   ],
   "source": [
    "%%render 2\n",
    "#long\n",
    "W= m*g #N\n",
    "rho_glycerin= m/Vol #kg/m3\n",
    "gamma_glycerin= rho_glycerin*g #N/m3\n",
    "s_glycerin= rho_glycerin/rho_water "
   ]
  },
  {
   "cell_type": "markdown",
   "id": "da1a6ebc",
   "metadata": {},
   "source": [
    "---\n",
    "#### Question 3 (*)"
   ]
  },
  {
   "cell_type": "markdown",
   "id": "50a55ad0",
   "metadata": {
    "tags": [
     "remove-input"
    ]
   },
   "source": [
    "The volume of a rock is found to be 0.00015 m<sup>3</sup>. If the rock’s specific gravity is 2.60, what is its weight? {3.82 N}"
   ]
  },
  {
   "cell_type": "markdown",
   "id": "71bdf7ba",
   "metadata": {
    "tags": [
     "remove-input"
    ]
   },
   "source": [
    "**Given:**"
   ]
  },
  {
   "cell_type": "code",
   "execution_count": 9,
   "id": "1368e99a",
   "metadata": {
    "jupyter": {
     "source_hidden": true
    },
    "scrolled": true,
    "tags": [
     "remove-input"
    ]
   },
   "outputs": [
    {
     "data": {
      "text/latex": [
       "\\[\n",
       "\\begin{aligned}\n",
       "\\mathrm{Vol} &= 0.00015 \\; \\;\\textrm{(m3)}\n",
       " &s &= 2.60000 \\;\n",
       "\\end{aligned}\n",
       "\\]"
      ],
      "text/plain": [
       "<IPython.core.display.Latex object>"
      ]
     },
     "metadata": {},
     "output_type": "display_data"
    }
   ],
   "source": [
    "%%render param 5\n",
    "Vol=0.00015 #m3\n",
    "s=2.6\n"
   ]
  },
  {
   "cell_type": "markdown",
   "id": "f062c4d2",
   "metadata": {},
   "source": [
    "**Hint**"
   ]
  },
  {
   "cell_type": "markdown",
   "id": "078c65aa",
   "metadata": {
    "tags": [
     "remove-input",
     "hide-cell"
    ]
   },
   "source": [
    "```{toggle}\n",
    "The weight of the rock can be calculated as $W=\\rho \\cdot g \\cdot Vol$  \n",
    "The volume and $g$ are known.\n",
    "As we have the specific gravity, $\\rho$ can be calculated as $\\rho = \\rho_{water} \\cdot s$\n",
    "```"
   ]
  },
  {
   "cell_type": "markdown",
   "id": "5e82199b",
   "metadata": {},
   "source": [
    "**Solution**"
   ]
  },
  {
   "cell_type": "code",
   "execution_count": 10,
   "id": "32dc8292",
   "metadata": {
    "jupyter": {
     "source_hidden": true
    },
    "tags": [
     "remove-input",
     "hide-output"
    ]
   },
   "outputs": [
    {
     "data": {
      "text/latex": [
       "\\[\n",
       "\\begin{aligned}\n",
       "\\rho &= \\rho_{water} \\cdot s \\\\&= 1000 \\cdot 2.60 \\\\&= 2600.00 \\; \\;\\textrm{(kg/m3)}\\\\[10pt]\n",
       "\\\\[10pt]\n",
       "W &= \\rho \\cdot g \\cdot \\mathrm{Vol} \\\\&= 2600.00 \\cdot 9.81 \\cdot 0.00 \\\\&= 3.83 \\; \\;\\textrm{(N)}\\\\[10pt]\n",
       "\\end{aligned}\n",
       "\\]"
      ],
      "text/plain": [
       "<IPython.core.display.Latex object>"
      ]
     },
     "metadata": {},
     "output_type": "display_data"
    }
   ],
   "source": [
    "%%render long 2\n",
    "rho= rho_water*s #kg/m3\n",
    "\n",
    "W= rho*g*Vol #N"
   ]
  },
  {
   "cell_type": "markdown",
   "id": "6d140dbf",
   "metadata": {},
   "source": [
    "---\n",
    "#### Question 4 (*)"
   ]
  },
  {
   "cell_type": "markdown",
   "id": "31ca2a94",
   "metadata": {
    "tags": [
     "remove-input"
    ]
   },
   "source": [
    "A certain gas weighs 16.0 N/m<sup>3 </sup> at a certain temperature and pressure. What are the values of its density, specific volume, and specific gravity relative to air weighing 12.0 N/m<sup>3 </sup>? {a) 1.631 kg/ mm<sup>3</sup> b) 0.613 mm<sup>3 </sup>/kg c)1.33}"
   ]
  },
  {
   "cell_type": "markdown",
   "id": "080d827a",
   "metadata": {
    "tags": [
     "remove-input"
    ]
   },
   "source": [
    "**Given:**\n"
   ]
  },
  {
   "cell_type": "code",
   "execution_count": 11,
   "id": "8da3cdbf",
   "metadata": {
    "jupyter": {
     "source_hidden": true
    },
    "scrolled": true,
    "tags": [
     "remove-input"
    ]
   },
   "outputs": [
    {
     "data": {
      "text/latex": [
       "\\[\n",
       "\\begin{aligned}\n",
       "\\gamma_{gas} &= 16 \\; \\;\\textrm{(N/m3)}\n",
       " &\\gamma_{air} &= 12 \\; \\;\\textrm{(N/m3)}\n",
       "\\end{aligned}\n",
       "\\]"
      ],
      "text/plain": [
       "<IPython.core.display.Latex object>"
      ]
     },
     "metadata": {},
     "output_type": "display_data"
    }
   ],
   "source": [
    "%%render param\n",
    "gamma_gas=16 #N/m3\n",
    "gamma_air=12 #N/m3"
   ]
  },
  {
   "cell_type": "markdown",
   "id": "21ab8836",
   "metadata": {},
   "source": [
    "**Hint**"
   ]
  },
  {
   "cell_type": "markdown",
   "id": "04ba2ed9",
   "metadata": {
    "tags": [
     "remove-input",
     "hide-cell"
    ]
   },
   "source": [
    "```{toggle}\n",
    "The density is: $\\rho=\\frac{\\gamma}{g}$ \n",
    "\n",
    "The specific volume is: $v=\\frac {1}{\\rho_{gas}}$  \n",
    "\n",
    "The specific gravity  is: $s= \\frac {\\rho_{fluid}}{\\rho_{air}}$\n",
    "```"
   ]
  },
  {
   "cell_type": "markdown",
   "id": "9fd7933e",
   "metadata": {},
   "source": [
    "**Solution**"
   ]
  },
  {
   "cell_type": "code",
   "execution_count": 12,
   "id": "c87d3369",
   "metadata": {
    "jupyter": {
     "source_hidden": true
    },
    "scrolled": true,
    "tags": [
     "remove-input",
     "hide-output"
    ]
   },
   "outputs": [
    {
     "data": {
      "text/latex": [
       "\\[\n",
       "\\begin{aligned}\n",
       "\\rho_{gas} &= \\frac{ \\gamma_{gas} }{ g } \\\\&= \\frac{ 16 }{ 9.810 } \\\\&= 1.631 \\; \\;\\textrm{(kg/m3)}\\\\[10pt]\n",
       "\\\\[10pt]\n",
       "v &= \\frac{ 1 }{ \\rho_{gas} } \\\\&= \\frac{ 1 }{ 1.631 } \\\\&= 0.613 \\; \\;\\textrm{(m3/kg)}\\\\[10pt]\n",
       "\\\\[10pt]\n",
       "s &= \\frac{ \\gamma_{gas} }{ \\gamma_{air} } \\\\&= \\frac{ 16 }{ 12 } \\\\&= 1.333  \\\\[10pt]\n",
       "\\end{aligned}\n",
       "\\]"
      ],
      "text/plain": [
       "<IPython.core.display.Latex object>"
      ]
     },
     "metadata": {},
     "output_type": "display_data"
    }
   ],
   "source": [
    "%%render\n",
    "#long\n",
    "rho_gas= gamma_gas/g #kg/m3\n",
    "v= 1/rho_gas #m3/kg\n",
    "s= gamma_gas/gamma_air"
   ]
  },
  {
   "cell_type": "markdown",
   "id": "6d4f9c0b",
   "metadata": {},
   "source": [
    "---\n",
    "#### Question 5 (*)"
   ]
  },
  {
   "cell_type": "markdown",
   "id": "1e6e67e7",
   "metadata": {
    "tags": [
     "remove-input"
    ]
   },
   "source": [
    "A 3-litre container is filled with a liquid that has a specific gravity of 0.9. Determine mass density, weight and specific volume of the fluid. {900 kg/m<sup>3</sup>; 26.5 N; 0.00111 m<sup>3</sup>/kg}"
   ]
  },
  {
   "cell_type": "markdown",
   "id": "753d8b7d",
   "metadata": {
    "tags": [
     "remove-input"
    ]
   },
   "source": [
    "**Given:**"
   ]
  },
  {
   "cell_type": "code",
   "execution_count": 13,
   "id": "419d2519",
   "metadata": {
    "jupyter": {
     "source_hidden": true
    },
    "scrolled": true,
    "tags": [
     "remove-input"
    ]
   },
   "outputs": [
    {
     "data": {
      "text/latex": [
       "\\[\n",
       "\\begin{aligned}\n",
       "s &= 0.9 \\;\n",
       "\\end{aligned}\n",
       "\\]"
      ],
      "text/plain": [
       "<IPython.core.display.Latex object>"
      ]
     },
     "metadata": {},
     "output_type": "display_data"
    }
   ],
   "source": [
    "%%render param 1\n",
    "s=0.9\n"
   ]
  },
  {
   "cell_type": "markdown",
   "id": "d69b9c40",
   "metadata": {
    "tags": [
     "remove-input"
    ]
   },
   "source": [
    "And the volumen in m<sup>3</sup> :"
   ]
  },
  {
   "cell_type": "code",
   "execution_count": 14,
   "id": "28980178",
   "metadata": {
    "jupyter": {
     "source_hidden": true
    },
    "scrolled": true,
    "tags": [
     "remove-input"
    ]
   },
   "outputs": [
    {
     "data": {
      "text/latex": [
       "\\[\n",
       "\\begin{aligned}\n",
       "\\mathrm{Vol} &= 0.003 \\; \\;\\textrm{(m3)}\n",
       "\\end{aligned}\n",
       "\\]"
      ],
      "text/plain": [
       "<IPython.core.display.Latex object>"
      ]
     },
     "metadata": {},
     "output_type": "display_data"
    }
   ],
   "source": [
    "%%render param\n",
    "Vol=3/1000 #m3"
   ]
  },
  {
   "cell_type": "markdown",
   "id": "4a496be8",
   "metadata": {},
   "source": [
    "**Hint**"
   ]
  },
  {
   "cell_type": "markdown",
   "id": "5801a7c7",
   "metadata": {
    "tags": [
     "remove-input",
     "hide-cell"
    ]
   },
   "source": [
    "```{toggle}\n",
    "The mass density is: $\\rho = \\rho_{water} \\cdot s$  \n",
    "The weight is: $W=\\rho \\cdot g \\cdot Vol$  \n",
    "The specific volume is: $\\nu = 1/\\rho$\n",
    "```"
   ]
  },
  {
   "cell_type": "markdown",
   "id": "c2ba366a",
   "metadata": {},
   "source": [
    "**Solution**"
   ]
  },
  {
   "cell_type": "code",
   "execution_count": 15,
   "id": "51b6b959",
   "metadata": {
    "jupyter": {
     "source_hidden": true
    },
    "scrolled": true,
    "tags": [
     "remove-input",
     "hide-output"
    ]
   },
   "outputs": [
    {
     "data": {
      "text/latex": [
       "\\[\n",
       "\\begin{aligned}\n",
       "\\rho &= \\rho_{water} \\cdot s \\\\&= 1000 \\cdot 0.9000 \\\\&= 900.0000 \\; \\;\\textrm{(kg/m3)}\\\\[10pt]\n",
       "\\\\[10pt]\n",
       "W &= \\rho \\cdot g \\cdot \\mathrm{Vol} \\\\&= 900.0000 \\cdot 9.8100 \\cdot 0.0030 \\\\&= 26.4870 \\; \\;\\textrm{(N)}\\\\[10pt]\n",
       "\\\\[10pt]\n",
       "v &= \\frac{ 1 }{ \\rho } \\\\&= \\frac{ 1 }{ 900.0000 } \\\\&= 0.0011 \\; \\;\\textrm{(m3/kg)}\\\\[10pt]\n",
       "\\end{aligned}\n",
       "\\]"
      ],
      "text/plain": [
       "<IPython.core.display.Latex object>"
      ]
     },
     "metadata": {},
     "output_type": "display_data"
    }
   ],
   "source": [
    "%%render long 4\n",
    "rho= rho_water*s #kg/m3\n",
    "W= rho*g*Vol #N\n",
    "v= 1/rho #m3/kg"
   ]
  },
  {
   "cell_type": "markdown",
   "id": "c6f49e31",
   "metadata": {},
   "source": [
    "---\n",
    "#### Question 6 (**)[R]"
   ]
  },
  {
   "cell_type": "markdown",
   "id": "02094c67",
   "metadata": {
    "tags": [
     "remove-input"
    ]
   },
   "source": [
    "A fluid with a specific gravity of 1.2 moves through a pipe at rate of 2 000 kg every 6 hours. Calculate the a) mass density, b) specific weight and c) volumetric flowrate of the fluid. (1200 kg/m<sup>3 </sup>; 11 772 N/m<sup>3 </sup>; 7.716 x 10-5 m<sup>3 </sup>/s)"
   ]
  },
  {
   "cell_type": "markdown",
   "id": "2ed0652e",
   "metadata": {
    "tags": [
     "remove-input"
    ]
   },
   "source": [
    "**Given:**"
   ]
  },
  {
   "cell_type": "code",
   "execution_count": 16,
   "id": "7de6af62",
   "metadata": {
    "jupyter": {
     "source_hidden": true
    },
    "scrolled": true,
    "tags": [
     "remove-input"
    ]
   },
   "outputs": [
    {
     "data": {
      "text/latex": [
       "\\[\n",
       "\\begin{aligned}\n",
       "S_{fluid} &= 1.2 \\; \n",
       " &m &= 2000 \\; \\;\\textrm{(kg)}\n",
       " &t &= 6 \\; \\;\\textrm{(h)}\n",
       "\\\\[10pt]\n",
       "\\end{aligned}\n",
       "\\]"
      ],
      "text/plain": [
       "<IPython.core.display.Latex object>"
      ]
     },
     "metadata": {},
     "output_type": "display_data"
    }
   ],
   "source": [
    "%%render param 1\n",
    "S_fluid= 1.2 \n",
    "m= 2000 #kg\n",
    "t= 6 #h\n"
   ]
  },
  {
   "cell_type": "markdown",
   "id": "2c756bfd",
   "metadata": {},
   "source": [
    "**Hint**"
   ]
  },
  {
   "cell_type": "markdown",
   "id": "cd53ba37",
   "metadata": {
    "tags": [
     "remove-input",
     "hide-cell"
    ]
   },
   "source": [
    "```{toggle}\n",
    "The density is: $\\rho=s*\\rho$\n",
    "\n",
    "The specific weigth is: $\\gamma=\\rho \\cdot g$  \n",
    "\n",
    "The volumetric flowrate is: $Q= \\frac {Vol}{t}$\n",
    "```"
   ]
  },
  {
   "cell_type": "markdown",
   "id": "8ced778d",
   "metadata": {},
   "source": [
    "**Solution**"
   ]
  },
  {
   "cell_type": "code",
   "execution_count": 17,
   "id": "fa89b9a7",
   "metadata": {
    "jupyter": {
     "source_hidden": true
    },
    "scrolled": true,
    "tags": [
     "remove-input",
     "hide-output"
    ]
   },
   "outputs": [
    {
     "data": {
      "text/latex": [
       "\\[\n",
       "\\begin{aligned}\n",
       "\\rho_{fluid} &= S_{fluid} \\cdot \\rho_{water} \\\\&= 1.200000 \\cdot 1000 \\\\&= 1200.000000 \\; \\;\\textrm{(kg/m3)}\\\\[10pt]\n",
       "\\\\[10pt]\n",
       "\\gamma_{fluid} &= \\rho_{fluid} \\cdot g \\\\&= 1200.000000 \\cdot 9.810000 \\\\&= 11772.000000 \\; \\;\\textrm{(N/m3)}\\\\[10pt]\n",
       "\\\\[10pt]\n",
       "\\mathrm{Vol} &= \\frac{ m }{ \\rho_{fluid} } \\\\&= \\frac{ 2000 }{ 1200.000000 } \\\\&= 1.666667 \\; \\;\\textrm{(m3)}\\\\[10pt]\n",
       "\\\\[10pt]\n",
       "Q_{h} &= \\frac{ \\mathrm{Vol} }{ t } \\\\&= \\frac{ 1.666667 }{ 6 } \\\\&= 0.277778 \\; \\;\\textrm{(m3/h)}\\\\[10pt]\n",
       "\\\\[10pt]\n",
       "Q_{s} &= \\frac{ \\mathrm{Vol} }{ t \\cdot 60 \\cdot 60 } \\\\&= \\frac{ 1.666667 }{ 6 \\cdot 60 \\cdot 60 } \\\\&= 0.000077 \\; \\;\\textrm{(m3/s)}\\\\[10pt]\n",
       "\\end{aligned}\n",
       "\\]"
      ],
      "text/plain": [
       "<IPython.core.display.Latex object>"
      ]
     },
     "metadata": {},
     "output_type": "display_data"
    }
   ],
   "source": [
    "%%render long 6\n",
    "\n",
    "rho_fluid= S_fluid*rho_water #kg/m3\n",
    "gamma_fluid= rho_fluid*g # N/m3\n",
    "Vol= m/rho_fluid #m3 \n",
    "Q_h= Vol/t #m3/h\n",
    "Q_s= Vol/(t*60*60)#m3/s"
   ]
  },
  {
   "cell_type": "markdown",
   "id": "617344d6",
   "metadata": {
    "heading_collapsed": true,
    "tags": [
     "remove-input"
    ]
   },
   "source": [
    "### Ideal\tGas\tLaw"
   ]
  },
  {
   "cell_type": "markdown",
   "id": "bbc6b88b",
   "metadata": {},
   "source": [
    "---\n",
    "#### Question 7 (*)[R]"
   ]
  },
  {
   "cell_type": "markdown",
   "id": "3ed6e042",
   "metadata": {
    "hidden": true,
    "tags": [
     "remove-input"
    ]
   },
   "source": [
    "Calculate the specific weight, density and specific volume of air at 50 °C and absolute pressure of 3.4 bar. Given: R_air = 287 m<sup>2</sup>/(s<sup>2</sup>.K). {36 N/m<sup>3</sup>; 3.67 kg/m<sup>3</sup>; 0.273 m<sup>3</sup>/kg}"
   ]
  },
  {
   "cell_type": "markdown",
   "id": "1f55e837",
   "metadata": {
    "hidden": true,
    "tags": [
     "remove-input"
    ]
   },
   "source": [
    "The values of $R_{air}$, $T$, and $p$ are given. If we convert the temperature units to K and the pressure units to Pa, we have:"
   ]
  },
  {
   "cell_type": "code",
   "execution_count": 18,
   "id": "e86b3daa",
   "metadata": {
    "hidden": true,
    "jupyter": {
     "source_hidden": true
    },
    "scrolled": true,
    "tags": [
     "remove-input"
    ]
   },
   "outputs": [
    {
     "data": {
      "text/latex": [
       "\\[\n",
       "\\begin{aligned}\n",
       "T &= 323.15 \\; \\;\\textrm{(K)}\n",
       " &p &= 340000.00 \\; \\;\\textrm{(Pa)}\n",
       " &R_{air} &= 287 \\; \\;\\textrm{(m2/(s2.k))}\n",
       "\\\\[10pt]\n",
       "\\end{aligned}\n",
       "\\]"
      ],
      "text/plain": [
       "<IPython.core.display.Latex object>"
      ]
     },
     "metadata": {},
     "output_type": "display_data"
    }
   ],
   "source": [
    "%%render param 2\n",
    "T=50+273.15 #K\n",
    "p=3.4*10**5 #Pa\n",
    "R_air=287 #m2/(s2.k)"
   ]
  },
  {
   "cell_type": "markdown",
   "id": "ff65d07c",
   "metadata": {},
   "source": [
    "**Hint**"
   ]
  },
  {
   "cell_type": "markdown",
   "id": "29ed4dcd",
   "metadata": {
    "hidden": true,
    "tags": [
     "remove-input",
     "hide-cell"
    ]
   },
   "source": [
    "```{toggle}\n",
    "The specific weight can be calculated as $\\gamma = \\frac{g \\cdot p}{R_{air} \\cdot T}$  \n",
    "The density is $\\rho = \\gamma/g$  \n",
    "The specific volume is $\\nu = 1/\\rho$\n",
    "```"
   ]
  },
  {
   "cell_type": "markdown",
   "id": "7a2c6b50",
   "metadata": {},
   "source": [
    "**Solution**"
   ]
  },
  {
   "cell_type": "code",
   "execution_count": 19,
   "id": "5a78a257",
   "metadata": {
    "hidden": true,
    "jupyter": {
     "source_hidden": true
    },
    "scrolled": true,
    "tags": [
     "remove-input",
     "hide-output"
    ]
   },
   "outputs": [
    {
     "data": {
      "text/latex": [
       "\\[\n",
       "\\begin{aligned}\n",
       "\\gamma &= \\frac{ g \\cdot p }{ R_{air} \\cdot T } \\\\&= \\frac{ 9.810 \\cdot 340000.000 }{ 287 \\cdot 323.150 } \\\\&= 35.963 \\; \\;\\textrm{(N/m3)}\\\\[10pt]\n",
       "\\\\[10pt]\n",
       "\\rho &= \\frac{ \\gamma }{ g } \\\\&= \\frac{ 35.963 }{ 9.810 } \\\\&= 3.666 \\; \\;\\textrm{(kg/m3)}\\\\[10pt]\n",
       "\\\\[10pt]\n",
       "v &= \\frac{ 1 }{ \\rho } \\\\&= \\frac{ 1 }{ 3.666 } \\\\&= 0.273 \\; \\;\\textrm{(m3/kg)}\\\\[10pt]\n",
       "\\end{aligned}\n",
       "\\]"
      ],
      "text/plain": [
       "<IPython.core.display.Latex object>"
      ]
     },
     "metadata": {},
     "output_type": "display_data"
    }
   ],
   "source": [
    "%%render long 3\n",
    "\n",
    "gamma= (g*p)/(R_air*T) #N/m3\n",
    "rho= gamma/g #kg/m3\n",
    "v= 1/rho #m3/kg"
   ]
  },
  {
   "cell_type": "markdown",
   "id": "4c5f43ea",
   "metadata": {},
   "source": [
    "---\n",
    "#### Question 8 (*)"
   ]
  },
  {
   "cell_type": "markdown",
   "id": "ccaa1c23",
   "metadata": {
    "hidden": true,
    "tags": [
     "remove-input"
    ]
   },
   "source": [
    "Calculate the specific weight, density and specific volume of the air inside a car tyre at a temperature of 15°C and pumped to an absolute pressure of 3 bar. Given: Rair = 287 m<sup>2</sup>/(s<sup>2</sup>.K).  {35.6 N/m<sup>3</sup>; 3.63 kg/m<sup>3</sup>; 0.276 m<sup>3</sup>/kg}"
   ]
  },
  {
   "cell_type": "markdown",
   "id": "93febf93",
   "metadata": {
    "hidden": true,
    "tags": [
     "remove-input"
    ]
   },
   "source": [
    "**Given:**"
   ]
  },
  {
   "cell_type": "code",
   "execution_count": 20,
   "id": "6e484562",
   "metadata": {
    "hidden": true,
    "jupyter": {
     "source_hidden": true
    },
    "scrolled": true,
    "tags": [
     "remove-input"
    ]
   },
   "outputs": [
    {
     "data": {
      "text/latex": [
       "\\[\n",
       "\\begin{aligned}\n",
       "T_{c} &= 15 \\; \\;\\textrm{(°C)}\n",
       " &p_{bar} &= 3 \\; \\;\\textrm{(bar)}\n",
       " &R_{air} &= 287 \\; \\;\\textrm{(m2/(s2.K))}\n",
       "\\\\[10pt]\n",
       "\\end{aligned}\n",
       "\\]"
      ],
      "text/plain": [
       "<IPython.core.display.Latex object>"
      ]
     },
     "metadata": {},
     "output_type": "display_data"
    }
   ],
   "source": [
    "%%render param\n",
    "T_c= 15 #°C\n",
    "p_bar= 3 #bar\n",
    "R_air= 287 #m2/(s2.K)\n"
   ]
  },
  {
   "cell_type": "markdown",
   "id": "0b7b0210",
   "metadata": {},
   "source": [
    "**Hint**"
   ]
  },
  {
   "cell_type": "markdown",
   "id": "531d1ad9",
   "metadata": {
    "hidden": true,
    "tags": [
     "remove-input",
     "hide-cell"
    ]
   },
   "source": [
    "```{toggle}\n",
    "The specific weight can be calculated as $\\gamma = \\frac{g \\cdot p}{R_{air} \\cdot T}$  \n",
    "The density is $\\rho = \\gamma/g$  \n",
    "The specific volume is $\\nu = 1/\\rho$\n",
    "```"
   ]
  },
  {
   "cell_type": "markdown",
   "id": "7a135c18",
   "metadata": {},
   "source": [
    "**Solution**"
   ]
  },
  {
   "cell_type": "code",
   "execution_count": 21,
   "id": "86b71b88",
   "metadata": {
    "hidden": true,
    "jupyter": {
     "source_hidden": true
    },
    "scrolled": true,
    "tags": [
     "remove-input",
     "hide-output"
    ]
   },
   "outputs": [
    {
     "data": {
      "text/latex": [
       "\\[\n",
       "\\begin{aligned}\n",
       "T_{k} &= T_{c} + 273.15 \\\\&= 15 + 273.15 \\\\&= 288.150 \\; \\;\\textrm{(K)}\\\\[10pt]\n",
       "\\\\[10pt]\n",
       "p_{Pa} &= p_{bar} \\cdot \\left( 10 \\right) ^{ 5 } \\\\&= 3 \\cdot \\left( 10 \\right) ^{ 5 } \\\\&= 300000 \\; \\;\\textrm{(Pa)}\\\\[10pt]\n",
       "\\\\[10pt]\n",
       "\\rho_{air} &= \\frac{ p_{Pa} }{ R_{air} \\cdot T_{k} } \\\\&= \\frac{ 300000 }{ 287 \\cdot 288.150 } \\\\&= 3.628 \\; \\;\\textrm{(kg/m3)}\\\\[10pt]\n",
       "\\\\[10pt]\n",
       "v_{air} &= \\frac{ 1 }{ \\rho_{air} } \\\\&= \\frac{ 1 }{ 3.628 } \\\\&= 0.276 \\; \\;\\textrm{(m3/kg)}\\\\[10pt]\n",
       "\\\\[10pt]\n",
       "\\gamma_{air} &= \\rho_{air} \\cdot g \\\\&= 3.628 \\cdot 9.810 \\\\&= 35.587 \\; \\;\\textrm{(N/m3)}\\\\[10pt]\n",
       "\\end{aligned}\n",
       "\\]"
      ],
      "text/plain": [
       "<IPython.core.display.Latex object>"
      ]
     },
     "metadata": {},
     "output_type": "display_data"
    }
   ],
   "source": [
    "%%render\n",
    "#long\n",
    "T_k= T_c+273.15 #K\n",
    "p_Pa= p_bar*10**5 #Pa\n",
    "\n",
    "rho_air= p_Pa/(R_air*T_k) #kg/m3\n",
    "v_air= 1/rho_air #m3/kg\n",
    "gamma_air= rho_air*g #N/m3\n"
   ]
  },
  {
   "cell_type": "markdown",
   "id": "c590e408",
   "metadata": {},
   "source": [
    "---\n",
    "#### Question 9 (* - **)"
   ]
  },
  {
   "cell_type": "markdown",
   "id": "866ea3a0",
   "metadata": {
    "hidden": true,
    "tags": [
     "remove-input"
    ]
   },
   "source": [
    "a) Calculate the specific weight, density and specific volume of oxygen at 20 °C and 50 kN/m<sup>2</sup> absolute. Given: Roxygen = 260 m<sup>2</sup>/(s<sup>2</sup>.K).  ** b) If the oxygen is enclosed in a rigid container of constant volume, what will the pressure be if the temperature is reduced to  100 °C?  {a)6.44 N/m<sup>3</sup>; 0.656 kg/m<sup>3</sup>; 1.524 m<sup>3</sup>/kg; b) 29.5 kPa}"
   ]
  },
  {
   "cell_type": "markdown",
   "id": "6a5d1b1d",
   "metadata": {
    "hidden": true,
    "tags": [
     "remove-input"
    ]
   },
   "source": [
    "a)"
   ]
  },
  {
   "cell_type": "markdown",
   "id": "5a8ff5fb",
   "metadata": {
    "hidden": true,
    "tags": [
     "remove-input"
    ]
   },
   "source": [
    "**Given:**"
   ]
  },
  {
   "cell_type": "markdown",
   "id": "1b726d2c",
   "metadata": {
    "hidden": true,
    "tags": [
     "remove-input"
    ]
   },
   "source": [
    "The values of $R_{oxygen}$, $T$, and $p$ are given. If we convert the temperature units to K and the pressure units to Pa, we have:"
   ]
  },
  {
   "cell_type": "code",
   "execution_count": 22,
   "id": "9819e9fe",
   "metadata": {
    "hidden": true,
    "jupyter": {
     "source_hidden": true
    },
    "tags": [
     "remove-input"
    ]
   },
   "outputs": [
    {
     "data": {
      "text/latex": [
       "\\[\n",
       "\\begin{aligned}\n",
       "T &= 293.150 \\; \\;\\textrm{(K)}\n",
       " &p &= 50000 \\; \\;\\textrm{(Pa)}\n",
       " &R_{oxygen} &= 260 \\; \\;\\textrm{(m2/(s2.K))}\n",
       "\\\\[10pt]\n",
       "\\end{aligned}\n",
       "\\]"
      ],
      "text/plain": [
       "<IPython.core.display.Latex object>"
      ]
     },
     "metadata": {},
     "output_type": "display_data"
    }
   ],
   "source": [
    "%%render param\n",
    "T=20+273.15 #K\n",
    "p=50*1000 #Pa\n",
    "R_oxygen=260 #m2/(s2.K)"
   ]
  },
  {
   "cell_type": "markdown",
   "id": "6f41c6c7",
   "metadata": {},
   "source": [
    "**Hint**"
   ]
  },
  {
   "cell_type": "markdown",
   "id": "4795b0d1",
   "metadata": {
    "hidden": true,
    "tags": [
     "remove-input",
     "hide-cell"
    ]
   },
   "source": [
    "```{toggle}\n",
    "The specific weight can be calculated as $\\gamma = \\frac{g \\cdot p}{R_{oxygen} \\cdot T}$  \n",
    "The density is $\\rho = \\gamma/g$  \n",
    "The specific volume is $\\nu = 1/\\rho$\n",
    "```"
   ]
  },
  {
   "cell_type": "markdown",
   "id": "9bc74666",
   "metadata": {},
   "source": [
    "**Solution**"
   ]
  },
  {
   "cell_type": "code",
   "execution_count": 23,
   "id": "c72c7d67",
   "metadata": {
    "hidden": true,
    "jupyter": {
     "source_hidden": true
    },
    "scrolled": true,
    "tags": [
     "remove-input",
     "hide-output"
    ]
   },
   "outputs": [
    {
     "data": {
      "text/latex": [
       "\\[\n",
       "\\begin{aligned}\n",
       "\\gamma &= \\frac{ g \\cdot p }{ R_{oxygen} \\cdot T } \\\\&= \\frac{ 9.810 \\cdot 50000 }{ 260 \\cdot 293.150 } \\\\&= 6.435 \\; \\;\\textrm{(N/m3)}\\\\[10pt]\n",
       "\\\\[10pt]\n",
       "\\rho &= \\frac{ \\gamma }{ g } \\\\&= \\frac{ 6.435 }{ 9.810 } \\\\&= 0.656 \\; \\;\\textrm{(kg/m3)}\\\\[10pt]\n",
       "\\\\[10pt]\n",
       "v &= \\frac{ 1 }{ \\rho } \\\\&= \\frac{ 1 }{ 0.656 } \\\\&= 1.524 \\; \\;\\textrm{(m3/kg)}\\\\[10pt]\n",
       "\\end{aligned}\n",
       "\\]"
      ],
      "text/plain": [
       "<IPython.core.display.Latex object>"
      ]
     },
     "metadata": {},
     "output_type": "display_data"
    }
   ],
   "source": [
    "%%render long\n",
    "\n",
    "gamma= (g*p)/(R_oxygen*T) #N/m3\n",
    "rho= gamma/g #kg/m3\n",
    "v= 1/rho #m3/kg"
   ]
  },
  {
   "cell_type": "markdown",
   "id": "79b2361c",
   "metadata": {
    "hidden": true,
    "tags": [
     "remove-input"
    ]
   },
   "source": [
    "b)"
   ]
  },
  {
   "cell_type": "markdown",
   "id": "3ecf8253",
   "metadata": {
    "hidden": true,
    "tags": [
     "remove-input"
    ]
   },
   "source": [
    "**Given:**"
   ]
  },
  {
   "cell_type": "markdown",
   "id": "5c09367c",
   "metadata": {
    "hidden": true,
    "tags": [
     "remove-input"
    ]
   },
   "source": [
    "The pressure and temperatures in Pa and K are:"
   ]
  },
  {
   "cell_type": "code",
   "execution_count": 24,
   "id": "a5a87a64",
   "metadata": {
    "hidden": true,
    "jupyter": {
     "source_hidden": true
    },
    "scrolled": true,
    "tags": [
     "remove-input"
    ]
   },
   "outputs": [
    {
     "data": {
      "text/latex": [
       "\\[\n",
       "\\begin{aligned}\n",
       "p_{1} &= 50000 \\; \\;\\textrm{(Pa)}\n",
       " &T_{1} &= 293.150 \\; \\;\\textrm{(K)}\n",
       " &T_{2} &= 173.150 \\; \\;\\textrm{(K)}\n",
       "\\\\[10pt]\n",
       "\\end{aligned}\n",
       "\\]"
      ],
      "text/plain": [
       "<IPython.core.display.Latex object>"
      ]
     },
     "metadata": {},
     "output_type": "display_data"
    }
   ],
   "source": [
    "%%render param\n",
    "\n",
    "p_1=50*1000 #Pa\n",
    "T_1=20+273.15 #K\n",
    "T_2=-100+273.15 #K"
   ]
  },
  {
   "cell_type": "markdown",
   "id": "c7994eb5",
   "metadata": {},
   "source": [
    "**Hint**"
   ]
  },
  {
   "cell_type": "markdown",
   "id": "afdb5b69",
   "metadata": {
    "hidden": true,
    "tags": [
     "remove-input",
     "hide-cell"
    ]
   },
   "source": [
    "```{toggle}\n",
    "Considering that $\\frac{p}{T} = constant$  \n",
    "The following relation applies: $\\frac{p_2}{T_2}=\\frac{p_1}{T_1}$\n",
    "```"
   ]
  },
  {
   "cell_type": "markdown",
   "id": "c3dcc713",
   "metadata": {},
   "source": [
    "**Solution**"
   ]
  },
  {
   "cell_type": "code",
   "execution_count": 25,
   "id": "6865d1ad",
   "metadata": {
    "hidden": true,
    "jupyter": {
     "source_hidden": true
    },
    "tags": [
     "remove-input",
     "hide-output"
    ]
   },
   "outputs": [
    {
     "data": {
      "text/latex": [
       "\\[\n",
       "\\begin{aligned}\n",
       "p_{2} &= \\frac{ p_{1} \\cdot T_{2} }{ T_{1} } \\\\&= \\frac{ 50000 \\cdot 173.15 }{ 293.15 } \\\\&= 29532.66 \\; \\;\\textrm{(Pa)}\\\\[10pt]\n",
       "\\\\[10pt]\n",
       "p_{2_{}} &= \\frac{ p_{2} }{ 1000 } \\\\&= \\frac{ 29532.66 }{ 1000 } \\\\&= 29.53 \\; \\;\\textrm{(kPa)}\\\\[10pt]\n",
       "\\end{aligned}\n",
       "\\]"
      ],
      "text/plain": [
       "<IPython.core.display.Latex object>"
      ]
     },
     "metadata": {},
     "output_type": "display_data"
    }
   ],
   "source": [
    "%%render long 2\n",
    "p_2= (p_1*T_2)/T_1 #Pa\n",
    "p_2_= p_2/1000 #kPa"
   ]
  },
  {
   "cell_type": "markdown",
   "id": "60fce6c7",
   "metadata": {},
   "source": [
    "---\n",
    "#### Question 10 (***)"
   ]
  },
  {
   "cell_type": "markdown",
   "id": "388f5ce3",
   "metadata": {
    "hidden": true,
    "tags": [
     "remove-input"
    ]
   },
   "source": [
    "a) If water vapour in the atmosphere has a partial pressure of 3500 Pa and the temperature is 30 °C, what is its specific weight?  b) if the barometer reads 102 kPa absolute, what is the partial pressure of the (dry) air, and its specific weight? c) What is the specific weight of the atmosphere (air plus water vapour present)? Given: Rair = 287 m<sup>2</sup>/(s<sup>2</sup>.K); Rwater vapour = 462 m<sup>2</sup>(s<sup>2</sup>.K).    { 0.245 N/m<sup>3</sup>; 11.11 N/m<sup>3</sup>; 11.36 N/m<sup>3</sup>}"
   ]
  },
  {
   "cell_type": "markdown",
   "id": "fc4d8d10",
   "metadata": {
    "hidden": true,
    "tags": [
     "remove-input"
    ]
   },
   "source": [
    " **Given:**"
   ]
  },
  {
   "cell_type": "code",
   "execution_count": 26,
   "id": "39b2c69d",
   "metadata": {
    "hidden": true,
    "jupyter": {
     "source_hidden": true
    },
    "scrolled": true,
    "tags": [
     "remove-input"
    ]
   },
   "outputs": [
    {
     "data": {
      "text/latex": [
       "\\[\n",
       "\\begin{aligned}\n",
       "p_{Pa} &= 3500 \\; \\;\\textrm{(Pa)}\n",
       " &T_{c} &= 30 \\; \\;\\textrm{(°C)}\n",
       " &R_{wvapour} &= 462 \\; \\;\\textrm{(m2/(s2.K))}\n",
       "\\\\[10pt]\n",
       " p_{barometer} &= 102 \\; \\;\\textrm{(kPa)}\n",
       " &R_{air} &= 287 \\; \\;\\textrm{(m2/(s2.K))}\n",
       "\\end{aligned}\n",
       "\\]"
      ],
      "text/plain": [
       "<IPython.core.display.Latex object>"
      ]
     },
     "metadata": {},
     "output_type": "display_data"
    }
   ],
   "source": [
    "%%render param\n",
    "p_Pa= 3500 #Pa\n",
    "T_c= 30 #°C\n",
    "R_wvapour= 462 #m2/(s2.K)\n",
    "p_barometer=102 #kPa\n",
    "R_air=287 #m2/(s2.K)\n"
   ]
  },
  {
   "cell_type": "markdown",
   "id": "229dded4",
   "metadata": {},
   "source": [
    "**Hint**"
   ]
  },
  {
   "cell_type": "markdown",
   "id": "753cb93b",
   "metadata": {
    "hidden": true,
    "tags": [
     "remove-input",
     "hide-cell"
    ]
   },
   "source": [
    "```{toggle}\n",
    "The specific weight can be calculated as $\\gamma = \\frac{g \\cdot p}{R_{oxygen} \\cdot T}$  \n",
    "\n",
    "\n",
    "The partial pressure can be calculated as $P_{partial}=P_{absolute}-P_{v}$\n",
    "\n",
    "\n",
    "The specific weight of the atmosphere is $\\gamma_{atm}=\\gamma_{air}+\\gamma_{water}$\n",
    "```"
   ]
  },
  {
   "cell_type": "markdown",
   "id": "ccbab11f",
   "metadata": {
    "hidden": true,
    "tags": [
     "remove-input"
    ]
   },
   "source": [
    "a)"
   ]
  },
  {
   "cell_type": "markdown",
   "id": "f85199e4",
   "metadata": {},
   "source": [
    "**Solution**"
   ]
  },
  {
   "cell_type": "code",
   "execution_count": 27,
   "id": "9a510792",
   "metadata": {
    "hidden": true,
    "jupyter": {
     "source_hidden": true
    },
    "tags": [
     "remove-input",
     "hide-output"
    ]
   },
   "outputs": [
    {
     "data": {
      "text/latex": [
       "\\[\n",
       "\\begin{aligned}\n",
       "T_{k} &= T_{c} + 273.15 \\\\&= 30 + 273.15 \\\\&= 303.150 \\; \\;\\textrm{(K)}\\\\[10pt]\n",
       "\\\\[10pt]\n",
       "\\gamma_{wvapour} &= \\frac{ g \\cdot p_{Pa} }{ R_{wvapour} \\cdot T_{k} } \\\\&= \\frac{ 9.810 \\cdot 3500 }{ 462 \\cdot 303.150 } \\\\&= 0.245 \\; \\;\\textrm{(N/m3)}\\\\[10pt]\n",
       "\\end{aligned}\n",
       "\\]"
      ],
      "text/plain": [
       "<IPython.core.display.Latex object>"
      ]
     },
     "metadata": {},
     "output_type": "display_data"
    }
   ],
   "source": [
    "%%render\n",
    "#long\n",
    "T_k= T_c+273.15 #K\n",
    "\n",
    "gamma_wvapour= (g*p_Pa)/(R_wvapour*T_k) #N/m3"
   ]
  },
  {
   "cell_type": "markdown",
   "id": "37382463",
   "metadata": {
    "hidden": true,
    "tags": [
     "remove-input"
    ]
   },
   "source": [
    "b)"
   ]
  },
  {
   "cell_type": "markdown",
   "id": "03658129",
   "metadata": {},
   "source": [
    "**Solution**"
   ]
  },
  {
   "cell_type": "code",
   "execution_count": 28,
   "id": "3ff137f3",
   "metadata": {
    "hidden": true,
    "jupyter": {
     "source_hidden": true
    },
    "scrolled": true,
    "tags": [
     "remove-input",
     "hide-output"
    ]
   },
   "outputs": [
    {
     "data": {
      "text/latex": [
       "\\[\n",
       "\\begin{aligned}\n",
       "p_{kPa} &= \\frac{ p_{Pa} }{ 1000 } \\\\&= \\frac{ 3500 }{ 1000 } \\\\&= 3.50 \\; \\;\\textrm{(kPa)}\\\\[10pt]\n",
       "\\\\[10pt]\n",
       "p_{air_{kPa}} &= p_{barometer} - p_{kPa} \\\\&= 102 - 3.50 \\\\&= 98.50 \\; \\;\\textrm{(kPa)}\\\\[10pt]\n",
       "\\\\[10pt]\n",
       "p_{air_{Pa}} &= p_{air_{kPa}} \\cdot 1000 \\\\&= 98.50 \\cdot 1000 \\\\&= 98500.00 \\; \\;\\textrm{(Pa)}\\\\[10pt]\n",
       "\\\\[10pt]\n",
       "\\gamma_{air} &= \\frac{ g \\cdot p_{air_{Pa}} }{ R_{air} \\cdot T_{k} } \\\\&= \\frac{ 9.81 \\cdot 98500.00 }{ 287 \\cdot 303.15 } \\\\&= 11.11 \\; \\;\\textrm{(N/m3)}\\\\[10pt]\n",
       "\\end{aligned}\n",
       "\\]"
      ],
      "text/plain": [
       "<IPython.core.display.Latex object>"
      ]
     },
     "metadata": {},
     "output_type": "display_data"
    }
   ],
   "source": [
    "%%render 2\n",
    "#long\n",
    "p_kPa= p_Pa/1000 #kPa\n",
    "p_air_kPa= p_barometer-p_kPa #kPa\n",
    "p_air_Pa= p_air_kPa*1000 #Pa\n",
    "gamma_air= (g*p_air_Pa)/(R_air*T_k) #N/m3"
   ]
  },
  {
   "cell_type": "markdown",
   "id": "7256abc0",
   "metadata": {
    "hidden": true,
    "tags": [
     "remove-input"
    ]
   },
   "source": [
    "c)"
   ]
  },
  {
   "cell_type": "markdown",
   "id": "609e958a",
   "metadata": {},
   "source": [
    "**Solution**"
   ]
  },
  {
   "cell_type": "code",
   "execution_count": 29,
   "id": "054d90db",
   "metadata": {
    "hidden": true,
    "jupyter": {
     "source_hidden": true
    },
    "scrolled": true,
    "tags": [
     "remove-input",
     "hide-output"
    ]
   },
   "outputs": [
    {
     "data": {
      "text/latex": [
       "\\[\n",
       "\\begin{aligned}\n",
       "\\gamma_{atmos} &= \\gamma_{air} + \\gamma_{wvapour} \\\\&= 11.106 + 0.245 \\\\&= 11.351 \\; \\;\\textrm{(N/m3)}\\\\[10pt]\n",
       "\\end{aligned}\n",
       "\\]"
      ],
      "text/plain": [
       "<IPython.core.display.Latex object>"
      ]
     },
     "metadata": {},
     "output_type": "display_data"
    }
   ],
   "source": [
    "%%render long\n",
    "gamma_atmos= gamma_air+gamma_wvapour #N/m3"
   ]
  },
  {
   "cell_type": "markdown",
   "id": "7ec50b32",
   "metadata": {
    "heading_collapsed": true,
    "tags": [
     "remove-input"
    ]
   },
   "source": [
    "### Compressibility\tof\tLiquids"
   ]
  },
  {
   "cell_type": "markdown",
   "id": "6ed5067d",
   "metadata": {},
   "source": [
    "---\n",
    "#### Question 11 (*)[R]"
   ]
  },
  {
   "cell_type": "markdown",
   "id": "94fcfeda",
   "metadata": {
    "hidden": true,
    "tags": [
     "remove-input"
    ]
   },
   "source": [
    "What pressure in MPa must be applied to water to reduce its volume by 3% under standard sea level atmospheric conditions? {64.2 MPa}"
   ]
  },
  {
   "cell_type": "markdown",
   "id": "537c3ba1",
   "metadata": {
    "hidden": true,
    "tags": [
     "remove-input"
    ]
   },
   "source": [
    "**Given:**"
   ]
  },
  {
   "cell_type": "code",
   "execution_count": 30,
   "id": "ff128859",
   "metadata": {
    "hidden": true,
    "jupyter": {
     "source_hidden": true
    },
    "tags": [
     "remove-input"
    ]
   },
   "outputs": [
    {
     "data": {
      "text/latex": [
       "\\[\n",
       "\\begin{aligned}\n",
       "\\Delta_{Vol} &= 0.030 \\;\n",
       "\\end{aligned}\n",
       "\\]"
      ],
      "text/plain": [
       "<IPython.core.display.Latex object>"
      ]
     },
     "metadata": {},
     "output_type": "display_data"
    }
   ],
   "source": [
    "%%render param\n",
    "Delta_Vol=3/100"
   ]
  },
  {
   "cell_type": "markdown",
   "id": "f55ff378",
   "metadata": {},
   "source": [
    "**Hint**"
   ]
  },
  {
   "cell_type": "markdown",
   "id": "3c5c113e",
   "metadata": {
    "hidden": true,
    "tags": [
     "remove-input",
     "hide-cell"
    ]
   },
   "source": [
    "```{toggle}\n",
    "The compressibility of liquids is described by the following equation:  \n",
    "\n",
    "$$\\Delta p =-E_v \\frac{\\Delta Vol}{Vol}$$  \n",
    "\n",
    "Also, From Table A.3, $T$ under standard sea level atmospheric conditions is 288.15 K, and from Table A.1, $E_v$ at T=288.15 K (T=15°C) is 2.14*10<sup>9</sup> Pa.\n",
    "```"
   ]
  },
  {
   "cell_type": "markdown",
   "id": "c3911644",
   "metadata": {},
   "source": [
    "**Solution**"
   ]
  },
  {
   "cell_type": "code",
   "execution_count": 31,
   "id": "8b3af031",
   "metadata": {
    "hidden": true,
    "jupyter": {
     "source_hidden": true
    },
    "scrolled": true,
    "tags": [
     "remove-input",
     "hide-output"
    ]
   },
   "outputs": [
    {
     "data": {
      "text/latex": [
       "\\[\n",
       "\\begin{aligned}\n",
       "T &= 288.15 \\; \\;\\textrm{(K)}\n",
       "\\\\[10pt]\n",
       "E_{v} &= 2140000000.00 \\; \\;\\textrm{(Pa)}\n",
       "\\\\[10pt]\n",
       "\\Delta_{p} &= \\left( - E_{v} \\right) \\cdot \\left( - \\Delta_{Vol} \\right) \\\\&= \\left( - 2140000000.00 \\right) \\cdot \\left( - 0.03 \\right) \\\\&= 64200000.00 \\; \\;\\textrm{(Pa)}\\\\[10pt]\n",
       "\\\\[10pt]\n",
       "\\Delta_{p_{}} &= \\frac{ \\Delta_{p} }{ 1000000 } \\\\&= \\frac{ 64200000.00 }{ 1000000 } \\\\&= 64.20 \\; \\;\\textrm{(MPa)}\\\\[10pt]\n",
       "\\end{aligned}\n",
       "\\]"
      ],
      "text/plain": [
       "<IPython.core.display.Latex object>"
      ]
     },
     "metadata": {},
     "output_type": "display_data"
    }
   ],
   "source": [
    "%%render long 2\n",
    "T=15+273.15 #K\n",
    "E_v=2.14*10**9 #Pa\n",
    "Delta_p= -E_v*-Delta_Vol #Pa\n",
    "Delta_p_= Delta_p/1000000 #MPa"
   ]
  },
  {
   "cell_type": "markdown",
   "id": "04b75816",
   "metadata": {},
   "source": [
    "---\n",
    "#### Question 12 (*)"
   ]
  },
  {
   "cell_type": "markdown",
   "id": "0536c1e8",
   "metadata": {
    "hidden": true,
    "tags": [
     "remove-input"
    ]
   },
   "source": [
    "By what fraction will the volume of a given quantity of mercury at 20°C be reduced if the pressure on it is increased by 100 MPa? {0.38%}"
   ]
  },
  {
   "cell_type": "markdown",
   "id": "e57437dc",
   "metadata": {
    "hidden": true,
    "tags": [
     "remove-input"
    ]
   },
   "source": [
    "**Given:**"
   ]
  },
  {
   "cell_type": "code",
   "execution_count": 32,
   "id": "b5187c10",
   "metadata": {
    "hidden": true,
    "jupyter": {
     "source_hidden": true
    },
    "scrolled": true,
    "tags": [
     "remove-input"
    ]
   },
   "outputs": [
    {
     "data": {
      "text/latex": [
       "\\[\n",
       "\\begin{aligned}\n",
       "\\Delta_{P} &= 100 \\; \\;\\textrm{(MPa)}\n",
       "\\end{aligned}\n",
       "\\]"
      ],
      "text/plain": [
       "<IPython.core.display.Latex object>"
      ]
     },
     "metadata": {},
     "output_type": "display_data"
    }
   ],
   "source": [
    "%%render param\n",
    "Delta_P=100 #MPa"
   ]
  },
  {
   "cell_type": "markdown",
   "id": "ba1aa8be",
   "metadata": {},
   "source": [
    "**Hint**"
   ]
  },
  {
   "cell_type": "markdown",
   "id": "81712059",
   "metadata": {
    "hidden": true,
    "tags": [
     "remove-input",
     "hide-cell"
    ]
   },
   "source": [
    "```{toggle}\n",
    "The reduction of volume can be calculated using the bulk modulus as follows:\n",
    "\n",
    "\n",
    "$$E_v= -Vol*\\frac {\\Delta P}{\\Delta Vol}*100\\%$$  \n",
    "\n",
    "$$\\frac{\\Delta Vol}{Vol}=\\frac{-\\Delta P}{E_V} *100\\%$$\n",
    "\n",
    "\n",
    "Additionally, using Table A.4 the Ev is: 26.9*10<sup>9</sup> N/m<sup>2</sup>\n",
    "```"
   ]
  },
  {
   "cell_type": "markdown",
   "id": "8882acb4",
   "metadata": {},
   "source": [
    "**Solution**"
   ]
  },
  {
   "cell_type": "code",
   "execution_count": 33,
   "id": "8cbffb87",
   "metadata": {
    "hidden": true,
    "jupyter": {
     "source_hidden": true
    },
    "tags": [
     "remove-input",
     "hide-output"
    ]
   },
   "outputs": [
    {
     "data": {
      "text/latex": [
       "\\[\n",
       "\\begin{aligned}\n",
       "E_{v} &= 26200000000.00 \\; \\;\\textrm{(N/m2)}\n",
       "\\\\[10pt]\n",
       "\\mathrm{Vol}_{percentage} &= \\left( \\left( - \\Delta_{P} \\right) \\cdot \\frac{ \\left( 10 \\right) ^{ 6 } }{ E_{v} } \\right) \\cdot 100 \\\\&= \\left( \\left( - 100 \\right) \\cdot \\frac{ \\left( 10 \\right) ^{ 6 } }{ 26200000000.00 } \\right) \\cdot 100 \\\\&= -0.38 \\; \\;\\textrm{(%)}\\\\[10pt]\n",
       "\\end{aligned}\n",
       "\\]"
      ],
      "text/plain": [
       "<IPython.core.display.Latex object>"
      ]
     },
     "metadata": {},
     "output_type": "display_data"
    }
   ],
   "source": [
    "%%render long 2\n",
    "E_v=26.2*10**9 #N/m2\n",
    "Vol_percentage= (-Delta_P*10**6/E_v)*100 #%\n"
   ]
  },
  {
   "cell_type": "markdown",
   "id": "0dd8ea77",
   "metadata": {},
   "source": [
    "---\n",
    "#### Question 13 (***)"
   ]
  },
  {
   "cell_type": "markdown",
   "id": "ee46edef",
   "metadata": {
    "hidden": true,
    "tags": [
     "remove-input"
    ]
   },
   "source": [
    "A rigid cylinder with inside diameter of 15 mm contains a column of water 500 mm long. What will the column length be if a force of 2 kN is applied to its top by a frictionless plunger? Assume a bulk modulus of 2.21 GPa. (Source: Franzini & Finnemore) {497 mm}"
   ]
  },
  {
   "cell_type": "markdown",
   "id": "560df049",
   "metadata": {},
   "source": [
    "**Given:**"
   ]
  },
  {
   "cell_type": "markdown",
   "id": "cb306f48",
   "metadata": {
    "hidden": true,
    "tags": [
     "remove-input"
    ]
   },
   "source": [
    "The diameter and column of water in m, the force in N, and the bulk modulus in Pa:"
   ]
  },
  {
   "cell_type": "code",
   "execution_count": 34,
   "id": "c14324b8",
   "metadata": {
    "hidden": true,
    "jupyter": {
     "source_hidden": true
    },
    "scrolled": true,
    "tags": [
     "remove-input"
    ]
   },
   "outputs": [
    {
     "data": {
      "text/latex": [
       "\\[\n",
       "\\begin{aligned}\n",
       "\\mathrm{dF} &= 2000 \\; \\;\\textrm{(N)}\n",
       " &d &= 0.015 \\; \\;\\textrm{(m)}\n",
       " &L_{1} &= 0.500 \\; \\;\\textrm{(m)}\n",
       "\\\\[10pt]\n",
       " E_{v} &= 2210000000.000 \\; \\;\\textrm{(Pa)}\n",
       "\\end{aligned}\n",
       "\\]"
      ],
      "text/plain": [
       "<IPython.core.display.Latex object>"
      ]
     },
     "metadata": {},
     "output_type": "display_data"
    }
   ],
   "source": [
    "%%render param\n",
    "dF=2000 #N\n",
    "d=0.015 #m\n",
    "L_1=0.5 #m\n",
    "E_v= 2.21*10**9 #Pa"
   ]
  },
  {
   "cell_type": "markdown",
   "id": "bd0f095f",
   "metadata": {},
   "source": [
    "**Hint**"
   ]
  },
  {
   "cell_type": "markdown",
   "id": "680e642c",
   "metadata": {
    "hidden": true,
    "tags": [
     "remove-input",
     "hide-cell"
    ]
   },
   "source": [
    "```{toggle}\n",
    "First, $dp$ is calculated as $dp=dF/A$\n",
    "\n",
    "Then, since the tube is rigid, the following relation applies:  \n",
    "\n",
    "$$\\frac{v_2-v_1}{v_1}=\\frac{L_2-L_1}{L_1}=\\frac{-P_2-P_1}{E_v}$$\n",
    "\n",
    "Solving for $L_2$:  \n",
    "\n",
    "$$L_2 = -L_1 \\cdot \\frac{dP}{E_v}+ L_1$$  \n",
    "\n",
    "\n",
    "```"
   ]
  },
  {
   "cell_type": "markdown",
   "id": "e7b0189a",
   "metadata": {},
   "source": [
    "**Solution**"
   ]
  },
  {
   "cell_type": "code",
   "execution_count": 35,
   "id": "f7f441bf",
   "metadata": {
    "hidden": true,
    "jupyter": {
     "source_hidden": true
    },
    "scrolled": true,
    "tags": [
     "remove-input",
     "hide-output"
    ]
   },
   "outputs": [
    {
     "data": {
      "text/latex": [
       "\\[\n",
       "\\begin{aligned}\n",
       "A &= \\pi \\cdot \\left( \\frac{ d }{ 2 } \\right) ^{ 2 } \\\\&= 3.1416 \\cdot \\left( \\frac{ 0.0150 }{ 2 } \\right) ^{ 2 } \\\\&= 0.0002 \\; \\;\\textrm{(m2)}\\\\[10pt]\n",
       "\\\\[10pt]\n",
       "\\mathrm{dp} &= \\frac{ \\mathrm{dF} }{ A } \\\\&= \\frac{ 2000 }{ 0.0002 } \\\\&= 11317684.8421 \\; \\;\\textrm{(Pa)}\\\\[10pt]\n",
       "\\\\[10pt]\n",
       "L_{2} &= \\left( - L_{1} \\right) \\cdot \\frac{ \\mathrm{dp} }{ E_{v} } + L_{1} \\\\&= \\left( - 0.5000 \\right) \\cdot \\frac{ 11317684.8421 }{ 2210000000.0000 } + 0.5000 \\\\&= 0.4974 \\; \\;\\textrm{(m)}\\\\[10pt]\n",
       "\\\\[10pt]\n",
       "L_{2_{}} &= 497.4394 \\; \\;\\textrm{(mm)}\n",
       "\\end{aligned}\n",
       "\\]"
      ],
      "text/plain": [
       "<IPython.core.display.Latex object>"
      ]
     },
     "metadata": {},
     "output_type": "display_data"
    }
   ],
   "source": [
    "%%render long 4\n",
    "\n",
    "A= pi*(d/2)**2 #m2\n",
    "dp= dF/A #Pa\n",
    "L_2= -L_1*dp/E_v+L_1 #m\n",
    "L_2_=L_2*1000 #mm"
   ]
  },
  {
   "cell_type": "markdown",
   "id": "ea542625",
   "metadata": {
    "tags": [
     "remove-input"
    ]
   },
   "source": [
    "## Problems for Lecture 3: Vapour pressure, viscosity and surface tension\n"
   ]
  },
  {
   "cell_type": "markdown",
   "id": "4d736eb3",
   "metadata": {
    "heading_collapsed": true,
    "tags": [
     "remove-input"
    ]
   },
   "source": [
    "### Vapour Pressure"
   ]
  },
  {
   "cell_type": "markdown",
   "id": "1cbbb909-111e-42bb-a14d-59a8d4e90015",
   "metadata": {
    "tags": []
   },
   "source": [
    "---\n",
    "#### Question 1 (*)[R]"
   ]
  },
  {
   "cell_type": "markdown",
   "id": "99fbd958",
   "metadata": {
    "hidden": true,
    "tags": [
     "remove-input"
    ]
   },
   "source": [
    " At approximately what temperature will water boil at top of Mount Everest (elevation 8 850 m above sea level)? {70°C}"
   ]
  },
  {
   "cell_type": "markdown",
   "id": "ebd6a148-7637-495f-b109-328fc593af2d",
   "metadata": {},
   "source": [
    "**Solution**"
   ]
  },
  {
   "cell_type": "markdown",
   "id": "f739e201",
   "metadata": {
    "hidden": true,
    "tags": [
     "remove-input",
     "hide-output"
    ]
   },
   "source": [
    "```{toggle}\n",
    "From Table A.3, the absolute pressure at 8850 m above sea level is 32000 Pa.  \n",
    "From Table A.1, water has a saturation vapour pressure of 32000 Pa at **70°C.**\n",
    "```"
   ]
  },
  {
   "cell_type": "markdown",
   "id": "59ff710a-b11f-40e7-8c6e-daf4df7edd97",
   "metadata": {
    "tags": []
   },
   "source": [
    "---\n",
    "#### Question 2 (*)"
   ]
  },
  {
   "cell_type": "markdown",
   "id": "1634e2a5",
   "metadata": {
    "hidden": true,
    "tags": [
     "remove-input"
    ]
   },
   "source": [
    "At approximately what elevation will water boil at 90 °C? {3 000 m}"
   ]
  },
  {
   "cell_type": "markdown",
   "id": "83d3f9f4-62cd-4f92-880e-368bca1c9796",
   "metadata": {},
   "source": [
    "**Solution**"
   ]
  },
  {
   "cell_type": "markdown",
   "id": "eadeaca3",
   "metadata": {
    "hidden": true,
    "tags": [
     "remove-input",
     "hide-output"
    ]
   },
   "source": [
    "```{toggle}\n",
    "From Table A.1, water has a saturation vapour pressure of 70.1 kPa at 90°C.\n",
    "\n",
    "From Table A.3, the absolute pressure at 70 kPa is 3000 m.\n",
    "```"
   ]
  },
  {
   "cell_type": "markdown",
   "id": "afe228e4-92d6-48a8-8ee5-fcc085e009fe",
   "metadata": {
    "tags": []
   },
   "source": [
    "---\n",
    "#### Question 3 (**)[R]"
   ]
  },
  {
   "cell_type": "markdown",
   "id": "65d55882",
   "metadata": {
    "hidden": true,
    "tags": [
     "remove-input"
    ]
   },
   "source": [
    " Water at 75°C is placed in a beaker in an airtight container. Air is gradually pumped out of the container. What reduction below standard sea level atmospheric pressure must be achieved before the water boils? {62 kPa}"
   ]
  },
  {
   "cell_type": "markdown",
   "id": "1caf6d91-9dc9-4ca4-a7f7-ec343eaad635",
   "metadata": {
    "solution": "shown",
    "solution2": "hidden",
    "solution2_first": true,
    "solution_first": true,
    "tags": [
     "remove-input"
    ]
   },
   "source": [
    "**Hint**"
   ]
  },
  {
   "cell_type": "markdown",
   "id": "9ef089a9",
   "metadata": {
    "hidden": true,
    "tags": [
     "remove-input"
    ]
   },
   "source": [
    "```{toggle}\n",
    "The pressure reduction can be calculated as\n",
    "\n",
    "$dp=p_{atm}-p_{75c}$\n",
    "\n",
    "From Table A.1, saturation vapour pressure at 75°C is 39 kPa.\n",
    "```"
   ]
  },
  {
   "cell_type": "markdown",
   "id": "f06cc57f-5bff-4100-98ab-e715c638578c",
   "metadata": {},
   "source": [
    "**Solution**"
   ]
  },
  {
   "cell_type": "code",
   "execution_count": 36,
   "id": "669b8c45",
   "metadata": {
    "hidden": true,
    "jupyter": {
     "source_hidden": true
    },
    "scrolled": true,
    "tags": [
     "remove-input",
     "hide-output"
    ]
   },
   "outputs": [
    {
     "data": {
      "text/latex": [
       "\\[\n",
       "\\begin{aligned}\n",
       "p_{75_{C}} &= 39 \\; \\;\\textrm{(kPa)}\n",
       "\\\\[10pt]\n",
       "p_{atm_{}} &= 101 \\; \\;\\textrm{(kPa)}\n",
       "\\\\[10pt]\n",
       "\\mathrm{dP} &= p_{atm_{}} - p_{75_{C}} \\\\&= 101 - 39 \\\\&= 62 \\; \\;\\textrm{(kPa)}\\\\[10pt]\n",
       "\\end{aligned}\n",
       "\\]"
      ],
      "text/plain": [
       "<IPython.core.display.Latex object>"
      ]
     },
     "metadata": {},
     "output_type": "display_data"
    }
   ],
   "source": [
    "%%render long\n",
    "p_75_C=39 #kPa\n",
    "p_atm_= 101 #kPa\n",
    "dP= p_atm_-p_75_C #kPa"
   ]
  },
  {
   "cell_type": "markdown",
   "id": "f9ecfec5",
   "metadata": {
    "heading_collapsed": true,
    "tags": [
     "remove-input"
    ]
   },
   "source": [
    "### Viscosity"
   ]
  },
  {
   "cell_type": "markdown",
   "id": "40aa262b-2636-4538-83c0-23b57766cbc7",
   "metadata": {
    "tags": []
   },
   "source": [
    "---\n",
    "#### Question 4 (*)"
   ]
  },
  {
   "cell_type": "markdown",
   "id": "7e3fbf9e",
   "metadata": {
    "hidden": true,
    "tags": [
     "remove-input"
    ]
   },
   "source": [
    "A square block has a contact area of 0.02 m<sup>2 </sup>  with a table that is lubricated with a 0.1 mm thick layer of oil with viscosity 7 mPa.s. What force is required to move the block at a constant velocity of 1 m/s? {1.4 N}"
   ]
  },
  {
   "cell_type": "markdown",
   "id": "f71ba4f7-94c3-43c2-8df7-b68f56e0464a",
   "metadata": {},
   "source": [
    "**Given:**"
   ]
  },
  {
   "cell_type": "markdown",
   "id": "fc15583b",
   "metadata": {
    "hidden": true,
    "tags": [
     "remove-input"
    ]
   },
   "source": [
    "If we convert the depth of the layer to m, and viscosity to Pa/s, we have the following given parameters:"
   ]
  },
  {
   "cell_type": "code",
   "execution_count": 37,
   "id": "bdec45d4",
   "metadata": {
    "hidden": true,
    "scrolled": true,
    "tags": [
     "remove-input"
    ]
   },
   "outputs": [
    {
     "data": {
      "text/latex": [
       "\\[\n",
       "\\begin{aligned}\n",
       "A &= 0.020 \\; \\;\\textrm{(m2)}\n",
       " &y &= 0.100 \\; \\;\\textrm{(mm)}\n",
       " &\\mu_{oil} &= 0.007 \\; \\;\\textrm{(Pa/s)}\n",
       "\\\\[10pt]\n",
       " \\Delta_{V} &= 1 \\; \\;\\textrm{(m/s)}\n",
       "\\end{aligned}\n",
       "\\]"
      ],
      "text/plain": [
       "<IPython.core.display.Latex object>"
      ]
     },
     "metadata": {},
     "output_type": "display_data"
    }
   ],
   "source": [
    "%%render param\n",
    "A=0.02 #m2\n",
    "y=0.1 #mm\n",
    "mu_oil=7*10**-3 #Pa/s\n",
    "Delta_V= 1 #m/s\n"
   ]
  },
  {
   "cell_type": "markdown",
   "id": "6c14f262-5e6d-443f-a624-cd76ae575104",
   "metadata": {
    "solution": "shown",
    "solution2": "hidden",
    "solution2_first": true,
    "solution_first": true,
    "tags": [
     "remove-input"
    ]
   },
   "source": [
    "**Hint**"
   ]
  },
  {
   "cell_type": "markdown",
   "id": "09bc663d",
   "metadata": {
    "hidden": true,
    "tags": [
     "remove-input"
    ]
   },
   "source": [
    "```{toggle}\n",
    "At a constant velocity, aceleration is zero, therefore:\n",
    "\n",
    "$$\n",
    "\\sum F=0\\\\\n",
    "$$\n",
    "Force can be calculated as\n",
    "\n",
    "$$\n",
    "F-\\tau A=0\\\\\n",
    "$$\n",
    "Where\n",
    "\n",
    "$$\n",
    "\\tau = \\mu \\frac {\\Delta V}{\\Delta y}\n",
    "$$\n",
    "```"
   ]
  },
  {
   "cell_type": "markdown",
   "id": "b08aefc3-5ed2-45dc-b23d-737324ed4a63",
   "metadata": {},
   "source": [
    "**Solution**"
   ]
  },
  {
   "cell_type": "code",
   "execution_count": 58,
   "id": "6e28cc4f",
   "metadata": {
    "hidden": true,
    "scrolled": true,
    "tags": [
     "remove-input",
     "hide-output"
    ]
   },
   "outputs": [
    {
     "data": {
      "text/latex": [
       "\\[\n",
       "\\begin{aligned}\n",
       "\\Delta_{y} &= \\frac{ y }{ 1000 } \\\\&= \\frac{ 0.1000 }{ 1000 } \\\\&= 0.0001 \\; \\;\\textrm{(m)}\\\\[10pt]\n",
       "\\\\[10pt]\n",
       "\\tau &= \\mu_{oil} \\cdot \\left( \\frac{ \\Delta_{V} }{ \\Delta_{y} } \\right) \\\\&= 0.0070 \\cdot \\left( \\frac{ 1 }{ 0.0001 } \\right) \\\\&= 70.0000 \\; \\;\\textrm{(Pa)}\\\\[10pt]\n",
       "\\\\[10pt]\n",
       "F &= \\tau \\cdot A \\\\&= 70.0000 \\cdot 0.0606 \\\\&= 4.2452 \\; \\;\\textrm{(N)}\\\\[10pt]\n",
       "\\end{aligned}\n",
       "\\]"
      ],
      "text/plain": [
       "<IPython.core.display.Latex object>"
      ]
     },
     "metadata": {},
     "output_type": "display_data"
    }
   ],
   "source": [
    "%%render long 4\n",
    "\n",
    "Delta_y= y/1000 #m\n",
    "\n",
    "tau= mu_oil*(Delta_V/Delta_y) #Pa\n",
    "\n",
    "F= tau*A #N"
   ]
  },
  {
   "cell_type": "markdown",
   "id": "acb28268-bd55-4539-ac33-507775f38101",
   "metadata": {
    "tags": []
   },
   "source": [
    "---\n",
    "#### Question 5 (**)[R]"
   ]
  },
  {
   "cell_type": "markdown",
   "id": "d083a64e",
   "metadata": {
    "hidden": true,
    "tags": [
     "remove-input"
    ]
   },
   "source": [
    "A space 16 mm wide between two large plane surfaces is filled with oil with a viscosity μ = 0.18 N.s/m<sup>2</sup>. What force F will be required to drag a very thin plate of 0.4 m<sup>2</sup> area between the surfaces at a speed of 0.25 m/s if the plate is positioned 5 mm from the bottom surface? {5.24 N}"
   ]
  },
  {
   "cell_type": "code",
   "execution_count": 39,
   "id": "c43048b6",
   "metadata": {
    "hidden": true,
    "jupyter": {
     "source_hidden": true
    },
    "scrolled": true,
    "tags": [
     "remove-input"
    ]
   },
   "outputs": [
    {
     "data": {
      "text/latex": [
       "\\[\n",
       "\\begin{aligned}\n",
       "\\mu &= 0.180 \\; \\;\\textrm{(N.s/m2)}\n",
       " &V &= 0.250 \\; \\;\\textrm{(m/s)}\n",
       " &\\mathrm{yplate} &= 0.005 \\; \\;\\textrm{(m)}\n",
       "\\\\[10pt]\n",
       " \\mathrm{yoil} &= 0.016 \\; \\;\\textrm{(m)}\n",
       " &A &= 0.400 \\; \\;\\textrm{(m2)}\n",
       "\\end{aligned}\n",
       "\\]"
      ],
      "text/plain": [
       "<IPython.core.display.Latex object>"
      ]
     },
     "metadata": {},
     "output_type": "display_data"
    }
   ],
   "source": [
    "%%render param\n",
    "mu=0.18 #N.s/m2\n",
    "V=0.25 #m/s\n",
    "yplate=5/1000 #m\n",
    "yoil=16/1000 #m\n",
    "A=0.4 #m2"
   ]
  },
  {
   "cell_type": "markdown",
   "id": "d95730e6-f8fe-4d66-81c7-ea5408467e4d",
   "metadata": {
    "solution": "shown",
    "solution2": "hidden",
    "solution2_first": true,
    "solution_first": true,
    "tags": [
     "remove-input"
    ]
   },
   "source": [
    "**Hint**"
   ]
  },
  {
   "cell_type": "markdown",
   "id": "1c06e238",
   "metadata": {
    "hidden": true,
    "tags": [
     "remove-input"
    ]
   },
   "source": [
    "```{toggle}\n",
    "To calculate the force required to drag the plate, the Newton's equation of viscosity can be used:\n",
    "\n",
    "$$\n",
    "\\tau= \\mu\\frac{dV}{dy}\\\\\n",
    "F=\\tau A\n",
    "$$\n",
    "\n",
    "The total force is the sum between the force of the oil and the force of the plate\n",
    "\n",
    "$$\n",
    "F_{oil}= \\mu\\frac{dV}{(y_{oil}-y_{plate})} A\\\\\n",
    "F_{plate}= \\mu\\frac{dV}{dy} A\n",
    "$$\n",
    "```"
   ]
  },
  {
   "cell_type": "markdown",
   "id": "68cb9c60-0e3c-424f-893d-7de66061c151",
   "metadata": {},
   "source": [
    "**Solution**"
   ]
  },
  {
   "cell_type": "code",
   "execution_count": 59,
   "id": "57483336",
   "metadata": {
    "hidden": true,
    "scrolled": true,
    "tags": [
     "remove-input",
     "hide-output"
    ]
   },
   "outputs": [
    {
     "data": {
      "text/latex": [
       "\\[\n",
       "\\begin{aligned}\n",
       "y_{foil} &= \\mathrm{yoil} - \\mathrm{yplate} \\\\&= 0.02 - 0.01 \\\\&= 0.01 \\; \\;\\textrm{(m)}\\\\[10pt]\n",
       "\\\\[10pt]\n",
       "\\tau_{oil} &= \\mu \\cdot \\left( \\frac{ V }{ y_{foil} } \\right) \\\\&= 0.07 \\cdot \\left( \\frac{ 0.63 }{ 0.01 } \\right) \\\\&= 3.72 \\; \\;\\textrm{(N/m2)}\\\\[10pt]\n",
       "\\\\[10pt]\n",
       "\\tau_{plate} &= \\mu \\cdot \\left( \\frac{ V }{ \\mathrm{yplate} } \\right) \\\\&= 0.07 \\cdot \\left( \\frac{ 0.63 }{ 0.01 } \\right) \\\\&= 8.18 \\; \\;\\textrm{(N/m2)}\\\\[10pt]\n",
       "\\\\[10pt]\n",
       "F_{oil} &= \\tau_{oil} \\cdot A \\\\&= 3.72 \\cdot 0.06 \\\\&= 0.23 \\; \\;\\textrm{(N)}\\\\[10pt]\n",
       "\\\\[10pt]\n",
       "F_{plate} &= \\tau_{plate} \\cdot A \\\\&= 8.18 \\cdot 0.06 \\\\&= 0.50 \\; \\;\\textrm{(N)}\\\\[10pt]\n",
       "\\\\[10pt]\n",
       "F &= F_{oil} + F_{plate} \\\\&= 0.23 + 0.50 \\\\&= 0.72 \\; \\;\\textrm{(N)}\\\\[10pt]\n",
       "\\end{aligned}\n",
       "\\]"
      ],
      "text/plain": [
       "<IPython.core.display.Latex object>"
      ]
     },
     "metadata": {},
     "output_type": "display_data"
    }
   ],
   "source": [
    "%%render long 2\n",
    "y_foil= yoil-yplate #m\n",
    "tau_oil= mu*(V/y_foil) #N/m2\n",
    "tau_plate= mu*(V/yplate) #N/m2\n",
    "F_oil= tau_oil*A #N\n",
    "F_plate= tau_plate*A #N\n",
    "F= F_oil+F_plate #N"
   ]
  },
  {
   "cell_type": "markdown",
   "id": "213875d1-4429-472c-90fd-c4d35af756b8",
   "metadata": {
    "tags": []
   },
   "source": [
    "---\n",
    "#### Question 6 (**)"
   ]
  },
  {
   "cell_type": "markdown",
   "id": "48773928",
   "metadata": {
    "hidden": true,
    "tags": [
     "remove-input"
    ]
   },
   "source": [
    "A space 10 mm wide between two large plane surfaces is filled with oil with viscosity μ = 0.18 N.s/m<sup>2</sup>. A very thin plate with a 0.5 m<sup>2</sup> area is located halfway between the two surfaces. If a constant force of 10 N is applied the plate, at what speed will it be dragged out from between the surfaces? {0.278 m/s}"
   ]
  },
  {
   "cell_type": "markdown",
   "id": "ddc731c4-e072-4b2c-8743-cc89f409f7b0",
   "metadata": {},
   "source": [
    "**Given:**"
   ]
  },
  {
   "cell_type": "code",
   "execution_count": 41,
   "id": "f7ca235a",
   "metadata": {
    "hidden": true,
    "jupyter": {
     "source_hidden": true
    },
    "scrolled": true,
    "tags": [
     "remove-input"
    ]
   },
   "outputs": [
    {
     "data": {
      "text/latex": [
       "\\[\n",
       "\\begin{aligned}\n",
       "A &= 0.500 \\; \\;\\textrm{(m2)}\n",
       " &L &= 5 \\; \\;\\textrm{(mm)}\n",
       " &\\mu &= 0.180 \\; \\;\\textrm{(N.s/m2)}\n",
       "\\\\[10pt]\n",
       " F &= 10 \\; \\;\\textrm{(N)}\n",
       "\\end{aligned}\n",
       "\\]"
      ],
      "text/plain": [
       "<IPython.core.display.Latex object>"
      ]
     },
     "metadata": {},
     "output_type": "display_data"
    }
   ],
   "source": [
    "%%render param\n",
    "A=0.5 #m2\n",
    "L=5 #mm\n",
    "mu =0.18 #N.s/m2\n",
    "F= 10 #N\n"
   ]
  },
  {
   "cell_type": "markdown",
   "id": "e4aec01d-dff0-4570-9fe3-abb20158d9e6",
   "metadata": {
    "solution": "shown",
    "solution2": "hidden",
    "solution2_first": true,
    "solution_first": true,
    "tags": [
     "remove-input"
    ]
   },
   "source": [
    "**Hint**"
   ]
  },
  {
   "cell_type": "markdown",
   "id": "0bad4b96",
   "metadata": {
    "hidden": true,
    "tags": [
     "remove-input"
    ]
   },
   "source": [
    "```{toggle}\n",
    "Force can be calculated as:\n",
    "\n",
    "$$\n",
    "F=A\\mu \\frac {\\Delta V}{\\Delta y}\\\\\n",
    "$$\n",
    "\n",
    "Where the total Area is $1m^2$ because the area of one plate is $A= 0.5 m^2$.\n",
    "\n",
    "Solving for $\\Delta V$:\n",
    "\n",
    "$$\n",
    "\\Delta V =F\\frac {\\Delta y}{\\mu A_{total}}\n",
    "$$\n",
    "\n",
    "Considering that $\\Delta y$ is equal to $L$ in m:\n",
    "```"
   ]
  },
  {
   "cell_type": "markdown",
   "id": "98204338-76e5-43cf-8398-af3f89e01c3f",
   "metadata": {},
   "source": [
    "**Solution**"
   ]
  },
  {
   "cell_type": "code",
   "execution_count": 42,
   "id": "c0bc0562",
   "metadata": {
    "hidden": true,
    "jupyter": {
     "source_hidden": true
    },
    "scrolled": true,
    "tags": [
     "remove-input",
     "hide-output"
    ]
   },
   "outputs": [
    {
     "data": {
      "text/latex": [
       "\\[\n",
       "\\begin{aligned}\n",
       "L_{m} &= L \\cdot \\left( 10 \\right) ^{ -3 } \\\\&= 5 \\cdot \\left( 10 \\right) ^{ -3 } \\\\&= 0.005 \\; \\;\\textrm{(m)}\\\\[10pt]\n",
       "\\\\[10pt]\n",
       "A_{total} &= 1.000 \\; \n",
       "\\\\[10pt]\n",
       "V &= F \\cdot \\frac{ L_{m} }{ \\mu \\cdot A_{total} } \\\\&= 10 \\cdot \\frac{ 0.005 }{ 0.180 \\cdot 1.000 } \\\\&= 0.278 \\; \\;\\textrm{(m/s)}\\\\[10pt]\n",
       "\\end{aligned}\n",
       "\\]"
      ],
      "text/plain": [
       "<IPython.core.display.Latex object>"
      ]
     },
     "metadata": {},
     "output_type": "display_data"
    }
   ],
   "source": [
    "%%render long\n",
    "L_m= L*10**-3 #m\n",
    "A_total=A*2\n",
    "V= F*L_m/(mu*A_total) #m/s"
   ]
  },
  {
   "cell_type": "markdown",
   "id": "2663144b-96a3-4078-9d95-f128271d1b5a",
   "metadata": {
    "tags": []
   },
   "source": [
    "---\n",
    "#### Question 7 (**)[R]"
   ]
  },
  {
   "cell_type": "markdown",
   "id": "abdbcd3e",
   "metadata": {
    "hidden": true,
    "tags": [
     "remove-input"
    ]
   },
   "source": [
    " A square block weighing 1.1 kN and with side lengths of 250 mm slides down a 20 °  incline on a film of oil 6.0 micrometre thick. Assuming a linear velocity profile in the oil, what is the terminal velocity of the block? The viscosity of the oil is 7 mPa.s.  {5.16 m/s}"
   ]
  },
  {
   "cell_type": "markdown",
   "id": "37d1ca3c-640d-4e53-a46d-8fd674366755",
   "metadata": {},
   "source": [
    "**Given:**"
   ]
  },
  {
   "cell_type": "code",
   "execution_count": 43,
   "id": "70356a6d",
   "metadata": {
    "hidden": true,
    "jupyter": {
     "source_hidden": true
    },
    "scrolled": true,
    "tags": [
     "remove-input"
    ]
   },
   "outputs": [
    {
     "data": {
      "text/latex": [
       "\\[\n",
       "\\begin{aligned}\n",
       "W &= 1100.000 \\; \\;\\textrm{(N)}\n",
       " &\\theta &= 20 \\; \\;\\textrm{(°)}\n",
       " &\\mathrm{dy} &= 0.000 \\; \\;\\textrm{(m)}\n",
       "\\\\[10pt]\n",
       " \\mu &= 0.007 \\; \\;\\textrm{(Pa.s)}\n",
       " &L &= 0.250 \\; \\;\\textrm{(m)}\n",
       "\\end{aligned}\n",
       "\\]"
      ],
      "text/plain": [
       "<IPython.core.display.Latex object>"
      ]
     },
     "metadata": {},
     "output_type": "display_data"
    }
   ],
   "source": [
    "%%render param\n",
    "W=1.1*10**3 #N\n",
    "theta=20 #°\n",
    "dy=6*10**-6 #m\n",
    "mu=7*10**-3 #Pa.s\n",
    "L=250/1000 #m"
   ]
  },
  {
   "cell_type": "markdown",
   "id": "b25bdae3-8705-45d7-bfcc-d1541fe3d689",
   "metadata": {
    "solution": "shown",
    "solution2": "hidden",
    "solution2_first": true,
    "solution_first": true,
    "tags": [
     "remove-input"
    ]
   },
   "source": [
    "**Hint**"
   ]
  },
  {
   "cell_type": "markdown",
   "id": "a0e348db",
   "metadata": {
    "hidden": true,
    "tags": [
     "remove-input"
    ]
   },
   "source": [
    "```{toggle}\n",
    "At terminal velocity, the block is moving at a constant speed, meaning the net force acting on it is zero. By considering the forces along each axis, the following equation can be derived:\n",
    "\n",
    "$$\n",
    "\\sum F_x=0\\\\\n",
    "F_\\mu-Wsin\\theta=0\\\\\n",
    "F_\\mu=Wsin\\theta\\\\\n",
    "F_\\mu=\\tau A\\\\\n",
    "F_\\mu=\\mu \\frac{dV}{dy} A\\\\\n",
    "\\mu \\frac{dV}{dy} A=Wsin\\theta\\\\\n",
    "$$\n",
    "```"
   ]
  },
  {
   "cell_type": "markdown",
   "id": "ba38ff41-be4c-4c51-b04e-8596fda3ee4b",
   "metadata": {},
   "source": [
    "**Solution**"
   ]
  },
  {
   "cell_type": "code",
   "execution_count": 60,
   "id": "0611f1d3",
   "metadata": {
    "hidden": true,
    "scrolled": true,
    "tags": [
     "remove-input",
     "hide-output"
    ]
   },
   "outputs": [
    {
     "data": {
      "text/latex": [
       "\\[\n",
       "\\begin{aligned}\n",
       "A &= \\left( L \\right) ^{ 2 } \\\\&= \\left( 0.250 \\right) ^{ 2 } \\\\&= 0.062 \\; \\;\\textrm{(m2)}\\\\[10pt]\n",
       "\\\\[10pt]\n",
       "\\mathrm{dV} &= \\frac{ W \\cdot \\sin { \\left( \\operatorname{radians} \\theta \\right) } \\cdot \\mathrm{dy} }{ A \\cdot \\mu } \\\\&= \\frac{ 93.400 \\cdot \\sin { \\left( \\operatorname{radians} 20 \\right) } \\cdot 0.000 }{ 0.062 \\cdot 0.065 } \\\\&= 0.199 \\; \\;\\textrm{(m/s)}\\\\[10pt]\n",
       "\\end{aligned}\n",
       "\\]"
      ],
      "text/plain": [
       "<IPython.core.display.Latex object>"
      ]
     },
     "metadata": {},
     "output_type": "display_data"
    }
   ],
   "source": [
    "%%render long\n",
    "A= L**2 #m2\n",
    "dV= (W*sin(radians(theta))*dy)/(A*mu) #m/s"
   ]
  },
  {
   "cell_type": "markdown",
   "id": "deac56b7-53be-4826-881e-17c0f91bfc13",
   "metadata": {
    "tags": []
   },
   "source": [
    "---\n",
    "#### Question 8 (***)"
   ]
  },
  {
   "cell_type": "markdown",
   "id": "0b600cd4",
   "metadata": {
    "hidden": true,
    "tags": [
     "remove-input"
    ]
   },
   "source": [
    " A hydraulic lift consist of a 280.00 mm diameter ram which slides in a 280.18 mm  cylinder, the annular space being filled with oil having a kinematic viscosity of 0.00042 m<sup>2</sup>/s and a specific gravity of 0.86. If the rate of travel of the ram is 0.22 m/s, find the frictional resistance when 2 m of the ram is engaged in the cylinder. {1553 N}"
   ]
  },
  {
   "cell_type": "markdown",
   "id": "fab4c35d-d4df-4963-8ef2-28c2da452b35",
   "metadata": {},
   "source": [
    "**Given:**"
   ]
  },
  {
   "cell_type": "markdown",
   "id": "c39c7e3c",
   "metadata": {
    "hidden": true,
    "tags": [
     "remove-input"
    ]
   },
   "source": [
    "If we convert the diameters of the hydraulic lift and the cilinder to m, we have the following parameters:"
   ]
  },
  {
   "cell_type": "code",
   "execution_count": 46,
   "id": "41edbddc",
   "metadata": {
    "hidden": true,
    "jupyter": {
     "source_hidden": true
    },
    "scrolled": true,
    "tags": [
     "remove-input"
    ]
   },
   "outputs": [
    {
     "data": {
      "text/latex": [
       "\\[\n",
       "\\begin{aligned}\n",
       "d_{lift} &= 0.2800 \\; \\;\\textrm{(m)}\n",
       " &d_{cyl} &= 0.2802 \\; \\;\\textrm{(m)}\n",
       " &\\nu &= 0.0004 \\; \\;\\textrm{(m2/s)}\n",
       "\\\\[10pt]\n",
       " S &= 0.8600 \\; \n",
       " &\\Delta_{vel} &= 0.2200 \\; \\;\\textrm{(m/s)}\n",
       " &h &= 2 \\; \\;\\textrm{(m)}\n",
       "\\\\[10pt]\n",
       "\\end{aligned}\n",
       "\\]"
      ],
      "text/plain": [
       "<IPython.core.display.Latex object>"
      ]
     },
     "metadata": {},
     "output_type": "display_data"
    }
   ],
   "source": [
    "%%render param 4\n",
    "d_lift= 280/1000 #m\n",
    "d_cyl=280.18/1000 #m\n",
    "nu= 0.00042 #m2/s\n",
    "S=0.86 \n",
    "Delta_vel=0.22 #m/s\n",
    "h=2 #m"
   ]
  },
  {
   "cell_type": "markdown",
   "id": "2cb6c332-07f3-423a-8534-d3cde933fee3",
   "metadata": {
    "solution": "shown",
    "solution2": "hidden",
    "solution2_first": true,
    "solution_first": true,
    "tags": [
     "remove-input"
    ]
   },
   "source": [
    "**Hint**"
   ]
  },
  {
   "cell_type": "markdown",
   "id": "b532344c",
   "metadata": {
    "hidden": true,
    "tags": [
     "remove-input"
    ]
   },
   "source": [
    "```{toggle}\n",
    "The frition resistance can be calculated as $F=\\tau A$  \n",
    "\n",
    "Where $A=h \\cdot \\pi \\cdot d_{lift}$ and $\\tau = \\mu \\frac {\\Delta V}{\\Delta y}$  \n",
    "\n",
    "The dynamic viscosity can be calculated as $\\mu = \\nu \\cdot \\rho$, where $\\rho = s \\cdot \\rho_{water}$\n",
    "```"
   ]
  },
  {
   "cell_type": "markdown",
   "id": "caeef69b-0a26-4c0c-858f-4bf292ef906f",
   "metadata": {},
   "source": [
    "**Solution**"
   ]
  },
  {
   "cell_type": "code",
   "execution_count": 47,
   "id": "bafa6363",
   "metadata": {
    "hidden": true,
    "jupyter": {
     "source_hidden": true
    },
    "scrolled": true,
    "tags": [
     "remove-input",
     "hide-output"
    ]
   },
   "outputs": [
    {
     "data": {
      "text/latex": [
       "\\[\n",
       "\\begin{aligned}\n",
       "\\rho &= S \\cdot \\rho_{water} \\\\&= 0.860 \\cdot 1000 \\\\&= 860.000 \\; \\;\\textrm{(kg/m3)}\\\\[10pt]\n",
       "\\\\[10pt]\n",
       "\\mu &= \\nu \\cdot \\rho \\\\&= 0.000 \\cdot 860.000 \\\\&= 0.361 \\; \\;\\textrm{(Pa.s)}\\\\[10pt]\n",
       "\\\\[10pt]\n",
       "\\Delta_{y} &= \\frac{ d_{cyl} - d_{lift} }{ 2 } \\\\&= \\frac{ 0.280 - 0.280 }{ 2 } \\\\&= 0.000 \\; \\;\\textrm{(m)}\\\\[10pt]\n",
       "\\\\[10pt]\n",
       "\\tau &= \\mu \\cdot \\frac{ \\Delta_{vel} }{ \\Delta_{y} } \\\\&= 0.361 \\cdot \\frac{ 0.220 }{ 0.000 } \\\\&= 882.933 \\; \\;\\textrm{(Pa)}\\\\[10pt]\n",
       "\\\\[10pt]\n",
       "A &= h \\cdot \\pi \\cdot d_{lift} \\\\&= 2 \\cdot 3.142 \\cdot 0.280 \\\\&= 1.759 \\; \\;\\textrm{(m2)}\\\\[10pt]\n",
       "\\\\[10pt]\n",
       "F &= \\tau \\cdot A \\\\&= 882.933 \\cdot 1.759 \\\\&= 1553.337 \\; \\;\\textrm{(N)}\\\\[10pt]\n",
       "\\end{aligned}\n",
       "\\]"
      ],
      "text/plain": [
       "<IPython.core.display.Latex object>"
      ]
     },
     "metadata": {},
     "output_type": "display_data"
    }
   ],
   "source": [
    "%%render long \n",
    "rho= S*rho_water #kg/m3\n",
    "mu= nu*rho #Pa.s\n",
    "Delta_y= (d_cyl-d_lift)/2 #m\n",
    "\n",
    "tau= mu*Delta_vel/(Delta_y) #Pa\n",
    "A= h*pi*d_lift #m2\n",
    "F= tau*A #N"
   ]
  },
  {
   "cell_type": "markdown",
   "id": "2c27bced-9d2a-4130-8010-4146e6dfbb55",
   "metadata": {
    "tags": []
   },
   "source": [
    "---\n",
    "#### Question 9 (***)"
   ]
  },
  {
   "cell_type": "markdown",
   "id": "ac5365c1",
   "metadata": {
    "hidden": true,
    "tags": [
     "remove-input"
    ]
   },
   "source": [
    "A piston with diameter of 127 mm, height 152 mm and weight 93.4 N slides free in a lubricated vertical pipe. The clearance between the piston and the pipe is 0.0254 mm. If the piston decelerates at 0.64 m/s<sup>2</sup> when its speed is 6.4 m/s, what is the viscosity of the oil? { 0.0065 N.s/m<sup>2</sup> }"
   ]
  },
  {
   "cell_type": "markdown",
   "id": "e627d20e-58d0-4617-a5cc-7eee5796d578",
   "metadata": {},
   "source": [
    "**Given:**"
   ]
  },
  {
   "cell_type": "code",
   "execution_count": 48,
   "id": "90b860af",
   "metadata": {
    "hidden": true,
    "scrolled": true,
    "tags": [
     "remove-input"
    ]
   },
   "outputs": [
    {
     "data": {
      "text/latex": [
       "\\[\n",
       "\\begin{aligned}\n",
       "d &= 0.127 \\; \\;\\textrm{(m)}\n",
       " &h &= 0.152 \\; \\;\\textrm{(m)}\n",
       " &W &= 93.400 \\; \\;\\textrm{(N)}\n",
       "\\\\[10pt]\n",
       " \\mathrm{dy} &= 0.000 \\; \\;\\textrm{(m)}\n",
       " &\\mathrm{dV} &= 0.640 \\; \\;\\textrm{(m/s2)}\n",
       " &a &= 0.640 \\; \\;\\textrm{(m/s2)}\n",
       "\\\\[10pt]\n",
       "\\end{aligned}\n",
       "\\]"
      ],
      "text/plain": [
       "<IPython.core.display.Latex object>"
      ]
     },
     "metadata": {},
     "output_type": "display_data"
    }
   ],
   "source": [
    "%%render param\n",
    "d=127/1000 #m\n",
    "h=152/1000 #m\n",
    "W=93.4 #N\n",
    "dy=0.0254/1000 #m\n",
    "dV=0.64 #m/s2\n",
    "a=0.64 #m/s2"
   ]
  },
  {
   "cell_type": "markdown",
   "id": "8867162d-d6ca-42af-9431-01aa3cc71b56",
   "metadata": {
    "solution": "shown",
    "solution2": "hidden",
    "solution2_first": true,
    "solution_first": true,
    "tags": [
     "remove-input"
    ]
   },
   "source": [
    "**Hint**"
   ]
  },
  {
   "cell_type": "markdown",
   "id": "86e4190f",
   "metadata": {
    "hidden": true,
    "tags": [
     "remove-input"
    ]
   },
   "source": [
    "```{toggle}\n",
    "In this case, since there is a deceleration, the sum of forces along the axis must be set equal to mass times acceleration. Including all the forces in the equation, we have the following\n",
    "\n",
    "$$\n",
    "\\sum F=ma\\\\\n",
    "F_\\tau - W=ma\\\\\n",
    "$$\n",
    "\n",
    "and $F_\\tau$ is:\n",
    "\n",
    "$$\n",
    "F_\\tau=\\mu \\frac{dV}{dy} A\\\\\n",
    "\\mu \\frac{dV}{dy} A - W =ma\n",
    "$$\n",
    "```"
   ]
  },
  {
   "cell_type": "markdown",
   "id": "15b13536-d4a6-446f-ac06-c7fb0f003a52",
   "metadata": {},
   "source": [
    "**Solution**"
   ]
  },
  {
   "cell_type": "code",
   "execution_count": 49,
   "id": "5841755d",
   "metadata": {
    "hidden": true,
    "scrolled": true,
    "tags": [
     "remove-input",
     "hide-output"
    ]
   },
   "outputs": [
    {
     "data": {
      "text/latex": [
       "\\[\n",
       "\\begin{aligned}\n",
       "A &= 2 \\cdot \\pi \\cdot \\left( \\frac{ d }{ 2 } \\right) \\cdot h \\\\&= 2 \\cdot 3.142 \\cdot \\left( \\frac{ 0.127 }{ 2 } \\right) \\cdot 0.152 \\\\&= 0.061 \\; \\;\\textrm{(m2)}\\\\[10pt]\n",
       "\\\\[10pt]\n",
       "m &= \\frac{ W }{ g } \\\\&= \\frac{ 93.400 }{ 9.810 } \\\\&= 9.521 \\; \\;\\textrm{(kg)}\\\\[10pt]\n",
       "\\\\[10pt]\n",
       "\\mu &= \\left( \\frac{ m \\cdot a + W }{ A \\cdot \\mathrm{dV} } \\right) \\cdot \\mathrm{dy} \\\\&= \\left( \\frac{ 9.521 \\cdot 0.640 + 93.400 }{ 0.061 \\cdot 0.640 } \\right) \\cdot 0.000 \\\\&= 0.065 \\; \\;\\textrm{(N.s/m2)}\\\\[10pt]\n",
       "\\end{aligned}\n",
       "\\]"
      ],
      "text/plain": [
       "<IPython.core.display.Latex object>"
      ]
     },
     "metadata": {},
     "output_type": "display_data"
    }
   ],
   "source": [
    "%%render long\n",
    "A= 2*pi*(d/2)*h #m2\n",
    "m= W/g #kg\n",
    "\n",
    "mu= ((m*a+W)/(A*dV))*dy #N.s/m2"
   ]
  },
  {
   "cell_type": "markdown",
   "id": "39c88748-d134-4a5d-8ff6-de5c69e8fc32",
   "metadata": {
    "tags": []
   },
   "source": [
    "---\n",
    "#### Question 10 (***)"
   ]
  },
  {
   "cell_type": "markdown",
   "id": "5041510b",
   "metadata": {
    "hidden": true,
    "tags": [
     "remove-input"
    ]
   },
   "source": [
    "A journal bearing consists of an 80.0 mm diameter shaft in an 80.4 mm sleeve 120 mm long. The clearance space is filled with oil with a viscosity of 0.11 N.s/m<sup>2</sup>. Calculate the torque required to keep the shaft turning at 150 rpm. {0.417 N.m}"
   ]
  },
  {
   "cell_type": "markdown",
   "id": "36f47fc3-dc44-40d2-baa8-3b64c0a2d517",
   "metadata": {},
   "source": [
    "**Given:**"
   ]
  },
  {
   "cell_type": "markdown",
   "id": "8e8e0d17",
   "metadata": {
    "hidden": true,
    "tags": [
     "remove-input"
    ]
   },
   "source": [
    "The given parameters are the following: (Note that the diameters and length were converted to meters)."
   ]
  },
  {
   "cell_type": "code",
   "execution_count": 50,
   "id": "d919755a",
   "metadata": {
    "hidden": true,
    "jupyter": {
     "source_hidden": true
    },
    "scrolled": true,
    "tags": [
     "remove-input"
    ]
   },
   "outputs": [
    {
     "data": {
      "text/latex": [
       "\\[\n",
       "\\begin{aligned}\n",
       "d_{journal} &= 0.080 \\; \\;\\textrm{(m)}\n",
       " &d_{sleeve} &= 0.080 \\; \\;\\textrm{(m)}\n",
       " &\\mathrm{long}_{sleeve} &= 0.120 \\; \\;\\textrm{(m)}\n",
       "\\\\[10pt]\n",
       " \\mu_{filled} &= 0.110 \\; \\;\\textrm{(Ns/m2)}\n",
       " &N_{rpm} &= 150 \\; \\;\\textrm{(rpm)}\n",
       "\\end{aligned}\n",
       "\\]"
      ],
      "text/plain": [
       "<IPython.core.display.Latex object>"
      ]
     },
     "metadata": {},
     "output_type": "display_data"
    }
   ],
   "source": [
    "%%render param\n",
    "\n",
    "d_journal= 80/1000 #m\n",
    "d_sleeve= 80.4/1000 #m\n",
    "long_sleeve= 120/1000 #m\n",
    "mu_filled=0.11 #Ns/m2\n",
    "N_rpm=150 #rpm\n"
   ]
  },
  {
   "cell_type": "markdown",
   "id": "0b511ce5-b922-4138-8762-cba5c1175e66",
   "metadata": {
    "solution": "shown",
    "solution2": "hidden",
    "solution2_first": true,
    "solution_first": true,
    "tags": [
     "remove-input"
    ]
   },
   "source": [
    "**Hint**"
   ]
  },
  {
   "cell_type": "markdown",
   "id": "004e6960",
   "metadata": {
    "hidden": true,
    "tags": [
     "remove-input"
    ]
   },
   "source": [
    "```{toggle}\n",
    "\n",
    "The torque can be calculated as $Torque = F \\cdot r_{journal}$  \n",
    "\n",
    "Where $\\tau= \\mu\\frac {\\Delta V}{\\Delta y}$ and $V=\\frac{r_{journal}\\cdot2\\cdot\\pi\\cdot N_{rpm}}{60}$\n",
    "```"
   ]
  },
  {
   "cell_type": "markdown",
   "id": "158a0cdf-494e-42ba-871a-66ae11fe2966",
   "metadata": {},
   "source": [
    "**Solution**"
   ]
  },
  {
   "cell_type": "code",
   "execution_count": 51,
   "id": "e7c86120",
   "metadata": {
    "hidden": true,
    "jupyter": {
     "source_hidden": true
    },
    "scrolled": true,
    "tags": [
     "remove-input",
     "hide-output"
    ]
   },
   "outputs": [
    {
     "data": {
      "text/latex": [
       "\\[\n",
       "\\begin{aligned}\n",
       "r_{journal} &= \\frac{ d_{journal} }{ 2 } \\\\&= \\frac{ 0.080 }{ 2 } \\\\&= 0.040 \\; \\;\\textrm{(m)}\\\\[10pt]\n",
       "\\\\[10pt]\n",
       "V &= \\frac{ r_{journal} \\cdot 2 \\cdot \\pi \\cdot N_{rpm} }{ 60 } \\\\&= \\frac{ 0.040 \\cdot 2 \\cdot 3.142 \\cdot 150 }{ 60 } \\\\&= 0.628 \\; \\;\\textrm{(m/s)}\\\\[10pt]\n",
       "\\\\[10pt]\n",
       "\\Delta_{y} &= \\frac{ d_{sleeve} - d_{journal} }{ 2 } \\\\&= \\frac{ 0.080 - 0.080 }{ 2 } \\\\&= 0.000 \\; \\;\\textrm{(m)}\\\\[10pt]\n",
       "\\\\[10pt]\n",
       "\\tau &= \\mu_{filled} \\cdot \\frac{ V }{ \\Delta_{y} } \\\\&= 0.110 \\cdot \\frac{ 0.628 }{ 0.000 } \\\\&= 345.575 \\; \\;\\textrm{(Pa)}\\\\[10pt]\n",
       "\\\\[10pt]\n",
       "F &= \\tau \\cdot \\pi \\cdot d_{journal} \\cdot \\mathrm{long}_{sleeve} \\\\&= 345.575 \\cdot 3.142 \\cdot 0.080 \\cdot 0.120 \\\\&= 10.422 \\; \\;\\textrm{(N)}\\\\[10pt]\n",
       "\\\\[10pt]\n",
       "\\mathrm{Torque} &= F \\cdot r_{journal} \\\\&= 10.422 \\cdot 0.040 \\\\&= 0.417 \\; \\;\\textrm{(N.m)}\\\\[10pt]\n",
       "\\end{aligned}\n",
       "\\]"
      ],
      "text/plain": [
       "<IPython.core.display.Latex object>"
      ]
     },
     "metadata": {},
     "output_type": "display_data"
    }
   ],
   "source": [
    "%%render long\n",
    "r_journal= (d_journal)/2 #m\n",
    "\n",
    "V= (r_journal*2*pi*N_rpm)/60 #m/s\n",
    "\n",
    "Delta_y= ((d_sleeve-d_journal))/2 #m\n",
    "\n",
    "tau= mu_filled*V/Delta_y #Pa\n",
    "\n",
    "F= tau*pi*(d_journal)*(long_sleeve) #N\n",
    "\n",
    "Torque= F*r_journal #N.m\n"
   ]
  },
  {
   "cell_type": "markdown",
   "id": "225ae7a6",
   "metadata": {
    "tags": [
     "remove-input"
    ]
   },
   "source": [
    "### Surface Tension"
   ]
  },
  {
   "cell_type": "markdown",
   "id": "2dfbabde-a4ce-4f5a-9e24-39f7e001fc52",
   "metadata": {
    "tags": []
   },
   "source": [
    "---\n",
    "#### Question 11 (*)"
   ]
  },
  {
   "cell_type": "markdown",
   "id": "5fa0ab4f",
   "metadata": {
    "tags": [
     "remove-input"
    ]
   },
   "source": [
    "Calculate the capillary rise of pure water at 10 °C expected in an 0.8 mm diameter tube.  Assume that the contact angle of pure water is 0°. {37.8 mm}"
   ]
  },
  {
   "cell_type": "markdown",
   "id": "9c5f3ccc-918d-4568-8391-b0e4b34f7704",
   "metadata": {},
   "source": [
    "**Given:**"
   ]
  },
  {
   "cell_type": "code",
   "execution_count": 52,
   "id": "816ee588",
   "metadata": {
    "jupyter": {
     "source_hidden": true
    },
    "scrolled": true,
    "tags": [
     "remove-input"
    ]
   },
   "outputs": [
    {
     "data": {
      "text/latex": [
       "\\[\n",
       "\\begin{aligned}\n",
       "d &= 0.001 \\; \\;\\textrm{(m)}\n",
       " &T &= 10 \\; \\;\\textrm{(°C)}\n",
       "\\end{aligned}\n",
       "\\]"
      ],
      "text/plain": [
       "<IPython.core.display.Latex object>"
      ]
     },
     "metadata": {},
     "output_type": "display_data"
    }
   ],
   "source": [
    "%%render param\n",
    "d=0.8/1000 #m\n",
    "T=10 #°C"
   ]
  },
  {
   "cell_type": "markdown",
   "id": "f1181d27-b540-4c24-a837-5a5ab19d59c9",
   "metadata": {
    "solution": "shown",
    "solution2": "hidden",
    "solution2_first": true,
    "solution_first": true,
    "tags": [
     "remove-input"
    ]
   },
   "source": [
    "**Hint**"
   ]
  },
  {
   "cell_type": "markdown",
   "id": "64143313",
   "metadata": {
    "tags": [
     "remove-input"
    ]
   },
   "source": [
    "```{toggle}\n",
    "According to the exercise, and given that the height of the capillary rise can be calculated using the following equation:\n",
    "\n",
    "$$\n",
    "\\theta=0\\\\\n",
    "cos(\\theta)=1\\\\\n",
    "h= \\frac {2 \\sigma}{\\gamma *r}\n",
    "$$\n",
    "\n",
    "The values for $\\sigma$ and $\\gamma$ can be read from the table A.1 at 10 °C\n",
    "```"
   ]
  },
  {
   "cell_type": "markdown",
   "id": "cbc68019-2f71-40b6-9231-db6fcc8771c9",
   "metadata": {},
   "source": [
    "**Solution**"
   ]
  },
  {
   "cell_type": "code",
   "execution_count": 53,
   "id": "7eab9730",
   "metadata": {
    "scrolled": true,
    "tags": [
     "remove-input",
     "hide-output"
    ]
   },
   "outputs": [
    {
     "data": {
      "text/latex": [
       "\\[\n",
       "\\begin{aligned}\n",
       "\\sigma &= 0.074 \\; \\;\\textrm{(N/m)}\n",
       "\\\\[10pt]\n",
       "\\gamma &= 9804 \\; \\;\\textrm{(kN/m3)}\n",
       "\\\\[10pt]\n",
       "h_{m} &= \\frac{ 2 \\cdot \\sigma }{ \\gamma \\cdot \\left( \\frac{ d }{ 2 } \\right) } \\\\&= \\frac{ 2 \\cdot 0.074 }{ 9804 \\cdot \\left( \\frac{ 0.001 }{ 2 } \\right) } \\\\&= 0.038 \\; \\;\\textrm{(m)}\\\\[10pt]\n",
       "\\\\[10pt]\n",
       "h_{mm} &= h_{m} \\cdot 1000 \\\\&= 0.038 \\cdot 1000 \\\\&= 37.842 \\; \\;\\textrm{(mm)}\\\\[10pt]\n",
       "\\end{aligned}\n",
       "\\]"
      ],
      "text/plain": [
       "<IPython.core.display.Latex object>"
      ]
     },
     "metadata": {},
     "output_type": "display_data"
    }
   ],
   "source": [
    "%%render long 2\n",
    "sigma=0.0742 #N/m\n",
    "gamma= 9804 #kN/m3\n",
    "\n",
    "h_m= (2*sigma)/(gamma*(d/2)) #m\n",
    "h_mm= h_m*1000 #mm"
   ]
  },
  {
   "cell_type": "markdown",
   "id": "78b53759-a572-41c2-ad8a-2cf2989e18b6",
   "metadata": {
    "tags": []
   },
   "source": [
    "---\n",
    "#### Question 12 (*)[R]"
   ]
  },
  {
   "cell_type": "markdown",
   "id": "c629d29c",
   "metadata": {
    "tags": [
     "remove-input"
    ]
   },
   "source": [
    "A glass tube with diameter 1.5 mm is dipped vertically in water. Calculate from basic principles how high the water will rise in the tube due to capillary action. Take the coefficient of surface tension to be 0.0730 N/m and the angle of contact as 10°.  {19.5 mm}"
   ]
  },
  {
   "cell_type": "markdown",
   "id": "1fd2e424-3f52-465e-8fcb-0e452f7148d7",
   "metadata": {},
   "source": [
    "**Given:**"
   ]
  },
  {
   "cell_type": "markdown",
   "id": "6e2214f3",
   "metadata": {
    "tags": [
     "remove-input"
    ]
   },
   "source": [
    "If we convert the diameter to meters, we have the following given parameters:"
   ]
  },
  {
   "cell_type": "code",
   "execution_count": 54,
   "id": "2900e9ea",
   "metadata": {
    "jupyter": {
     "source_hidden": true
    },
    "scrolled": true,
    "tags": [
     "remove-input"
    ]
   },
   "outputs": [
    {
     "data": {
      "text/latex": [
       "\\[\n",
       "\\begin{aligned}\n",
       "d_{tube} &= 0.002 \\; \\;\\textrm{(m)}\n",
       " &\\sigma &= 0.073 \\; \\;\\textrm{(N/m)}\n",
       " &\\theta &= 10 \\; \\;\\textrm{(°)}\n",
       "\\\\[10pt]\n",
       "\\end{aligned}\n",
       "\\]"
      ],
      "text/plain": [
       "<IPython.core.display.Latex object>"
      ]
     },
     "metadata": {},
     "output_type": "display_data"
    }
   ],
   "source": [
    "%%render param\n",
    "d_tube=1.5/1000 #m\n",
    "sigma=0.0730 #N/m\n",
    "theta=10 #°"
   ]
  },
  {
   "cell_type": "markdown",
   "id": "0f128587-860f-417f-aca5-9b1b2b66257c",
   "metadata": {
    "solution": "shown",
    "solution2": "hidden",
    "solution2_first": true,
    "solution_first": true,
    "tags": [
     "remove-input"
    ]
   },
   "source": [
    "**Hint**"
   ]
  },
  {
   "cell_type": "markdown",
   "id": "e2ed86a4",
   "metadata": {
    "tags": [
     "remove-input"
    ]
   },
   "source": [
    "```{toggle}\n",
    "By equating the lifting force created by surface tension to the gravity force, we obtain the following:  \n",
    "\n",
    "$$ \n",
    "\\sum F =0 \\\\ \n",
    "F_{\\sigma}-W=0\\\\\n",
    "F_{\\sigma}=\\sigma cos(\\theta) \\pi d\\\\\n",
    "W = \\frac {\\pi d^2 h\\rho g}{4}\\\\\n",
    "$$\n",
    "\n",
    "Replacing the $F_{\\sigma}$ and $W$\n",
    "\n",
    "$$\n",
    "\\sigma cos(\\theta) \\pi d-\\frac {\\pi d^2 h\\rho g}{4}=0\n",
    "$$\n",
    "\n",
    "Calculating $F_{sigma}$ and solving for $h$:\n",
    "```"
   ]
  },
  {
   "cell_type": "markdown",
   "id": "12e5487c-20e1-4153-b3f3-e9c46c589263",
   "metadata": {},
   "source": [
    "**Solution**"
   ]
  },
  {
   "cell_type": "code",
   "execution_count": 55,
   "id": "a3d4541a",
   "metadata": {
    "scrolled": true,
    "tags": [
     "remove-input",
     "hide-output"
    ]
   },
   "outputs": [
    {
     "data": {
      "text/latex": [
       "\\[\n",
       "\\begin{aligned}\n",
       "\\theta_{rad} &= \\operatorname{radians} { \\left( \\theta \\right) } \\\\&= \\operatorname{radians} { \\left( 10 \\right) } \\\\&= 0.1745 \\; \\;\\textrm{(rad)}\\\\[10pt]\n",
       "\\\\[10pt]\n",
       "F_{\\sigma} &= \\sigma \\cdot \\pi \\cdot d_{tube} \\cdot \\cos \\left( \\theta_{rad} \\right) \\\\&= 0.0730 \\cdot 3.1416 \\cdot 0.0015 \\cdot \\cos \\left( 0.1745 \\right) \\\\&= 0.0003 \\; \\;\\textrm{(N)}\\\\[10pt]\n",
       "\\\\[10pt]\n",
       "h &= F_{\\sigma} \\cdot \\frac{ 4 }{ \\left( d_{tube} \\right) ^{ 2 } \\cdot \\rho_{water} \\cdot g \\cdot \\pi } \\\\&= 0.0003 \\cdot \\frac{ 4 }{ \\left( 0.0015 \\right) ^{ 2 } \\cdot 1000 \\cdot 9.8100 \\cdot 3.1416 } \\\\&= 0.0195 \\; \\;\\textrm{(m)}\\\\[10pt]\n",
       "\\\\[10pt]\n",
       "h_{mm} &= h_{} \\\\&= h \\cdot 1000 \\\\&= 19.5422 \\\\&= 0.0195 \\cdot 1000 \\\\&= 19.5422 \\; \\;\\textrm{(mm)}\\\\[10pt]\n",
       "\\end{aligned}\n",
       "\\]"
      ],
      "text/plain": [
       "<IPython.core.display.Latex object>"
      ]
     },
     "metadata": {},
     "output_type": "display_data"
    }
   ],
   "source": [
    "%%render long 4\n",
    "theta_rad = radians(theta) #rad\n",
    "\n",
    "F_sigma= sigma*pi*d_tube*cos(theta_rad) #N\n",
    "h= F_sigma*4/(d_tube**2*rho_water*g*pi) #m\n",
    "h_mm = h_=h*1000 #mm"
   ]
  },
  {
   "cell_type": "markdown",
   "id": "7bca6838-f80c-478e-85ec-240e513ee678",
   "metadata": {
    "tags": []
   },
   "source": [
    "---\n",
    "#### Question 13 (*)"
   ]
  },
  {
   "cell_type": "markdown",
   "id": "eb054e40",
   "metadata": {
    "tags": [
     "remove-input"
    ]
   },
   "source": [
    "A glass tube with diameter 1 mm is dipped vertically in water. Calculate from basic principles how high the water will rise in the tube due to capillary action. Take the coefficient of surface tension to be 0.0730 N/m and the angle of contact as 20°.  {28 mm}"
   ]
  },
  {
   "cell_type": "markdown",
   "id": "758ebaa0-e740-44d8-84b7-eb4d6353129e",
   "metadata": {},
   "source": [
    "**Given:**"
   ]
  },
  {
   "cell_type": "code",
   "execution_count": 56,
   "id": "061b5fca",
   "metadata": {
    "jupyter": {
     "source_hidden": true
    },
    "scrolled": true,
    "tags": [
     "remove-input"
    ]
   },
   "outputs": [
    {
     "data": {
      "text/latex": [
       "\\[\n",
       "\\begin{aligned}\n",
       "d &= 0.001 \\; \\;\\textrm{(m)}\n",
       " &\\sigma &= 0.073 \\; \\;\\textrm{(N/m)}\n",
       " &\\theta &= 20 \\; \\;\\textrm{(°)}\n",
       "\\\\[10pt]\n",
       "\\end{aligned}\n",
       "\\]"
      ],
      "text/plain": [
       "<IPython.core.display.Latex object>"
      ]
     },
     "metadata": {},
     "output_type": "display_data"
    }
   ],
   "source": [
    "%%render param\n",
    "d=1/1000 #m\n",
    "sigma=0.073 #N/m\n",
    "theta=20 #°"
   ]
  },
  {
   "cell_type": "markdown",
   "id": "b50d9c26-a996-43b5-bade-3767e5e87abd",
   "metadata": {
    "solution": "shown",
    "solution2": "hidden",
    "solution2_first": true,
    "solution_first": true,
    "tags": [
     "remove-input"
    ]
   },
   "source": [
    "**Hint**"
   ]
  },
  {
   "cell_type": "markdown",
   "id": "9163fab2",
   "metadata": {
    "tags": [
     "remove-input"
    ]
   },
   "source": [
    "```{toggle}\n",
    "To calculate the height of the water, it is necessary to perform a force balance along that axis, and include all the forces.\n",
    "\n",
    "$$\n",
    "\\sum F_y=0\\\\\n",
    "F_\\sigma - W= 0\\\\\n",
    "\\sigma cos(\\theta) \\pi d - \\frac{\\pi d^2}{4} h \\rho g =0\n",
    "$$\n",
    "```"
   ]
  },
  {
   "cell_type": "markdown",
   "id": "0fb57945-372b-48c7-90d9-b10e1345df88",
   "metadata": {},
   "source": [
    "**Solution**"
   ]
  },
  {
   "cell_type": "code",
   "execution_count": 57,
   "id": "9c69bc53",
   "metadata": {
    "jupyter": {
     "source_hidden": true
    },
    "scrolled": true,
    "tags": [
     "remove-input",
     "hide-output"
    ]
   },
   "outputs": [
    {
     "data": {
      "text/latex": [
       "\\[\n",
       "\\begin{aligned}\n",
       "h &= \\frac{ 4 \\cdot \\sigma \\cdot \\cos { \\left( \\operatorname{radians} \\theta \\right) } }{ d \\cdot \\rho_{water} \\cdot g } \\\\&= \\frac{ 4 \\cdot 0.073 \\cdot \\cos { \\left( \\operatorname{radians} 20 \\right) } }{ 0.001 \\cdot 1000 \\cdot 9.810 } \\\\&= 0.028 \\; \\;\\textrm{(m)}\\\\[10pt]\n",
       "\\\\[10pt]\n",
       "h_{mm} &= h \\cdot 1000 \\\\&= 0.028 \\cdot 1000 \\\\&= 27.970 \\; \\;\\textrm{(mm)}\\\\[10pt]\n",
       "\\end{aligned}\n",
       "\\]"
      ],
      "text/plain": [
       "<IPython.core.display.Latex object>"
      ]
     },
     "metadata": {},
     "output_type": "display_data"
    }
   ],
   "source": [
    "%%render long\n",
    "\n",
    "h= (4*sigma*cos(radians(theta)))/(d*rho_water*g) #m\n",
    "h_mm= h*1000 #mm"
   ]
  },
  {
   "cell_type": "code",
   "execution_count": null,
   "id": "dcbd2694-a7a7-49db-91f4-128ed22d0fcb",
   "metadata": {},
   "outputs": [],
   "source": []
  },
  {
   "cell_type": "code",
   "execution_count": null,
   "id": "53e1b950-31cc-476e-ba84-36bcf80ecf73",
   "metadata": {},
   "outputs": [],
   "source": []
  },
  {
   "cell_type": "code",
   "execution_count": null,
   "id": "b5308373-9e8f-476e-9c6e-2d37dee24231",
   "metadata": {},
   "outputs": [],
   "source": []
  },
  {
   "cell_type": "code",
   "execution_count": null,
   "id": "253cd728-4107-4eef-ba47-fd83f07679ea",
   "metadata": {},
   "outputs": [],
   "source": []
  },
  {
   "cell_type": "code",
   "execution_count": null,
   "id": "46e06a1b-cab4-42ce-ba3b-47e06b5d75b0",
   "metadata": {},
   "outputs": [],
   "source": []
  },
  {
   "cell_type": "code",
   "execution_count": null,
   "id": "0da0d6fe-82ab-4d31-8787-3255f5a95c43",
   "metadata": {},
   "outputs": [],
   "source": []
  },
  {
   "cell_type": "code",
   "execution_count": null,
   "id": "1d5fb34d-31d0-48ae-933d-66a83d869d3d",
   "metadata": {},
   "outputs": [],
   "source": []
  },
  {
   "cell_type": "code",
   "execution_count": null,
   "id": "d0f7ff48-ec78-4638-b59c-20f733cbe87b",
   "metadata": {},
   "outputs": [],
   "source": []
  },
  {
   "cell_type": "code",
   "execution_count": null,
   "id": "998a2aab-f986-40f7-b6c1-e80e0198c97c",
   "metadata": {},
   "outputs": [],
   "source": []
  }
 ],
 "metadata": {
  "celltoolbar": "Tags",
  "hide_input": false,
  "kernelspec": {
   "display_name": "Python 3 (ipykernel)",
   "language": "python",
   "name": "python3"
  },
  "language_info": {
   "codemirror_mode": {
    "name": "ipython",
    "version": 3
   },
   "file_extension": ".py",
   "mimetype": "text/x-python",
   "name": "python",
   "nbconvert_exporter": "python",
   "pygments_lexer": "ipython3",
   "version": "3.9.7"
  },
  "toc": {
   "base_numbering": 1,
   "nav_menu": {},
   "number_sections": true,
   "sideBar": true,
   "skip_h1_title": false,
   "title_cell": "Table of Contents",
   "title_sidebar": "Contents",
   "toc_cell": false,
   "toc_position": {
    "height": "calc(100% - 180px)",
    "left": "10px",
    "top": "150px",
    "width": "239.965px"
   },
   "toc_section_display": true,
   "toc_window_display": false
  }
 },
 "nbformat": 4,
 "nbformat_minor": 5
}
